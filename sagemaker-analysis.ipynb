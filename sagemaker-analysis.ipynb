{
 "cells": [
  {
   "cell_type": "markdown",
   "metadata": {},
   "source": [
    "# Creating a Sentiment Analysis Web App\n",
    "## Using PyTorch and SageMaker\n",
    "\n",
    "_Deep Learning Nanodegree Program | Deployment_\n",
    "\n",
    "---\n",
    "\n",
    "Now that we have a basic understanding of how SageMaker works we will try to use it to construct a complete project from end to end. Our goal will be to have a simple web page which a user can use to enter a movie review. The web page will then send the review off to our deployed model which will predict the sentiment of the entered review.\n",
    "\n",
    "## Instructions\n",
    "\n",
    "Some template code has already been provided for you, and you will need to implement additional functionality to successfully complete this notebook. You will not need to modify the included code beyond what is requested. Sections that begin with '**TODO**' in the header indicate that you need to complete or implement some portion within them. Instructions will be provided for each section and the specifics of the implementation are marked in the code block with a `# TODO: ...` comment. Please be sure to read the instructions carefully!\n",
    "\n",
    "In addition to implementing code, there will be questions for you to answer which relate to the task and your implementation. Each section where you will answer a question is preceded by a '**Question:**' header. Carefully read each question and provide your answer below the '**Answer:**' header by editing the Markdown cell.\n",
    "\n",
    "> **Note**: Code and Markdown cells can be executed using the **Shift+Enter** keyboard shortcut. In addition, a cell can be edited by typically clicking it (double-click for Markdown cells) or by pressing **Enter** while it is highlighted.\n",
    "\n",
    "## General Outline\n",
    "\n",
    "Recall the general outline for SageMaker projects using a notebook instance.\n",
    "\n",
    "1. Download or otherwise retrieve the data.\n",
    "2. Process / Prepare the data.\n",
    "3. Upload the processed data to S3.\n",
    "4. Train a chosen model.\n",
    "5. Test the trained model (typically using a batch transform job).\n",
    "6. Deploy the trained model.\n",
    "7. Use the deployed model.\n",
    "\n",
    "For this project, you will be following the steps in the general outline with some modifications. \n",
    "\n",
    "First, you will not be testing the model in its own step. You will still be testing the model, however, you will do it by deploying your model and then using the deployed model by sending the test data to it. One of the reasons for doing this is so that you can make sure that your deployed model is working correctly before moving forward.\n",
    "\n",
    "In addition, you will deploy and use your trained model a second time. In the second iteration you will customize the way that your trained model is deployed by including some of your own code. In addition, your newly deployed model will be used in the sentiment analysis web app."
   ]
  },
  {
   "cell_type": "markdown",
   "metadata": {},
   "source": [
    "## Step 1: Downloading the data\n",
    "\n",
    "As in the XGBoost in SageMaker notebook, we will be using the [IMDb dataset](http://ai.stanford.edu/~amaas/data/sentiment/)\n",
    "\n",
    "> Maas, Andrew L., et al. [Learning Word Vectors for Sentiment Analysis](http://ai.stanford.edu/~amaas/data/sentiment/). In _Proceedings of the 49th Annual Meeting of the Association for Computational Linguistics: Human Language Technologies_. Association for Computational Linguistics, 2011."
   ]
  },
  {
   "cell_type": "code",
   "execution_count": 59,
   "metadata": {},
   "outputs": [
    {
     "name": "stdout",
     "output_type": "stream",
     "text": [
      "mkdir: cannot create directory ‘../data’: File exists\n",
      "--2020-10-16 20:51:39--  http://ai.stanford.edu/~amaas/data/sentiment/aclImdb_v1.tar.gz\n",
      "Resolving ai.stanford.edu (ai.stanford.edu)... 171.64.68.10\n",
      "Connecting to ai.stanford.edu (ai.stanford.edu)|171.64.68.10|:80... connected.\n",
      "HTTP request sent, awaiting response... 200 OK\n",
      "Length: 84125825 (80M) [application/x-gzip]\n",
      "Saving to: ‘../data/aclImdb_v1.tar.gz’\n",
      "\n",
      "../data/aclImdb_v1. 100%[===================>]  80.23M  25.8MB/s    in 3.3s    \n",
      "\n",
      "2020-10-16 20:51:42 (24.6 MB/s) - ‘../data/aclImdb_v1.tar.gz’ saved [84125825/84125825]\n",
      "\n"
     ]
    }
   ],
   "source": [
    "%mkdir ../data\n",
    "!wget -O ../data/aclImdb_v1.tar.gz http://ai.stanford.edu/~amaas/data/sentiment/aclImdb_v1.tar.gz\n",
    "!tar -zxf ../data/aclImdb_v1.tar.gz -C ../data"
   ]
  },
  {
   "cell_type": "markdown",
   "metadata": {},
   "source": [
    "## Step 2: Preparing and Processing the data\n",
    "\n",
    "Also, as in the XGBoost notebook, we will be doing some initial data processing. The first few steps are the same as in the XGBoost example. To begin with, we will read in each of the reviews and combine them into a single input structure. Then, we will split the dataset into a training set and a testing set."
   ]
  },
  {
   "cell_type": "code",
   "execution_count": 60,
   "metadata": {},
   "outputs": [],
   "source": [
    "import os\n",
    "import glob\n",
    "\n",
    "def read_imdb_data(data_dir='../data/aclImdb'):\n",
    "    data = {}\n",
    "    labels = {}\n",
    "    \n",
    "    for data_type in ['train', 'test']:\n",
    "        data[data_type] = {}\n",
    "        labels[data_type] = {}\n",
    "        \n",
    "        for sentiment in ['pos', 'neg']:\n",
    "            data[data_type][sentiment] = []\n",
    "            labels[data_type][sentiment] = []\n",
    "            \n",
    "            path = os.path.join(data_dir, data_type, sentiment, '*.txt')\n",
    "            files = glob.glob(path)\n",
    "            \n",
    "            for f in files:\n",
    "                with open(f) as review:\n",
    "                    data[data_type][sentiment].append(review.read())\n",
    "                    # Here we represent a positive review by '1' and a negative review by '0'\n",
    "                    labels[data_type][sentiment].append(1 if sentiment == 'pos' else 0)\n",
    "                    \n",
    "            assert len(data[data_type][sentiment]) == len(labels[data_type][sentiment]), \\\n",
    "                    \"{}/{} data size does not match labels size\".format(data_type, sentiment)\n",
    "                \n",
    "    return data, labels"
   ]
  },
  {
   "cell_type": "code",
   "execution_count": 61,
   "metadata": {},
   "outputs": [
    {
     "name": "stdout",
     "output_type": "stream",
     "text": [
      "IMDB reviews: train = 12500 pos / 12500 neg, test = 12500 pos / 12500 neg\n"
     ]
    }
   ],
   "source": [
    "data, labels = read_imdb_data()\n",
    "print(\"IMDB reviews: train = {} pos / {} neg, test = {} pos / {} neg\".format(\n",
    "            len(data['train']['pos']), len(data['train']['neg']),\n",
    "            len(data['test']['pos']), len(data['test']['neg'])))"
   ]
  },
  {
   "cell_type": "markdown",
   "metadata": {},
   "source": [
    "Now that we've read the raw training and testing data from the downloaded dataset, we will combine the positive and negative reviews and shuffle the resulting records."
   ]
  },
  {
   "cell_type": "code",
   "execution_count": 62,
   "metadata": {},
   "outputs": [],
   "source": [
    "from sklearn.utils import shuffle\n",
    "\n",
    "def prepare_imdb_data(data, labels):\n",
    "    \"\"\"Prepare training and test sets from IMDb movie reviews.\"\"\"\n",
    "    \n",
    "    #Combine positive and negative reviews and labels\n",
    "    data_train = data['train']['pos'] + data['train']['neg']\n",
    "    data_test = data['test']['pos'] + data['test']['neg']\n",
    "    labels_train = labels['train']['pos'] + labels['train']['neg']\n",
    "    labels_test = labels['test']['pos'] + labels['test']['neg']\n",
    "    \n",
    "    #Shuffle reviews and corresponding labels within training and test sets\n",
    "    data_train, labels_train = shuffle(data_train, labels_train)\n",
    "    data_test, labels_test = shuffle(data_test, labels_test)\n",
    "    \n",
    "    # Return a unified training data, test data, training labels, test labets\n",
    "    return data_train, data_test, labels_train, labels_test"
   ]
  },
  {
   "cell_type": "code",
   "execution_count": 63,
   "metadata": {},
   "outputs": [
    {
     "name": "stdout",
     "output_type": "stream",
     "text": [
      "IMDb reviews (combined): train = 25000, test = 25000\n"
     ]
    }
   ],
   "source": [
    "train_X, test_X, train_y, test_y = prepare_imdb_data(data, labels)\n",
    "print(\"IMDb reviews (combined): train = {}, test = {}\".format(len(train_X), len(test_X)))"
   ]
  },
  {
   "cell_type": "markdown",
   "metadata": {},
   "source": [
    "Now that we have our training and testing sets unified and prepared, we should do a quick check and see an example of the data our model will be trained on. This is generally a good idea as it allows you to see how each of the further processing steps affects the reviews and it also ensures that the data has been loaded correctly."
   ]
  },
  {
   "cell_type": "code",
   "execution_count": 64,
   "metadata": {},
   "outputs": [
    {
     "name": "stdout",
     "output_type": "stream",
     "text": [
      "If you've seen this movie, you've been to Puerto Rico. I've lived in Puerto Rico all my life, and have to shamefully admit that we (PR) are living a real chaos right now, drugs being the main reason for the shootings and killings we have almost every day. These people will shoot anyone, anytime and anywhere, and many innocent lives have been lost because of this. We don't feel safe anymore, and in addition to this, our so-called \"justice\" is no longer moved by truth and rightness, but by money, influence and power. \"Ladrones y Mentirosos\" is based on real, deplorable facts, and truly portrays Puerto Rico's three main problems: the drug-related killings, money and power manipulating our courtrooms, and innocent people and children being corrupted and even dying because of this. Ricardo and his wife Poli, with their true-to-life plot and their award winning direction(**), were brave enough to present all this as bad as it is: Puerto Rico is a beautiful and friendly country, living a nightmare that doesn't seem to end !!! ** They recently won the \"Copper Wing Award\" for Best Director in the World Cinema Competition at the 2006 Phoenix Film Festival.\n",
      "1\n"
     ]
    }
   ],
   "source": [
    "print(train_X[100])\n",
    "print(train_y[100])"
   ]
  },
  {
   "cell_type": "code",
   "execution_count": 65,
   "metadata": {},
   "outputs": [
    {
     "name": "stdout",
     "output_type": "stream",
     "text": [
      "Matt Cvetic is a loyal communist in a Pittsburgh steel mill who works to recruit workers into the party, even though this isolates himself from his son, family, and neighbors. What makes this even more difficult is that Cvetic is actually an FBI agent posing as a Communist in order to obtain information about party activities. The party is trying to create a strike at the mill, whereby the pro-strike movement will lead the workers into a wave of propaganda. Cvetic also has to contend with beautiful Eve Merrick, a party member and teacher at his son's school who finds the fact that Cvetic is a double agent. When Eve learns the ugly truth about the party's real motives, the reds decide she must be liquidated and Cvetic must aid her without endangering himself. The film should have plenty of suspense and double crossing but there is very little in this film but (by today's standards) very cheesy propaganda and little action or thrills. Lovejoy is very good in the main role, but even he and the rest of the cast seem listless. Few surprises here and how did this film receive a Oscar nod for best documentary? Rating, 4. 0\n"
     ]
    }
   ],
   "source": [
    "print(test_X[1], test_y[1])"
   ]
  },
  {
   "cell_type": "markdown",
   "metadata": {},
   "source": [
    "The first step in processing the reviews is to make sure that any html tags that appear should be removed. In addition we wish to tokenize our input, that way words such as *entertained* and *entertaining* are considered the same with regard to sentiment analysis."
   ]
  },
  {
   "cell_type": "code",
   "execution_count": 66,
   "metadata": {},
   "outputs": [],
   "source": [
    "import nltk\n",
    "from nltk.corpus import stopwords\n",
    "from nltk.stem.porter import *\n",
    "\n",
    "import re\n",
    "from bs4 import BeautifulSoup\n",
    "\n",
    "def review_to_words(review):\n",
    "    nltk.download(\"stopwords\", quiet=True)\n",
    "    stemmer = PorterStemmer()\n",
    "    \n",
    "    text = BeautifulSoup(review, \"html.parser\").get_text() # Remove HTML tags\n",
    "    text = re.sub(r\"[^a-zA-Z0-9]\", \" \", text.lower()) # Convert to lower case\n",
    "    words = text.split() # Split string into words\n",
    "    words = [w for w in words if w not in stopwords.words(\"english\")] # Remove stopwords\n",
    "    words = [PorterStemmer().stem(w) for w in words] # stem\n",
    "    \n",
    "    return words"
   ]
  },
  {
   "cell_type": "markdown",
   "metadata": {},
   "source": [
    "The `review_to_words` method defined above uses `BeautifulSoup` to remove any html tags that appear and uses the `nltk` package to tokenize the reviews. As a check to ensure we know how everything is working, try applying `review_to_words` to one of the reviews in the training set."
   ]
  },
  {
   "cell_type": "code",
   "execution_count": 67,
   "metadata": {},
   "outputs": [
    {
     "name": "stdout",
     "output_type": "stream",
     "text": [
      "This isn't the best Bigfoot ever made, but by the recent standards of Nature gone awry movies, mostly showing on the Sci-Fi channel, this is quality stuff. It has some action, some humor, decent F/X and Bigfoot. CG is used, but so are some practical F/X, which I like.<br /><br />Overall this movie is worth a watch if you are a fan of B horror/sci-fi and need a fix. It's better than the movie Sasquatch and not a sequel to it, so don't be fooled.<br /><br />The acting is better than you may expect to find in a movie like this and the directing is more than adequate. Expect a bit of a lul as the characters are \"developed\", but know that things will pick up. If you are watching a DVD you may want to skip a chapter or two.\n",
      "['best', 'bigfoot', 'ever', 'made', 'recent', 'standard', 'natur', 'gone', 'awri', 'movi', 'mostli', 'show', 'sci', 'fi', 'channel', 'qualiti', 'stuff', 'action', 'humor', 'decent', 'f', 'x', 'bigfoot', 'cg', 'use', 'practic', 'f', 'x', 'like', 'overal', 'movi', 'worth', 'watch', 'fan', 'b', 'horror', 'sci', 'fi', 'need', 'fix', 'better', 'movi', 'sasquatch', 'sequel', 'fool', 'act', 'better', 'may', 'expect', 'find', 'movi', 'like', 'direct', 'adequ', 'expect', 'bit', 'lul', 'charact', 'develop', 'know', 'thing', 'pick', 'watch', 'dvd', 'may', 'want', 'skip', 'chapter', 'two']\n"
     ]
    }
   ],
   "source": [
    "# TODO: Apply review_to_words to a review (train_X[100] or any other review)\n",
    "print(train_X[10])\n",
    "a = review_to_words(train_X[10])\n",
    "print(a)"
   ]
  },
  {
   "cell_type": "markdown",
   "metadata": {},
   "source": [
    "**Question:** Above we mentioned that `review_to_words` method removes html formatting and allows us to tokenize the words found in a review, for example, converting *entertained* and *entertaining* into *entertain* so that they are treated as though they are the same word. What else, if anything, does this method do to the input?"
   ]
  },
  {
   "cell_type": "markdown",
   "metadata": {},
   "source": [
    "**Answer:** After comparing the input before and after pass it in the review_to_words function, we can see that this method also removes penctuations and converts the words to lowercase, split the text into individual words and stem words."
   ]
  },
  {
   "cell_type": "markdown",
   "metadata": {},
   "source": [
    "The method below applies the `review_to_words` method to each of the reviews in the training and testing datasets. In addition it caches the results. This is because performing this processing step can take a long time. This way if you are unable to complete the notebook in the current session, you can come back without needing to process the data a second time."
   ]
  },
  {
   "cell_type": "code",
   "execution_count": 68,
   "metadata": {},
   "outputs": [],
   "source": [
    "import pickle\n",
    "\n",
    "cache_dir = os.path.join(\"../cache\", \"sentiment_analysis\")  # where to store cache files\n",
    "os.makedirs(cache_dir, exist_ok=True)  # ensure cache directory exists\n",
    "\n",
    "def preprocess_data(data_train, data_test, labels_train, labels_test,\n",
    "                    cache_dir=cache_dir, cache_file=\"preprocessed_data.pkl\"):\n",
    "    \"\"\"Convert each review to words; read from cache if available.\"\"\"\n",
    "\n",
    "    # If cache_file is not None, try to read from it first\n",
    "    cache_data = None\n",
    "    if cache_file is not None:\n",
    "        try:\n",
    "            with open(os.path.join(cache_dir, cache_file), \"rb\") as f:\n",
    "                cache_data = pickle.load(f)\n",
    "            print(\"Read preprocessed data from cache file:\", cache_file)\n",
    "        except:\n",
    "            pass  # unable to read from cache, but that's okay\n",
    "    \n",
    "    # If cache is missing, then do the heavy lifting\n",
    "    if cache_data is None:\n",
    "        # Preprocess training and test data to obtain words for each review\n",
    "        #words_train = list(map(review_to_words, data_train))\n",
    "        #words_test = list(map(review_to_words, data_test))\n",
    "        words_train = [review_to_words(review) for review in data_train]\n",
    "        words_test = [review_to_words(review) for review in data_test]\n",
    "        \n",
    "        # Write to cache file for future runs\n",
    "        if cache_file is not None:\n",
    "            cache_data = dict(words_train=words_train, words_test=words_test,\n",
    "                              labels_train=labels_train, labels_test=labels_test)\n",
    "            with open(os.path.join(cache_dir, cache_file), \"wb\") as f:\n",
    "                pickle.dump(cache_data, f)\n",
    "            print(\"Wrote preprocessed data to cache file:\", cache_file)\n",
    "    else:\n",
    "        # Unpack data loaded from cache file\n",
    "        words_train, words_test, labels_train, labels_test = (cache_data['words_train'],\n",
    "                cache_data['words_test'], cache_data['labels_train'], cache_data['labels_test'])\n",
    "    \n",
    "    return words_train, words_test, labels_train, labels_test"
   ]
  },
  {
   "cell_type": "code",
   "execution_count": 69,
   "metadata": {},
   "outputs": [
    {
     "name": "stdout",
     "output_type": "stream",
     "text": [
      "Read preprocessed data from cache file: preprocessed_data.pkl\n"
     ]
    }
   ],
   "source": [
    "# Preprocess data\n",
    "train_X, test_X, train_y, test_y = preprocess_data(train_X, test_X, train_y, test_y)"
   ]
  },
  {
   "cell_type": "markdown",
   "metadata": {},
   "source": [
    "## Transform the data\n",
    "\n",
    "In the XGBoost notebook we transformed the data from its word representation to a bag-of-words feature representation. For the model we are going to construct in this notebook we will construct a feature representation which is very similar. To start, we will represent each word as an integer. Of course, some of the words that appear in the reviews occur very infrequently and so likely don't contain much information for the purposes of sentiment analysis. The way we will deal with this problem is that we will fix the size of our working vocabulary and we will only include the words that appear most frequently. We will then combine all of the infrequent words into a single category and, in our case, we will label it as `1`.\n",
    "\n",
    "Since we will be using a recurrent neural network, it will be convenient if the length of each review is the same. To do this, we will fix a size for our reviews and then pad short reviews with the category 'no word' (which we will label `0`) and truncate long reviews."
   ]
  },
  {
   "cell_type": "markdown",
   "metadata": {},
   "source": [
    "### (TODO) Create a word dictionary\n",
    "\n",
    "To begin with, we need to construct a way to map words that appear in the reviews to integers. Here we fix the size of our vocabulary (including the 'no word' and 'infrequent' categories) to be `5000` but you may wish to change this to see how it affects the model.\n",
    "\n",
    "> **TODO:** Complete the implementation for the `build_dict()` method below. Note that even though the vocab_size is set to `5000`, we only want to construct a mapping for the most frequently appearing `4998` words. This is because we want to reserve the special labels `0` for 'no word' and `1` for 'infrequent word'."
   ]
  },
  {
   "cell_type": "code",
   "execution_count": 70,
   "metadata": {},
   "outputs": [],
   "source": [
    "import numpy as np\n",
    "\n",
    "def build_dict(data, vocab_size = 5000):\n",
    "    \"\"\"Construct and return a dictionary mapping each of the most frequently appearing words to a unique integer.\"\"\"\n",
    "    \n",
    "    # TODO: Determine how often each word appears in `data`. Note that `data` is a list of sentences and that a\n",
    "    #       sentence is a list of words.\n",
    "    \n",
    "    word_count = {} # A dict storing the words that appear in the reviews along with how often they occur\n",
    "    \n",
    "    for r in data:\n",
    "        for w in r:\n",
    "            if(w not in word_count.keys()):\n",
    "                word_count[w]=1\n",
    "            else:\n",
    "                word_count[w]+=1\n",
    "            \n",
    "    # TODO: Sort the words found in `data` so that sorted_words[0] is the most frequently appearing word and\n",
    "    #       sorted_words[-1] is the least frequently appearing word.\n",
    "    \n",
    "    sorted_words = [item[0] for item in sorted(word_count.items(), key=lambda x: x[1], reverse=True)]\n",
    "    \n",
    "    \n",
    "          \n",
    "    \n",
    "    word_dict = {} # This is what we are building, a dictionary that translates words into integers\n",
    "    for idx, word in enumerate(sorted_words[:vocab_size - 2]): # The -2 is so that we save room for the 'no word'\n",
    "        word_dict[word] = idx + 2                              # 'infrequent' labels\n",
    "        \n",
    "    return word_dict"
   ]
  },
  {
   "cell_type": "code",
   "execution_count": 71,
   "metadata": {},
   "outputs": [],
   "source": [
    "word_dict = build_dict(train_X)"
   ]
  },
  {
   "cell_type": "markdown",
   "metadata": {},
   "source": [
    "**Question:** What are the five most frequently appearing (tokenized) words in the training set? Does it makes sense that these words appear frequently in the training set?"
   ]
  },
  {
   "cell_type": "markdown",
   "metadata": {},
   "source": [
    "**Answer:**\n",
    "movi, film, one, like, time.\n",
    "Yes these words can show that something about movies was written."
   ]
  },
  {
   "cell_type": "code",
   "execution_count": 72,
   "metadata": {},
   "outputs": [
    {
     "name": "stdout",
     "output_type": "stream",
     "text": [
      "{'movi': 2, 'film': 3, 'one': 4, 'like': 5, 'time': 6, 'good': 7, 'make': 8, 'charact': 9, 'get': 10, 'see': 11, 'watch': 12, 'stori': 13, 'even': 14, 'would': 15, 'realli': 16, 'well': 17, 'scene': 18, 'look': 19, 'show': 20, 'much': 21, 'end': 22, 'peopl': 23, 'bad': 24, 'go': 25, 'great': 26, 'also': 27, 'first': 28, 'love': 29, 'think': 30, 'way': 31, 'act': 32, 'play': 33, 'made': 34, 'thing': 35, 'could': 36, 'know': 37, 'say': 38, 'seem': 39, 'work': 40, 'plot': 41, 'two': 42, 'actor': 43, 'year': 44, 'come': 45, 'mani': 46, 'seen': 47, 'take': 48, 'want': 49, 'life': 50, 'never': 51, 'littl': 52, 'best': 53, 'tri': 54, 'man': 55, 'ever': 56, 'give': 57, 'better': 58, 'still': 59, 'perform': 60, 'find': 61, 'feel': 62, 'part': 63, 'back': 64, 'use': 65, 'someth': 66, 'director': 67, 'actual': 68, 'interest': 69, 'lot': 70, 'real': 71, 'old': 72, 'cast': 73, 'though': 74, 'live': 75, 'star': 76, 'enjoy': 77, 'guy': 78, 'anoth': 79, 'new': 80, 'role': 81, 'noth': 82, '10': 83, 'funni': 84, 'music': 85, 'point': 86, 'start': 87, 'set': 88, 'girl': 89, 'origin': 90, 'day': 91, 'world': 92, 'everi': 93, 'believ': 94, 'turn': 95, 'quit': 96, 'us': 97, 'direct': 98, 'thought': 99, 'fact': 100, 'minut': 101, 'horror': 102, 'kill': 103, 'action': 104, 'comedi': 105, 'pretti': 106, 'young': 107, 'wonder': 108, 'happen': 109, 'around': 110, 'got': 111, 'effect': 112, 'right': 113, 'long': 114, 'howev': 115, 'big': 116, 'line': 117, 'famili': 118, 'enough': 119, 'seri': 120, 'may': 121, 'need': 122, 'fan': 123, 'bit': 124, 'script': 125, 'beauti': 126, 'person': 127, 'becom': 128, 'without': 129, 'must': 130, 'alway': 131, 'friend': 132, 'tell': 133, 'reason': 134, 'saw': 135, 'last': 136, 'final': 137, 'kid': 138, 'almost': 139, 'put': 140, 'least': 141, 'sure': 142, 'done': 143, 'whole': 144, 'place': 145, 'complet': 146, 'kind': 147, 'differ': 148, 'expect': 149, 'shot': 150, 'far': 151, 'mean': 152, 'anyth': 153, 'book': 154, 'laugh': 155, 'might': 156, 'name': 157, 'sinc': 158, 'begin': 159, '2': 160, 'probabl': 161, 'woman': 162, 'help': 163, 'entertain': 164, 'let': 165, 'screen': 166, 'call': 167, 'tv': 168, 'moment': 169, 'away': 170, 'read': 171, 'yet': 172, 'rather': 173, 'worst': 174, 'run': 175, 'fun': 176, 'lead': 177, 'hard': 178, 'audienc': 179, 'idea': 180, 'anyon': 181, 'episod': 182, 'american': 183, 'found': 184, 'appear': 185, 'bore': 186, 'especi': 187, 'although': 188, 'hope': 189, 'cours': 190, 'keep': 191, 'anim': 192, 'job': 193, 'goe': 194, 'move': 195, 'sens': 196, 'dvd': 197, 'version': 198, 'war': 199, 'money': 200, 'someon': 201, 'mind': 202, 'mayb': 203, 'problem': 204, 'true': 205, 'hous': 206, 'everyth': 207, 'nice': 208, 'second': 209, 'rate': 210, 'three': 211, 'night': 212, 'follow': 213, 'face': 214, 'recommend': 215, 'product': 216, 'main': 217, 'worth': 218, 'leav': 219, 'human': 220, 'special': 221, 'excel': 222, 'togeth': 223, 'wast': 224, 'sound': 225, 'everyon': 226, 'john': 227, 'hand': 228, '1': 229, 'father': 230, 'later': 231, 'eye': 232, 'said': 233, 'view': 234, 'instead': 235, 'review': 236, 'boy': 237, 'high': 238, 'hour': 239, 'miss': 240, 'talk': 241, 'classic': 242, 'wife': 243, 'understand': 244, 'left': 245, 'care': 246, 'black': 247, 'death': 248, 'open': 249, 'murder': 250, 'write': 251, 'half': 252, 'head': 253, 'rememb': 254, 'chang': 255, 'viewer': 256, 'fight': 257, 'gener': 258, 'surpris': 259, 'short': 260, 'includ': 261, 'die': 262, 'fall': 263, 'less': 264, 'els': 265, 'entir': 266, 'piec': 267, 'involv': 268, 'pictur': 269, 'simpli': 270, 'power': 271, 'home': 272, 'top': 273, 'total': 274, 'usual': 275, 'budget': 276, 'attempt': 277, 'suppos': 278, 'releas': 279, 'hollywood': 280, 'terribl': 281, 'song': 282, 'men': 283, 'possibl': 284, 'featur': 285, 'portray': 286, 'disappoint': 287, 'poor': 288, '3': 289, 'coupl': 290, 'stupid': 291, 'camera': 292, 'dead': 293, 'wrong': 294, 'produc': 295, 'low': 296, 'either': 297, 'video': 298, 'aw': 299, 'definit': 300, 'except': 301, 'rest': 302, 'given': 303, 'absolut': 304, 'women': 305, 'lack': 306, 'word': 307, 'writer': 308, 'titl': 309, 'talent': 310, 'decid': 311, 'full': 312, 'perfect': 313, 'along': 314, 'style': 315, 'close': 316, 'truli': 317, 'school': 318, 'emot': 319, 'save': 320, 'sex': 321, 'age': 322, 'next': 323, 'bring': 324, 'mr': 325, 'case': 326, 'killer': 327, 'heart': 328, 'comment': 329, 'sort': 330, 'creat': 331, 'perhap': 332, 'came': 333, 'brother': 334, 'sever': 335, 'joke': 336, 'art': 337, 'dialogu': 338, 'game': 339, 'small': 340, 'base': 341, 'flick': 342, 'written': 343, 'sequenc': 344, 'meet': 345, 'earli': 346, 'often': 347, 'other': 348, 'mother': 349, 'develop': 350, 'humor': 351, 'actress': 352, 'consid': 353, 'dark': 354, 'guess': 355, 'amaz': 356, 'unfortun': 357, 'light': 358, 'lost': 359, 'exampl': 360, 'cinema': 361, 'drama': 362, 'ye': 363, 'white': 364, 'experi': 365, 'imagin': 366, 'mention': 367, 'stop': 368, 'natur': 369, 'forc': 370, 'manag': 371, 'felt': 372, 'cut': 373, 'present': 374, 'children': 375, 'fail': 376, 'son': 377, 'car': 378, 'support': 379, 'qualiti': 380, 'ask': 381, 'hit': 382, 'side': 383, 'voic': 384, 'extrem': 385, 'impress': 386, 'wors': 387, 'evil': 388, 'stand': 389, 'went': 390, 'certainli': 391, 'basic': 392, 'oh': 393, 'overal': 394, 'favorit': 395, 'horribl': 396, 'mysteri': 397, 'number': 398, 'type': 399, 'danc': 400, 'wait': 401, 'hero': 402, 'alreadi': 403, '5': 404, 'learn': 405, 'matter': 406, '4': 407, 'michael': 408, 'genr': 409, 'fine': 410, 'despit': 411, 'throughout': 412, 'walk': 413, 'success': 414, 'histori': 415, 'question': 416, 'zombi': 417, 'town': 418, 'relationship': 419, 'realiz': 420, 'child': 421, 'past': 422, 'daughter': 423, 'late': 424, 'b': 425, 'wish': 426, 'credit': 427, 'hate': 428, 'event': 429, 'theme': 430, 'touch': 431, 'citi': 432, 'today': 433, 'sometim': 434, 'behind': 435, 'god': 436, 'twist': 437, 'sit': 438, 'annoy': 439, 'deal': 440, 'stay': 441, 'abl': 442, 'rent': 443, 'pleas': 444, 'edit': 445, 'blood': 446, 'deserv': 447, 'anyway': 448, 'comic': 449, 'appar': 450, 'soon': 451, 'gave': 452, 'etc': 453, 'level': 454, 'slow': 455, 'chanc': 456, 'score': 457, 'bodi': 458, 'brilliant': 459, 'incred': 460, 'figur': 461, 'situat': 462, 'self': 463, 'major': 464, 'stuff': 465, 'decent': 466, 'element': 467, 'dream': 468, 'return': 469, 'obvious': 470, 'continu': 471, 'order': 472, 'pace': 473, 'ridicul': 474, 'happi': 475, 'highli': 476, 'group': 477, 'add': 478, 'thank': 479, 'ladi': 480, 'novel': 481, 'speak': 482, 'pain': 483, 'career': 484, 'shoot': 485, 'strang': 486, 'heard': 487, 'sad': 488, 'husband': 489, 'polic': 490, 'import': 491, 'break': 492, 'took': 493, 'strong': 494, 'cannot': 495, 'predict': 496, 'robert': 497, 'violenc': 498, 'hilari': 499, 'recent': 500, 'countri': 501, 'known': 502, 'particularli': 503, 'pick': 504, 'documentari': 505, 'season': 506, 'critic': 507, 'jame': 508, 'compar': 509, 'alon': 510, 'obviou': 511, 'told': 512, 'state': 513, 'visual': 514, 'rock': 515, 'exist': 516, 'offer': 517, 'theater': 518, 'opinion': 519, 'gore': 520, 'crap': 521, 'hold': 522, 'result': 523, 'room': 524, 'realiti': 525, 'hear': 526, 'effort': 527, 'clich': 528, 'thriller': 529, 'caus': 530, 'serious': 531, 'sequel': 532, 'explain': 533, 'king': 534, 'local': 535, 'ago': 536, 'none': 537, 'hell': 538, 'note': 539, 'allow': 540, 'sister': 541, 'david': 542, 'simpl': 543, 'femal': 544, 'deliv': 545, 'ok': 546, 'convinc': 547, 'class': 548, 'check': 549, 'suspens': 550, 'win': 551, 'oscar': 552, 'buy': 553, 'huge': 554, 'valu': 555, 'sexual': 556, 'scari': 557, 'cool': 558, 'excit': 559, 'similar': 560, 'apart': 561, 'exactli': 562, 'provid': 563, 'avoid': 564, 'shown': 565, 'seriou': 566, 'english': 567, 'taken': 568, 'whose': 569, 'cinematographi': 570, 'shock': 571, 'polit': 572, 'spoiler': 573, 'offic': 574, 'across': 575, 'middl': 576, 'street': 577, 'pass': 578, 'messag': 579, 'somewhat': 580, 'silli': 581, 'charm': 582, 'modern': 583, 'confus': 584, 'filmmak': 585, 'form': 586, 'tale': 587, 'singl': 588, 'jack': 589, 'mostli': 590, 'carri': 591, 'attent': 592, 'william': 593, 'sing': 594, 'subject': 595, 'five': 596, 'prove': 597, 'richard': 598, 'team': 599, 'stage': 600, 'unlik': 601, 'cop': 602, 'georg': 603, 'televis': 604, 'monster': 605, 'earth': 606, 'cover': 607, 'villain': 608, 'pay': 609, 'marri': 610, 'toward': 611, 'build': 612, 'parent': 613, 'pull': 614, 'due': 615, 'respect': 616, 'fill': 617, 'four': 618, 'dialog': 619, 'remind': 620, 'futur': 621, 'weak': 622, 'typic': 623, '7': 624, 'cheap': 625, 'intellig': 626, 'british': 627, 'atmospher': 628, '80': 629, 'clearli': 630, 'non': 631, 'dog': 632, 'paul': 633, '8': 634, 'knew': 635, 'fast': 636, 'artist': 637, 'crime': 638, 'easili': 639, 'escap': 640, 'doubt': 641, 'adult': 642, 'detail': 643, 'date': 644, 'fire': 645, 'member': 646, 'romant': 647, 'drive': 648, 'gun': 649, 'straight': 650, 'fit': 651, 'beyond': 652, 'attack': 653, 'imag': 654, 'upon': 655, 'posit': 656, 'whether': 657, 'fantast': 658, 'peter': 659, 'captur': 660, 'aspect': 661, 'appreci': 662, 'ten': 663, 'plan': 664, 'discov': 665, 'remain': 666, 'period': 667, 'near': 668, 'realist': 669, 'air': 670, 'mark': 671, 'red': 672, 'dull': 673, 'adapt': 674, 'within': 675, 'spend': 676, 'lose': 677, 'materi': 678, 'color': 679, 'chase': 680, 'mari': 681, 'storylin': 682, 'forget': 683, 'bunch': 684, 'clear': 685, 'lee': 686, 'victim': 687, 'nearli': 688, 'box': 689, 'york': 690, 'inspir': 691, 'match': 692, 'finish': 693, 'mess': 694, 'standard': 695, 'easi': 696, 'truth': 697, 'suffer': 698, 'busi': 699, 'space': 700, 'bill': 701, 'dramat': 702, 'western': 703, 'e': 704, 'list': 705, 'battl': 706, 'notic': 707, 'de': 708, 'french': 709, 'ad': 710, '9': 711, 'tom': 712, 'larg': 713, 'among': 714, 'eventu': 715, 'accept': 716, 'train': 717, 'agre': 718, 'spirit': 719, 'soundtrack': 720, 'third': 721, 'teenag': 722, 'adventur': 723, 'soldier': 724, 'famou': 725, 'drug': 726, 'suggest': 727, 'sorri': 728, 'cri': 729, 'babi': 730, 'normal': 731, 'troubl': 732, 'ultim': 733, 'contain': 734, 'certain': 735, 'cultur': 736, 'romanc': 737, 'rare': 738, 'lame': 739, 'somehow': 740, 'mix': 741, 'disney': 742, 'gone': 743, 'cartoon': 744, 'student': 745, 'fear': 746, 'reveal': 747, 'kept': 748, 'suck': 749, 'attract': 750, 'appeal': 751, 'premis': 752, 'greatest': 753, 'design': 754, 'secret': 755, 'shame': 756, 'throw': 757, 'scare': 758, 'copi': 759, 'wit': 760, 'admit': 761, 'america': 762, 'brought': 763, 'relat': 764, 'particular': 765, 'screenplay': 766, 'whatev': 767, 'pure': 768, '70': 769, 'harri': 770, 'averag': 771, 'master': 772, 'describ': 773, 'male': 774, 'treat': 775, '20': 776, 'issu': 777, 'fantasi': 778, 'warn': 779, 'inde': 780, 'forward': 781, 'background': 782, 'free': 783, 'project': 784, 'japanes': 785, 'memor': 786, 'poorli': 787, 'award': 788, 'locat': 789, 'potenti': 790, 'amus': 791, 'struggl': 792, 'weird': 793, 'magic': 794, 'societi': 795, 'okay': 796, 'imdb': 797, 'doctor': 798, 'accent': 799, 'hot': 800, 'water': 801, 'alien': 802, '30': 803, 'express': 804, 'dr': 805, 'odd': 806, 'crazi': 807, 'choic': 808, 'fiction': 809, 'studio': 810, 'becam': 811, 'control': 812, 'masterpiec': 813, 'difficult': 814, 'fli': 815, 'joe': 816, 'scream': 817, 'costum': 818, 'lover': 819, 'uniqu': 820, 'refer': 821, 'remak': 822, 'girlfriend': 823, 'vampir': 824, 'prison': 825, 'execut': 826, 'wear': 827, 'jump': 828, 'wood': 829, 'unless': 830, 'creepi': 831, 'cheesi': 832, 'superb': 833, 'otherwis': 834, 'parti': 835, 'roll': 836, 'ghost': 837, 'public': 838, 'mad': 839, 'depict': 840, 'earlier': 841, 'badli': 842, 'week': 843, 'moral': 844, 'jane': 845, 'dumb': 846, 'fi': 847, 'grow': 848, 'flaw': 849, 'deep': 850, 'sci': 851, 'maker': 852, 'cat': 853, 'connect': 854, 'older': 855, 'footag': 856, 'bother': 857, 'plenti': 858, 'outsid': 859, 'stick': 860, 'gay': 861, 'catch': 862, 'co': 863, 'plu': 864, 'popular': 865, 'equal': 866, 'social': 867, 'disturb': 868, 'quickli': 869, 'perfectli': 870, 'dress': 871, '90': 872, 'era': 873, 'mistak': 874, 'lie': 875, 'ride': 876, 'previou': 877, 'combin': 878, 'concept': 879, 'band': 880, 'surviv': 881, 'rich': 882, 'answer': 883, 'front': 884, 'christma': 885, 'sweet': 886, 'insid': 887, 'eat': 888, 'bare': 889, 'concern': 890, 'listen': 891, 'beat': 892, 'ben': 893, 'c': 894, 'term': 895, 'serv': 896, 'la': 897, 'german': 898, 'meant': 899, 'hardli': 900, 'stereotyp': 901, 'innoc': 902, 'law': 903, 'desper': 904, 'memori': 905, 'promis': 906, 'intent': 907, 'cute': 908, 'steal': 909, 'inform': 910, 'variou': 911, 'brain': 912, 'post': 913, 'tone': 914, 'island': 915, 'amount': 916, 'track': 917, 'nuditi': 918, 'compani': 919, 'claim': 920, 'store': 921, 'flat': 922, '50': 923, 'hair': 924, 'land': 925, 'univers': 926, 'scott': 927, 'fairli': 928, 'kick': 929, 'danger': 930, 'player': 931, 'plain': 932, 'crew': 933, 'step': 934, 'toni': 935, 'share': 936, 'tast': 937, 'centuri': 938, 'achiev': 939, 'engag': 940, 'travel': 941, 'cold': 942, 'record': 943, 'rip': 944, 'suit': 945, 'sadli': 946, 'manner': 947, 'tension': 948, 'spot': 949, 'wrote': 950, 'intens': 951, 'fascin': 952, 'familiar': 953, 'depth': 954, 'burn': 955, 'remark': 956, 'histor': 957, 'destroy': 958, 'sleep': 959, 'purpos': 960, 'languag': 961, 'ruin': 962, 'ignor': 963, 'delight': 964, 'unbeliev': 965, 'italian': 966, 'soul': 967, 'abil': 968, 'collect': 969, 'clever': 970, 'detect': 971, 'violent': 972, 'rape': 973, 'reach': 974, 'door': 975, 'liter': 976, 'scienc': 977, 'trash': 978, 'caught': 979, 'reveng': 980, 'commun': 981, 'creatur': 982, 'trip': 983, 'approach': 984, 'intrigu': 985, 'fashion': 986, 'skill': 987, 'introduc': 988, 'paint': 989, 'complex': 990, 'channel': 991, 'camp': 992, 'christian': 993, 'extra': 994, 'hole': 995, 'mental': 996, 'immedi': 997, 'limit': 998, 'ann': 999, 'slightli': 1000, 'comput': 1001, 'mere': 1002, 'million': 1003, '6': 1004, 'conclus': 1005, 'slasher': 1006, 'imposs': 1007, 'suddenli': 1008, 'crimin': 1009, 'teen': 1010, 'neither': 1011, 'nation': 1012, 'physic': 1013, 'spent': 1014, 'respons': 1015, 'planet': 1016, 'receiv': 1017, 'fake': 1018, 'sick': 1019, 'blue': 1020, 'bizarr': 1021, 'embarrass': 1022, 'indian': 1023, '15': 1024, 'ring': 1025, 'pop': 1026, 'drop': 1027, 'drag': 1028, 'haunt': 1029, 'suspect': 1030, 'pointless': 1031, 'search': 1032, 'edg': 1033, 'handl': 1034, 'biggest': 1035, 'common': 1036, 'arriv': 1037, 'faith': 1038, 'hurt': 1039, 'technic': 1040, 'angel': 1041, 'dad': 1042, 'genuin': 1043, 'f': 1044, 'awesom': 1045, 'solid': 1046, 'van': 1047, 'colleg': 1048, 'focu': 1049, 'former': 1050, 'count': 1051, 'heavi': 1052, 'tear': 1053, 'wall': 1054, 'rais': 1055, 'laughabl': 1056, 'younger': 1057, 'visit': 1058, 'sign': 1059, 'fair': 1060, 'excus': 1061, 'cult': 1062, 'tough': 1063, 'key': 1064, 'motion': 1065, 'desir': 1066, 'super': 1067, 'stun': 1068, 'addit': 1069, 'exploit': 1070, 'cloth': 1071, 'tortur': 1072, 'smith': 1073, 'race': 1074, 'davi': 1075, 'cross': 1076, 'author': 1077, 'jim': 1078, 'minor': 1079, 'compel': 1080, 'focus': 1081, 'consist': 1082, 'pathet': 1083, 'chemistri': 1084, 'commit': 1085, 'park': 1086, 'tradit': 1087, 'frank': 1088, 'obsess': 1089, 'grade': 1090, 'asid': 1091, '60': 1092, 'brutal': 1093, 'somewher': 1094, 'steve': 1095, 'explor': 1096, 'opportun': 1097, 'rule': 1098, 'u': 1099, 'grant': 1100, 'depress': 1101, 'besid': 1102, 'honest': 1103, 'dub': 1104, 'anti': 1105, 'intend': 1106, 'trailer': 1107, 'bar': 1108, 'longer': 1109, 'regard': 1110, 'west': 1111, 'scientist': 1112, 'decad': 1113, 'judg': 1114, 'silent': 1115, 'creativ': 1116, 'armi': 1117, 'wild': 1118, 'stewart': 1119, 'g': 1120, 'south': 1121, 'draw': 1122, 'road': 1123, 'govern': 1124, 'boss': 1125, 'ex': 1126, 'practic': 1127, 'surprisingli': 1128, 'club': 1129, 'festiv': 1130, 'motiv': 1131, 'gang': 1132, 'london': 1133, 'redeem': 1134, 'green': 1135, 'page': 1136, 'display': 1137, 'aliv': 1138, 'idiot': 1139, 'machin': 1140, 'militari': 1141, 'repeat': 1142, 'thrill': 1143, 'yeah': 1144, 'folk': 1145, '100': 1146, 'nobodi': 1147, '40': 1148, 'journey': 1149, 'garbag': 1150, 'smile': 1151, 'tire': 1152, 'ground': 1153, 'mood': 1154, 'bought': 1155, 'stone': 1156, 'cost': 1157, 'sam': 1158, 'mouth': 1159, 'noir': 1160, 'terrif': 1161, 'agent': 1162, 'utterli': 1163, 'requir': 1164, 'honestli': 1165, 'area': 1166, 'sexi': 1167, 'geniu': 1168, 'report': 1169, 'enter': 1170, 'investig': 1171, 'glad': 1172, 'humour': 1173, 'serial': 1174, 'occasion': 1175, 'narr': 1176, 'passion': 1177, 'marriag': 1178, 'climax': 1179, 'industri': 1180, 'studi': 1181, 'nowher': 1182, 'ship': 1183, 'demon': 1184, 'center': 1185, 'charli': 1186, 'bear': 1187, 'loos': 1188, 'hors': 1189, 'wow': 1190, 'hang': 1191, 'graphic': 1192, 'admir': 1193, 'giant': 1194, 'send': 1195, 'damn': 1196, 'loud': 1197, 'nake': 1198, 'subtl': 1199, 'profession': 1200, 'rel': 1201, 'blow': 1202, 'bottom': 1203, 'insult': 1204, 'batman': 1205, 'doubl': 1206, 'boyfriend': 1207, 'r': 1208, 'kelli': 1209, 'initi': 1210, 'frame': 1211, 'gem': 1212, 'opera': 1213, 'drawn': 1214, 'challeng': 1215, 'cinemat': 1216, 'affect': 1217, 'church': 1218, 'fulli': 1219, 'seek': 1220, 'nightmar': 1221, 'j': 1222, 'l': 1223, 'evid': 1224, 'conflict': 1225, 'arm': 1226, 'essenti': 1227, 'christoph': 1228, 'henri': 1229, 'grace': 1230, 'wind': 1231, 'witch': 1232, 'narrat': 1233, 'assum': 1234, 'push': 1235, 'hunt': 1236, 'wise': 1237, 'chri': 1238, 'repres': 1239, 'nomin': 1240, 'month': 1241, 'hide': 1242, 'sceneri': 1243, 'affair': 1244, 'avail': 1245, 'thu': 1246, 'justic': 1247, 'smart': 1248, 'bond': 1249, 'flashback': 1250, 'outstand': 1251, 'interview': 1252, 'satisfi': 1253, 'constantli': 1254, 'presenc': 1255, 'bed': 1256, 'central': 1257, 'sell': 1258, 'content': 1259, 'iron': 1260, 'gag': 1261, 'everybodi': 1262, 'slowli': 1263, 'hotel': 1264, 'hire': 1265, 'system': 1266, 'charl': 1267, 'individu': 1268, 'adam': 1269, 'thrown': 1270, 'hey': 1271, 'mediocr': 1272, 'allen': 1273, 'jone': 1274, 'ray': 1275, 'lesson': 1276, 'billi': 1277, 'photographi': 1278, 'cameo': 1279, 'pari': 1280, 'fellow': 1281, 'strike': 1282, 'brief': 1283, 'rise': 1284, 'independ': 1285, 'absurd': 1286, 'neg': 1287, 'impact': 1288, 'phone': 1289, 'born': 1290, 'model': 1291, 'ill': 1292, 'spoil': 1293, 'fresh': 1294, 'angl': 1295, 'likabl': 1296, 'abus': 1297, 'discuss': 1298, 'hill': 1299, 'ahead': 1300, 'sight': 1301, 'photograph': 1302, 'sent': 1303, 'blame': 1304, 'logic': 1305, 'shine': 1306, 'occur': 1307, 'bruce': 1308, 'mainli': 1309, 'skip': 1310, 'commerci': 1311, 'forev': 1312, 'surround': 1313, 'teacher': 1314, 'held': 1315, 'segment': 1316, 'zero': 1317, 'blond': 1318, 'resembl': 1319, 'summer': 1320, 'satir': 1321, 'trap': 1322, 'queen': 1323, 'ball': 1324, 'fool': 1325, 'six': 1326, 'sub': 1327, 'twice': 1328, 'tragedi': 1329, 'reaction': 1330, 'pack': 1331, 'bomb': 1332, 'hospit': 1333, 'protagonist': 1334, 'will': 1335, 'mile': 1336, 'sport': 1337, 'trust': 1338, 'mom': 1339, 'vote': 1340, 'drink': 1341, 'jerri': 1342, 'encount': 1343, 'plane': 1344, 'program': 1345, 'current': 1346, 'al': 1347, 'station': 1348, 'celebr': 1349, 'martin': 1350, 'choos': 1351, 'join': 1352, 'tragic': 1353, 'round': 1354, 'favourit': 1355, 'field': 1356, 'lord': 1357, 'robot': 1358, 'vision': 1359, 'jean': 1360, 'tie': 1361, 'arthur': 1362, 'random': 1363, 'fortun': 1364, 'roger': 1365, 'psycholog': 1366, 'intern': 1367, 'dread': 1368, 'epic': 1369, 'improv': 1370, 'nonsens': 1371, 'prefer': 1372, 'highlight': 1373, 'pleasur': 1374, 'formula': 1375, 'legend': 1376, '11': 1377, 'dollar': 1378, 'tape': 1379, 'wide': 1380, 'gorgeou': 1381, 'fox': 1382, 'thin': 1383, 'porn': 1384, 'object': 1385, 'buddi': 1386, 'ugli': 1387, 'influenc': 1388, 'nasti': 1389, 'ii': 1390, 'prepar': 1391, 'warm': 1392, 'reflect': 1393, 'progress': 1394, 'supposedli': 1395, 'worthi': 1396, 'youth': 1397, 'latter': 1398, 'length': 1399, 'unusu': 1400, 'crash': 1401, 'superior': 1402, 'seven': 1403, 'shop': 1404, 'childhood': 1405, 'remot': 1406, 'theatr': 1407, 'funniest': 1408, 'paid': 1409, 'pilot': 1410, 'disgust': 1411, 'convers': 1412, 'trick': 1413, 'fell': 1414, 'castl': 1415, 'gangster': 1416, 'disast': 1417, 'establish': 1418, 'rob': 1419, 'disappear': 1420, 'ident': 1421, 'suicid': 1422, 'heaven': 1423, 'mine': 1424, 'forgotten': 1425, 'mask': 1426, 'singer': 1427, 'heroin': 1428, 'tend': 1429, 'decis': 1430, 'brian': 1431, 'partner': 1432, 'recogn': 1433, 'desert': 1434, 'alan': 1435, 'p': 1436, 'stuck': 1437, 'thoroughli': 1438, 'sky': 1439, 'ms': 1440, 'accur': 1441, 'replac': 1442, 'market': 1443, 'commentari': 1444, 'uncl': 1445, 'danni': 1446, 'seemingli': 1447, 'clue': 1448, 'andi': 1449, 'eddi': 1450, 'devil': 1451, 'jackson': 1452, 'pair': 1453, 'refus': 1454, 'therefor': 1455, 'that': 1456, 'fate': 1457, 'fault': 1458, 'unit': 1459, 'ed': 1460, 'river': 1461, 'accid': 1462, 'afraid': 1463, 'tune': 1464, 'russian': 1465, 'clean': 1466, 'stephen': 1467, 'hidden': 1468, 'quick': 1469, 'captain': 1470, 'instanc': 1471, 'irrit': 1472, 'convey': 1473, 'test': 1474, 'readi': 1475, 'european': 1476, 'daniel': 1477, 'insan': 1478, 'frustrat': 1479, 'food': 1480, '1950': 1481, 'wed': 1482, 'chines': 1483, 'rescu': 1484, 'dirti': 1485, 'lock': 1486, 'angri': 1487, 'joy': 1488, 'price': 1489, 'steven': 1490, 'cage': 1491, 'bland': 1492, 'rang': 1493, 'anymor': 1494, 'wooden': 1495, 'jason': 1496, 'rush': 1497, 'n': 1498, 'news': 1499, '12': 1500, 'board': 1501, 'worri': 1502, 'twenti': 1503, 'martial': 1504, 'led': 1505, 'cgi': 1506, 'symbol': 1507, 'transform': 1508, 'hunter': 1509, 'piti': 1510, 'invent': 1511, 'sentiment': 1512, 'onto': 1513, 'johnni': 1514, 'x': 1515, 'process': 1516, 'attitud': 1517, 'explan': 1518, 'awar': 1519, 'owner': 1520, 'aim': 1521, 'energi': 1522, 'favor': 1523, 'target': 1524, 'floor': 1525, 'necessari': 1526, 'opposit': 1527, 'religi': 1528, 'chick': 1529, 'window': 1530, 'blind': 1531, 'insight': 1532, 'movement': 1533, 'possess': 1534, 'comparison': 1535, 'mountain': 1536, 'research': 1537, 'deepli': 1538, 'rain': 1539, 'whatsoev': 1540, 'grand': 1541, 'comed': 1542, 'bank': 1543, 'shadow': 1544, 'began': 1545, 'mid': 1546, 'princ': 1547, 'parodi': 1548, 'friendship': 1549, 'pre': 1550, 'weapon': 1551, 'credibl': 1552, 'taylor': 1553, 'teach': 1554, 'flesh': 1555, 'dougla': 1556, 'hint': 1557, 'protect': 1558, 'bloodi': 1559, 'terror': 1560, 'marvel': 1561, 'anybodi': 1562, 'watchabl': 1563, 'drunk': 1564, 'accord': 1565, 'leader': 1566, 'superman': 1567, 'load': 1568, 'brown': 1569, 'freddi': 1570, 'hitler': 1571, 'seat': 1572, 'tim': 1573, 'appropri': 1574, 'jeff': 1575, 'charg': 1576, 'unknown': 1577, 'keaton': 1578, 'knock': 1579, 'villag': 1580, 'media': 1581, 'empti': 1582, 'england': 1583, 'unnecessari': 1584, 'enemi': 1585, 'utter': 1586, 'perspect': 1587, 'strength': 1588, 'buck': 1589, 'wave': 1590, 'craft': 1591, 'dare': 1592, 'correct': 1593, 'contrast': 1594, 'kiss': 1595, 'nativ': 1596, 'ford': 1597, 'speed': 1598, 'knowledg': 1599, 'anywher': 1600, 'soap': 1601, 'chill': 1602, 'distract': 1603, 'magnific': 1604, 'nazi': 1605, '1980': 1606, 'mission': 1607, 'ice': 1608, 'fred': 1609, 'breath': 1610, 'crowd': 1611, 'jr': 1612, 'moon': 1613, 'joan': 1614, 'frighten': 1615, '000': 1616, 'soft': 1617, 'kate': 1618, 'dan': 1619, 'hundr': 1620, 'dick': 1621, 'nick': 1622, 'simon': 1623, 'somebodi': 1624, 'dozen': 1625, 'radio': 1626, 'thousand': 1627, 'academi': 1628, 'loss': 1629, 'shakespear': 1630, 'andrew': 1631, 'sum': 1632, 'root': 1633, 'vehicl': 1634, 'quot': 1635, 'account': 1636, '1970': 1637, 'behavior': 1638, 'convent': 1639, 'leg': 1640, 'regular': 1641, 'gold': 1642, 'demand': 1643, 'compet': 1644, 'worker': 1645, 'pretenti': 1646, 'interpret': 1647, 'candi': 1648, 'notabl': 1649, 'lynch': 1650, 'privat': 1651, 'japan': 1652, 'stretch': 1653, 'explos': 1654, 'constant': 1655, 'debut': 1656, 'tarzan': 1657, 'spi': 1658, 'sea': 1659, 'translat': 1660, 'revolv': 1661, 'prais': 1662, 'technolog': 1663, 'ass': 1664, 'threaten': 1665, 'quiet': 1666, 'sat': 1667, 'franc': 1668, 'jesu': 1669, 'failur': 1670, 'higher': 1671, 'toy': 1672, 'kevin': 1673, 'aid': 1674, 'met': 1675, 'punch': 1676, 'interact': 1677, 'vh': 1678, 'abandon': 1679, 'mike': 1680, 'confront': 1681, 'bet': 1682, 'command': 1683, 'separ': 1684, 'recal': 1685, 'gotten': 1686, 'belong': 1687, 'stunt': 1688, 'techniqu': 1689, 'servic': 1690, 'site': 1691, 'bug': 1692, 'cabl': 1693, 'foot': 1694, 'freak': 1695, 'fu': 1696, 'capabl': 1697, 'jimmi': 1698, 'bright': 1699, 'african': 1700, 'succeed': 1701, 'boat': 1702, 'clark': 1703, 'fat': 1704, 'presid': 1705, 'stock': 1706, 'structur': 1707, 'spanish': 1708, 'gene': 1709, 'paper': 1710, 'kidnap': 1711, 'whilst': 1712, 'belief': 1713, 'factor': 1714, 'bob': 1715, 'realism': 1716, 'tree': 1717, 'complic': 1718, 'realis': 1719, 'attend': 1720, 'witti': 1721, 'educ': 1722, 'broken': 1723, 'santa': 1724, 'assist': 1725, 'finest': 1726, 'depart': 1727, 'smoke': 1728, 'determin': 1729, 'v': 1730, 'up': 1731, 'observ': 1732, 'rubbish': 1733, 'routin': 1734, 'fame': 1735, 'oper': 1736, 'domin': 1737, 'hat': 1738, 'lewi': 1739, 'safe': 1740, 'advanc': 1741, 'kinda': 1742, 'morgan': 1743, 'foreign': 1744, 'hook': 1745, 'lone': 1746, 'rank': 1747, 'numer': 1748, 'washington': 1749, 'vs': 1750, 'werewolf': 1751, 'shallow': 1752, 'rose': 1753, 'civil': 1754, 'shape': 1755, 'gari': 1756, 'morn': 1757, 'ordinari': 1758, 'winner': 1759, 'accomplish': 1760, 'kong': 1761, 'virtual': 1762, 'whenev': 1763, 'grab': 1764, 'peac': 1765, 'luck': 1766, 'h': 1767, 'offens': 1768, 'activ': 1769, 'unfunni': 1770, 'bigger': 1771, 'complain': 1772, 'patient': 1773, 'welcom': 1774, 'contriv': 1775, 'pretend': 1776, 'trek': 1777, 'dimension': 1778, 'con': 1779, 'flash': 1780, 'wake': 1781, 'lesbian': 1782, 'cain': 1783, 'code': 1784, 'dri': 1785, 'eric': 1786, 'guard': 1787, 'statu': 1788, 'corrupt': 1789, 'manipul': 1790, 'dancer': 1791, 'albert': 1792, 'speech': 1793, 'sourc': 1794, 'signific': 1795, 'context': 1796, 'gain': 1797, 'awkward': 1798, 'corni': 1799, 'anthoni': 1800, 'clip': 1801, '13': 1802, 'sean': 1803, 'psycho': 1804, 'reli': 1805, 'religion': 1806, 'theatric': 1807, 'w': 1808, 'advic': 1809, 'curiou': 1810, 'priest': 1811, 'flow': 1812, 'addict': 1813, 'asian': 1814, 'specif': 1815, 'howard': 1816, 'skin': 1817, 'secur': 1818, 'jennif': 1819, 'promot': 1820, 'organ': 1821, 'core': 1822, 'comfort': 1823, 'golden': 1824, 'luke': 1825, 'cash': 1826, 'lucki': 1827, 'cheat': 1828, 'associ': 1829, 'dislik': 1830, 'lower': 1831, 'devic': 1832, 'wing': 1833, 'degre': 1834, 'frankli': 1835, 'frequent': 1836, 'contribut': 1837, 'spell': 1838, 'regret': 1839, 'balanc': 1840, 'sake': 1841, 'print': 1842, 'forgiv': 1843, 'lake': 1844, 'thoma': 1845, 'mass': 1846, 'betti': 1847, 'gordon': 1848, 'unexpect': 1849, 'crack': 1850, 'unfold': 1851, 'depend': 1852, 'amateur': 1853, 'invit': 1854, 'categori': 1855, 'construct': 1856, 'grown': 1857, 'condit': 1858, 'intellectu': 1859, 'matur': 1860, 'walter': 1861, 'honor': 1862, 'grew': 1863, 'anna': 1864, 'sole': 1865, 'veteran': 1866, 'sudden': 1867, 'spectacular': 1868, 'mirror': 1869, 'freedom': 1870, 'liner': 1871, 'grip': 1872, 'card': 1873, 'meanwhil': 1874, 'gift': 1875, 'demonstr': 1876, 'experienc': 1877, 'overli': 1878, 'robin': 1879, 'colour': 1880, 'drew': 1881, 'unabl': 1882, 'circumst': 1883, 'sheriff': 1884, 'oliv': 1885, 'crappi': 1886, 'section': 1887, 'subtitl': 1888, 'brilliantli': 1889, 'theori': 1890, 'altern': 1891, 'pile': 1892, 'laughter': 1893, 'sheer': 1894, 'matt': 1895, 'parker': 1896, 'path': 1897, 'cook': 1898, 'wander': 1899, 'accident': 1900, 'relief': 1901, 'treatment': 1902, 'defin': 1903, 'lawyer': 1904, 'sinatra': 1905, 'hall': 1906, 'dragon': 1907, 'hank': 1908, 'captiv': 1909, 'moor': 1910, 'gratuit': 1911, 'halloween': 1912, 'kung': 1913, 'cowboy': 1914, 'broadway': 1915, 'wound': 1916, 'unintent': 1917, 'k': 1918, 'wayn': 1919, 'barbara': 1920, 'jacki': 1921, 'spoof': 1922, 'surreal': 1923, 'winter': 1924, 'statement': 1925, 'canadian': 1926, 'treasur': 1927, 'cheer': 1928, 'fare': 1929, 'gonna': 1930, 'compos': 1931, 'fish': 1932, 'woodi': 1933, 'emerg': 1934, 'unrealist': 1935, 'sensit': 1936, 'victor': 1937, 'neighbor': 1938, 'ran': 1939, 'driven': 1940, 'sympathet': 1941, 'overlook': 1942, 'expos': 1943, 'glass': 1944, 'authent': 1945, 'topic': 1946, 'menac': 1947, 'michel': 1948, 'ancient': 1949, 'gross': 1950, 'handsom': 1951, 'chief': 1952, 'pleasant': 1953, 'nevertheless': 1954, 'stranger': 1955, 'network': 1956, 'contemporari': 1957, 'built': 1958, 'feet': 1959, 'comedian': 1960, 'cinderella': 1961, 'russel': 1962, 'endless': 1963, 'gori': 1964, 'blockbust': 1965, 'consider': 1966, 'earn': 1967, 'letter': 1968, 'miser': 1969, 'underr': 1970, 'solv': 1971, 'brook': 1972, 'switch': 1973, 'convict': 1974, 'bullet': 1975, 'edward': 1976, 'joseph': 1977, 'victoria': 1978, 'virgin': 1979, '0': 1980, 'cynic': 1981, 'chosen': 1982, 'scenario': 1983, 'scale': 1984, 'alex': 1985, 'curs': 1986, 'com': 1987, 'outrag': 1988, 'sword': 1989, 'gut': 1990, 'monkey': 1991, 'wrap': 1992, 'screenwrit': 1993, 'substanc': 1994, 'juli': 1995, 'uk': 1996, 'driver': 1997, 'proper': 1998, 'par': 1999, 'court': 2000, 'indic': 2001, 'remov': 2002, 'bird': 2003, 'inevit': 2004, 'naiv': 2005, 'advertis': 2006, 'consequ': 2007, 'loser': 2008, 'roy': 2009, 'grave': 2010, 'rental': 2011, 'nanci': 2012, 'le': 2013, 'germani': 2014, 'bridg': 2015, 'slap': 2016, 'fatal': 2017, 'invis': 2018, 'brave': 2019, 'provok': 2020, 'ador': 2021, 'anger': 2022, 'footbal': 2023, 'loui': 2024, 'alcohol': 2025, 'anderson': 2026, 'chan': 2027, 'willi': 2028, 'ryan': 2029, 'stumbl': 2030, 'professor': 2031, 'sharp': 2032, 'bat': 2033, '1930': 2034, 'assassin': 2035, 'australian': 2036, 'patrick': 2037, 'saturday': 2038, 'trilog': 2039, 'strongli': 2040, 'lousi': 2041, 'liber': 2042, 'heck': 2043, 'cell': 2044, 'amateurish': 2045, 'refresh': 2046, 'eight': 2047, 'ape': 2048, 'deni': 2049, 'sin': 2050, 'justifi': 2051, 'vagu': 2052, 'resid': 2053, 'san': 2054, 'terrifi': 2055, 'indi': 2056, 'reput': 2057, 'defeat': 2058, 'mini': 2059, 'sympathi': 2060, 'creator': 2061, 'prevent': 2062, 'expert': 2063, 'endur': 2064, 'tabl': 2065, 'task': 2066, 'tediou': 2067, 'imit': 2068, 'rival': 2069, 'employ': 2070, 'basebal': 2071, 'offend': 2072, 'trial': 2073, 'che': 2074, 'weekend': 2075, 'complaint': 2076, 'pitch': 2077, 'dig': 2078, 'fairi': 2079, 'europ': 2080, 'max': 2081, 'beach': 2082, 'risk': 2083, 'format': 2084, 'purchas': 2085, 'murphi': 2086, 'reminisc': 2087, 'tini': 2088, 'nois': 2089, 'glimps': 2090, 'bite': 2091, 'powel': 2092, 'titan': 2093, 'harsh': 2094, 'hype': 2095, 'asleep': 2096, 'fals': 2097, 'strip': 2098, 'till': 2099, '14': 2100, 'north': 2101, 'prime': 2102, 'descript': 2103, 'africa': 2104, 'revel': 2105, 'destruct': 2106, 'texa': 2107, 'sitcom': 2108, 'inner': 2109, 'arrest': 2110, 'semi': 2111, 'uninterest': 2112, 'surfac': 2113, 'excess': 2114, 'spin': 2115, 'twin': 2116, 'hitchcock': 2117, 'argu': 2118, 'dinosaur': 2119, 'controversi': 2120, 'massiv': 2121, 'makeup': 2122, 'maintain': 2123, 'ludicr': 2124, 'ideal': 2125, 'stare': 2126, 'melodrama': 2127, 'expens': 2128, 'reject': 2129, 'kim': 2130, 'insist': 2131, 'subplot': 2132, 'host': 2133, 'ga': 2134, 'forest': 2135, 'ala': 2136, 'atroci': 2137, 'nail': 2138, 'press': 2139, 'supernatur': 2140, 'erot': 2141, 'columbo': 2142, 'dude': 2143, 'notch': 2144, 'cant': 2145, 'identifi': 2146, 'presum': 2147, 'plagu': 2148, 'crude': 2149, 'closer': 2150, 'guest': 2151, 'character': 2152, 'method': 2153, 'forgett': 2154, 'landscap': 2155, 'beast': 2156, 'ear': 2157, 'princess': 2158, 'border': 2159, 'lion': 2160, 'foster': 2161, 'jungl': 2162, 'storytel': 2163, 'urban': 2164, 'bound': 2165, 'birth': 2166, 'previous': 2167, 'accus': 2168, 'aunt': 2169, 'pacino': 2170, 'damag': 2171, 'jess': 2172, 'nude': 2173, 'doll': 2174, 'thirti': 2175, 'propaganda': 2176, 'chose': 2177, 'guid': 2178, 'emma': 2179, 'warrior': 2180, 'whoever': 2181, 'pet': 2182, '25': 2183, 'mainstream': 2184, 'mate': 2185, 'upset': 2186, 'cooper': 2187, 'gritti': 2188, 'deadli': 2189, 'size': 2190, 'poster': 2191, 'merit': 2192, 'friday': 2193, 'latest': 2194, 'exact': 2195, 'blend': 2196, 'contact': 2197, 'contest': 2198, 'popul': 2199, '1990': 2200, 'buff': 2201, 'rough': 2202, 'settl': 2203, 'citizen': 2204, 'warner': 2205, 'wilson': 2206, 'ton': 2207, 'sun': 2208, 'corps': 2209, 'bu': 2210, 'pitt': 2211, 'widow': 2212, 'rat': 2213, 'overcom': 2214, 'metal': 2215, 'alic': 2216, 'select': 2217, 'environ': 2218, 'mgm': 2219, 'revolut': 2220, 'lift': 2221, 'particip': 2222, 'link': 2223, 'guilti': 2224, 'ted': 2225, 'afternoon': 2226, 'moron': 2227, 'prostitut': 2228, 'johnson': 2229, 'matrix': 2230, 'accompani': 2231, 'corner': 2232, 'corpor': 2233, 'exagger': 2234, '1960': 2235, 'leagu': 2236, 'doom': 2237, 'instal': 2238, 'holm': 2239, 'sincer': 2240, 'friendli': 2241, 'multipl': 2242, 'clair': 2243, 'hood': 2244, 'aka': 2245, 'blah': 2246, 'defend': 2247, 'examin': 2248, 'sunday': 2249, 'junk': 2250, 'hip': 2251, 'advis': 2252, 'grim': 2253, 'campi': 2254, 'string': 2255, 'lugosi': 2256, 'irish': 2257, 'shake': 2258, 'rachel': 2259, 'confid': 2260, 'shut': 2261, 'pro': 2262, 'varieti': 2263, 'tight': 2264, 'icon': 2265, 'directli': 2266, 'goal': 2267, 'medic': 2268, 'sullivan': 2269, 'mexican': 2270, 'attach': 2271, 'jaw': 2272, 'denni': 2273, 'breast': 2274, 'vietnam': 2275, 'terrorist': 2276, 'courag': 2277, 'dean': 2278, 'prior': 2279, 'sentenc': 2280, 'sarah': 2281, 'legendari': 2282, 'duke': 2283, 'truck': 2284, 'bourn': 2285, 'entri': 2286, 'behav': 2287, 'yell': 2288, 'proceed': 2289, 'split': 2290, 'hong': 2291, 'donald': 2292, 'nose': 2293, 'un': 2294, 'gather': 2295, 'stolen': 2296, 'borrow': 2297, 'jerk': 2298, 'concentr': 2299, 'swim': 2300, 'confess': 2301, 'everywher': 2302, 'unconvinc': 2303, 'buri': 2304, 'crush': 2305, 'forth': 2306, 'lifetim': 2307, 'julia': 2308, 'turkey': 2309, 'spite': 2310, 'pan': 2311, 'deliveri': 2312, 'lip': 2313, 'california': 2314, 'downright': 2315, 'hoffman': 2316, 'offici': 2317, 'reward': 2318, 'proud': 2319, 'china': 2320, 'quest': 2321, 'freeman': 2322, 'flight': 2323, 'notori': 2324, 'fabul': 2325, 'fade': 2326, 'worthwhil': 2327, 'inept': 2328, 'jon': 2329, 'encourag': 2330, 'lazi': 2331, 'jail': 2332, 'sink': 2333, 'sir': 2334, 'betray': 2335, 'imageri': 2336, 'shower': 2337, 'storm': 2338, 'susan': 2339, 'relev': 2340, 'branagh': 2341, 'bell': 2342, 'bag': 2343, 'retard': 2344, 'cousin': 2345, 'teeth': 2346, 'survivor': 2347, 'lisa': 2348, 'quirki': 2349, 'trade': 2350, 'toler': 2351, 'bride': 2352, 'summari': 2353, 'finger': 2354, 'tremend': 2355, 'alright': 2356, 'hugh': 2357, 'facial': 2358, 'mexico': 2359, 'stab': 2360, 'shark': 2361, 'bitter': 2362, 'ha': 2363, 'blown': 2364, 'von': 2365, 'hyster': 2366, 'pose': 2367, 'afterward': 2368, 'address': 2369, 'scheme': 2370, 'ron': 2371, 'ned': 2372, 'christ': 2373, 'cruel': 2374, 'larri': 2375, 'bone': 2376, 'swear': 2377, 'beg': 2378, 'traci': 2379, 'screw': 2380, 'thumb': 2381, 'distinct': 2382, 'feed': 2383, 'snake': 2384, 'tour': 2385, 'pursu': 2386, 'chair': 2387, 'obscur': 2388, 'occas': 2389, 'raw': 2390, 'stomach': 2391, 'mechan': 2392, 'photo': 2393, 'cabin': 2394, 'chain': 2395, 'holiday': 2396, 'heavili': 2397, 'render': 2398, 'resist': 2399, 'gruesom': 2400, 'southern': 2401, 'necessarili': 2402, 'argument': 2403, 'hardi': 2404, 'sidney': 2405, 'understood': 2406, 'indulg': 2407, 'satan': 2408, 'india': 2409, 'racist': 2410, 'philip': 2411, 'integr': 2412, 'fourth': 2413, 'tongu': 2414, 'midnight': 2415, 'pregnant': 2416, 'belov': 2417, 'outfit': 2418, 'forgot': 2419, 'lay': 2420, 'obnoxi': 2421, 'stalk': 2422, 'carol': 2423, 'inhabit': 2424, 'magazin': 2425, 'restor': 2426, 'garden': 2427, 'slapstick': 2428, '17': 2429, 'ticket': 2430, 'deeper': 2431, 'brad': 2432, 'devot': 2433, 'shoe': 2434, 'incid': 2435, 'lincoln': 2436, 'underground': 2437, 'guarante': 2438, 'elizabeth': 2439, 'benefit': 2440, 'anticip': 2441, 'divorc': 2442, 'lili': 2443, 'sandler': 2444, 'disbelief': 2445, 'maria': 2446, 'capit': 2447, 'bbc': 2448, 'explod': 2449, 'greater': 2450, 'slave': 2451, 'mildli': 2452, 'amazingli': 2453, 'princip': 2454, 'cring': 2455, 'creation': 2456, 'funnier': 2457, 'halfway': 2458, 'introduct': 2459, 'lesli': 2460, 'extraordinari': 2461, 'overwhelm': 2462, 'text': 2463, 'tap': 2464, 'punish': 2465, 'wreck': 2466, 'advantag': 2467, 'enhanc': 2468, 'transfer': 2469, 'extent': 2470, 'east': 2471, 'error': 2472, 'jessica': 2473, 'horrif': 2474, 'lo': 2475, 'plant': 2476, 'preview': 2477, 'lane': 2478, 'deliber': 2479, 'dynam': 2480, 'appli': 2481, 'sophist': 2482, 'vacat': 2483, 'ensu': 2484, 'miller': 2485, 'homosexu': 2486, 'basi': 2487, '2000': 2488, 'vincent': 2489, 'miscast': 2490, 'via': 2491, 'spoken': 2492, 'reed': 2493, 'mansion': 2494, 'steel': 2495, 'elev': 2496, 'sleazi': 2497, 'bollywood': 2498, 'extend': 2499, 'measur': 2500, 'uncomfort': 2501, 'savag': 2502, 'breathtak': 2503, 'melt': 2504, 'beer': 2505, 'stanley': 2506, 'blair': 2507, 'alter': 2508, 'fix': 2509, 'goofi': 2510, 'daili': 2511, 'mous': 2512, 'overact': 2513, 'conceiv': 2514, 'assign': 2515, 'hippi': 2516, 'cathol': 2517, 'dentist': 2518, 'oppos': 2519, 'nowaday': 2520, 'subsequ': 2521, 'carpent': 2522, 'sacrific': 2523, 'everyday': 2524, 'burt': 2525, 'inspector': 2526, 'properli': 2527, 'succe': 2528, 'circl': 2529, 'block': 2530, 'laura': 2531, 'neck': 2532, 'massacr': 2533, 'seagal': 2534, 'lesser': 2535, 'mob': 2536, 'pool': 2537, 'concert': 2538, 'access': 2539, 'grey': 2540, 'christi': 2541, 'portrait': 2542, 'fallen': 2543, 'fay': 2544, 'relax': 2545, 'sinist': 2546, 'react': 2547, 'isol': 2548, 'chees': 2549, 'usa': 2550, 'competit': 2551, 'jewish': 2552, 'jake': 2553, 'nine': 2554, 'immens': 2555, 'stink': 2556, 'creep': 2557, 'chop': 2558, '2006': 2559, 'spiritu': 2560, 'lyric': 2561, 'appal': 2562, 'ironi': 2563, 'suitabl': 2564, 'nonetheless': 2565, 'adopt': 2566, 'needless': 2567, 'retir': 2568, 'shirt': 2569, 'sold': 2570, 'luci': 2571, 'showcas': 2572, 'user': 2573, 'franchis': 2574, 'rage': 2575, 'reduc': 2576, 'nut': 2577, 'spring': 2578, 'navi': 2579, 'bath': 2580, 'bulli': 2581, 'jay': 2582, 'uninspir': 2583, 'digit': 2584, 'per': 2585, 'stanwyck': 2586, 'asham': 2587, 'zone': 2588, 'nurs': 2589, '2001': 2590, 'broadcast': 2591, 'illustr': 2592, 'amongst': 2593, '1940': 2594, 'upper': 2595, 'laid': 2596, 'oddli': 2597, 'sutherland': 2598, 'fulfil': 2599, 'disguis': 2600, 'baker': 2601, 'throat': 2602, 'brando': 2603, 'aspir': 2604, 'stylish': 2605, 'endear': 2606, 'pride': 2607, 'em': 2608, 'thief': 2609, 'wwii': 2610, 'impli': 2611, 'wanna': 2612, 'pound': 2613, 'nobl': 2614, 'neighborhood': 2615, '18': 2616, 'cinematograph': 2617, 'coher': 2618, 'dawn': 2619, 'shoulder': 2620, 'distribut': 2621, 'tens': 2622, '16': 2623, 'bett': 2624, 'prop': 2625, 'diseas': 2626, 'dinner': 2627, 'shift': 2628, 'albeit': 2629, 'rochest': 2630, 'bo': 2631, 'wash': 2632, 'surf': 2633, 'poignant': 2634, 'silenc': 2635, 'matthau': 2636, 'knife': 2637, 'contract': 2638, 'function': 2639, 'forti': 2640, 'shout': 2641, 'snow': 2642, 'rebel': 2643, 'cancel': 2644, 'chuck': 2645, 'horrend': 2646, 'internet': 2647, 'heat': 2648, 'proof': 2649, 'reunion': 2650, 'duti': 2651, 'widmark': 2652, 'silver': 2653, 'cannib': 2654, 'instinct': 2655, 'elvira': 2656, 'mindless': 2657, 'derek': 2658, 'henc': 2659, 'eeri': 2660, 'height': 2661, 'premier': 2662, 'innov': 2663, 'torn': 2664, 'etern': 2665, 'alik': 2666, 'musician': 2667, 'absorb': 2668, 'glori': 2669, 'neat': 2670, 'greatli': 2671, 'spielberg': 2672, 'pie': 2673, 'repetit': 2674, 'mill': 2675, 'elvi': 2676, 'incoher': 2677, 'trite': 2678, 'burton': 2679, 'announc': 2680, 'horrifi': 2681, 'blank': 2682, 'redempt': 2683, 'infam': 2684, 'britain': 2685, 'lovabl': 2686, 'diamond': 2687, 'itali': 2688, 'fbi': 2689, 'crisi': 2690, 'wealthi': 2691, 'bang': 2692, 'nelson': 2693, 'racism': 2694, 'homag': 2695, 'precis': 2696, 'wilder': 2697, 'parallel': 2698, 'chaplin': 2699, 'resolut': 2700, 'hammer': 2701, 'happili': 2702, 'dedic': 2703, 'flop': 2704, 'helen': 2705, 'pat': 2706, 'ensembl': 2707, 'streisand': 2708, 'oil': 2709, 'plastic': 2710, 'broke': 2711, 'triumph': 2712, 'disagre': 2713, 'mar': 2714, 'cube': 2715, 'factori': 2716, 'carter': 2717, 'conclud': 2718, 'st': 2719, 'weight': 2720, 'vega': 2721, 'own': 2722, 'rocket': 2723, 'bush': 2724, 'march': 2725, 'chuckl': 2726, 'climb': 2727, 'row': 2728, 'fighter': 2729, 'sensibl': 2730, 'lust': 2731, 'boot': 2732, 'spare': 2733, 'meaning': 2734, 'dump': 2735, 'thug': 2736, 'mst3k': 2737, 'wherea': 2738, 'kurt': 2739, 'enorm': 2740, 'unforgett': 2741, 'luca': 2742, 'dane': 2743, 'brand': 2744, 'adequ': 2745, 'threat': 2746, 'bobbi': 2747, 'arnold': 2748, 'butt': 2749, 'rap': 2750, 'stress': 2751, 'engin': 2752, 'dear': 2753, 'fifti': 2754, 'difficulti': 2755, 'caricatur': 2756, 'karloff': 2757, 'polish': 2758, 'fest': 2759, 'barri': 2760, 'elabor': 2761, 'ego': 2762, 'hamlet': 2763, 'arrog': 2764, 'journalist': 2765, 'homeless': 2766, 'swing': 2767, 'flynn': 2768, 'ralph': 2769, 'secretari': 2770, 'induc': 2771, 'tool': 2772, 'conspiraci': 2773, 'puppet': 2774, 'simpson': 2775, 'grate': 2776, 'spike': 2777, 'arrang': 2778, 'fanci': 2779, 'resort': 2780, 'unbear': 2781, 'float': 2782, 'pig': 2783, 'cruis': 2784, 'guilt': 2785, 'tribut': 2786, 'basement': 2787, 'exercis': 2788, 'phillip': 2789, 'boll': 2790, 'muppet': 2791, 'choreograph': 2792, 'document': 2793, 'file': 2794, 'layer': 2795, 'babe': 2796, 'ward': 2797, 'fianc': 2798, '24': 2799, 'slip': 2800, 'korean': 2801, 'medium': 2802, 'editor': 2803, 'tower': 2804, 'toilet': 2805, 'stan': 2806, 'puzzl': 2807, 'item': 2808, 'ham': 2809, 'scarecrow': 2810, 'doc': 2811, 'superfici': 2812, 'territori': 2813, 'portion': 2814, 'transit': 2815, 'larger': 2816, 'assur': 2817, 'persona': 2818, 'spark': 2819, 'catherin': 2820, 'minim': 2821, 'slaughter': 2822, 'denzel': 2823, 'orient': 2824, 'philosoph': 2825, 'librari': 2826, 'glover': 2827, 'inexplic': 2828, 'sneak': 2829, 'walken': 2830, 'jeremi': 2831, 'financi': 2832, 'curti': 2833, 'owe': 2834, 'wolf': 2835, 'dorothi': 2836, 'boredom': 2837, 'ban': 2838, 'jet': 2839, 'shi': 2840, 'pg': 2841, 'profound': 2842, 'hudson': 2843, 'backdrop': 2844, 'metaphor': 2845, 'cusack': 2846, 'ambigu': 2847, 'eleph': 2848, 'whale': 2849, 'multi': 2850, 'viru': 2851, 'hack': 2852, 'union': 2853, 'birthday': 2854, 'implaus': 2855, 'notion': 2856, '2005': 2857, 'elsewher': 2858, 'stiff': 2859, 'ultra': 2860, 'gadget': 2861, 'rave': 2862, 'afford': 2863, 'pad': 2864, 'poison': 2865, 'newspap': 2866, 'urg': 2867, 'canada': 2868, 'reader': 2869, 'lloyd': 2870, 'bibl': 2871, 'eva': 2872, 'superhero': 2873, 'slight': 2874, 'deriv': 2875, 'distanc': 2876, 'disc': 2877, '1st': 2878, 'eastwood': 2879, 'hawk': 2880, 'squar': 2881, 'montag': 2882, 'essenc': 2883, 'skit': 2884, 'huh': 2885, 'health': 2886, 'cure': 2887, 'sadist': 2888, 'drown': 2889, 'restaur': 2890, 'spread': 2891, 'charisma': 2892, 'heston': 2893, 'button': 2894, 'godfath': 2895, 'invest': 2896, 'scoobi': 2897, 'estat': 2898, 'fetch': 2899, 'lab': 2900, 'maniac': 2901, 'dealt': 2902, 'peak': 2903, 'companion': 2904, 'muslim': 2905, 'gradual': 2906, 'kane': 2907, 'gothic': 2908, 'cup': 2909, 'ritter': 2910, 'countless': 2911, 'tea': 2912, 'subtleti': 2913, 'alli': 2914, 'servant': 2915, 'miik': 2916, 'heroic': 2917, 'salli': 2918, 'electr': 2919, 'charismat': 2920, 'briefli': 2921, 'elect': 2922, 'iii': 2923, 'tender': 2924, 'neil': 2925, 'reel': 2926, 'toss': 2927, 'cole': 2928, 'ingredi': 2929, 'grandmoth': 2930, 'resourc': 2931, 'nuanc': 2932, 'bud': 2933, 'admittedli': 2934, 'wannab': 2935, 'kubrick': 2936, 'punk': 2937, 'label': 2938, 'dawson': 2939, 'shall': 2940, 'reev': 2941, 'pauli': 2942, 'mild': 2943, 'stronger': 2944, 'gate': 2945, 'carrey': 2946, 'poverti': 2947, 'stood': 2948, 'pit': 2949, 'mafia': 2950, 'assault': 2951, 'terri': 2952, 'cardboard': 2953, 'fond': 2954, 'tag': 2955, 'outcom': 2956, 'cox': 2957, 'astair': 2958, 'updat': 2959, 'ian': 2960, 'burst': 2961, 'easier': 2962, 'smash': 2963, 'useless': 2964, 'bakshi': 2965, 'smooth': 2966, 'increasingli': 2967, 'vulner': 2968, 'samurai': 2969, 'resolv': 2970, 'exchang': 2971, 'coincid': 2972, '2002': 2973, 'sketch': 2974, 'divers': 2975, 'qualifi': 2976, 'rex': 2977, 'melodramat': 2978, 'vari': 2979, 'fist': 2980, 'blast': 2981, 'be': 2982, 'templ': 2983, 'brillianc': 2984, 'tame': 2985, 'conveni': 2986, 'luckili': 2987, 'reynold': 2988, 'scratch': 2989, 'suspend': 2990, 'insert': 2991, 'hamilton': 2992, 'walker': 2993, 'meat': 2994, 'coach': 2995, 'nuclear': 2996, 'ambiti': 2997, 'fisher': 2998, 'soprano': 2999, 'jami': 3000, 'farm': 3001, 'gotta': 3002, 'pin': 3003, 'strictli': 3004, 'seventi': 3005, 'matthew': 3006, 'butcher': 3007, 'grasp': 3008, 'convolut': 3009, 'joey': 3010, 'eccentr': 3011, 'worthless': 3012, 'spooki': 3013, 'recreat': 3014, 'clock': 3015, 'monk': 3016, 'cave': 3017, 'struck': 3018, 'discoveri': 3019, 'instantli': 3020, 'revers': 3021, 'empir': 3022, 'timeless': 3023, 'kudo': 3024, 'closet': 3025, 'ninja': 3026, 'brosnan': 3027, 'fifteen': 3028, 'bleak': 3029, 'clown': 3030, 'mitchel': 3031, 'seller': 3032, 'sidekick': 3033, 'wipe': 3034, 'pal': 3035, 'inconsist': 3036, 'sloppi': 3037, 'cliff': 3038, 'gray': 3039, 'evok': 3040, 'declar': 3041, 'miracl': 3042, 'norman': 3043, 'eighti': 3044, 'selfish': 3045, 'importantli': 3046, 'communist': 3047, 'partli': 3048, 'cheek': 3049, 'farc': 3050, 'chew': 3051, 'enthusiast': 3052, 'stoog': 3053, 'australia': 3054, 'lifestyl': 3055, 'websit': 3056, 'debat': 3057, 'superbl': 3058, '45': 3059, 'seed': 3060, 'flawless': 3061, 'destin': 3062, 'aforement': 3063, 'psychiatrist': 3064, 'ho': 3065, 'piano': 3066, 'dash': 3067, 'slice': 3068, 'anni': 3069, 'kitchen': 3070, 'regardless': 3071, 'wrestl': 3072, 'dire': 3073, 'abc': 3074, 'drivel': 3075, 'incompet': 3076, 'akshay': 3077, 'bash': 3078, 'wick': 3079, 'directori': 3080, 'pressur': 3081, 'emili': 3082, 'splatter': 3083, 'soviet': 3084, 'increas': 3085, 'dave': 3086, 'artifici': 3087, 'boil': 3088, 'ken': 3089, 'lou': 3090, 'chapter': 3091, 'curios': 3092, 'cameron': 3093, 'prize': 3094, 'beaten': 3095, 'doo': 3096, 'mann': 3097, 'jar': 3098, 'distant': 3099, 'helicopt': 3100, 'recov': 3101, 'seduc': 3102, 'pleasantli': 3103, 'glow': 3104, 'blob': 3105, 'duo': 3106, 'cagney': 3107, 'suppli': 3108, 'flower': 3109, 'judi': 3110, 'cia': 3111, 'ranger': 3112, 'laurel': 3113, 'glenn': 3114, 'craven': 3115, 'favour': 3116, 'goldberg': 3117, 'francisco': 3118, 'panic': 3119, 'drunken': 3120, 'web': 3121, 'hop': 3122, 'psychot': 3123, 'splendid': 3124, 'combat': 3125, 'ellen': 3126, 'perri': 3127, 'eleg': 3128, 'turner': 3129, 'craig': 3130, 'alexand': 3131, 'philosophi': 3132, 'graduat': 3133, 'rid': 3134, 'ruth': 3135, 'wizard': 3136, 'slightest': 3137, 'hatr': 3138, '20th': 3139, 'fx': 3140, 'greek': 3141, 'min': 3142, 'plausibl': 3143, 'gentl': 3144, 'shortli': 3145, 'flip': 3146, 'falk': 3147, 'modesti': 3148, 'gandhi': 3149, 'knight': 3150, 'futurist': 3151, 'lend': 3152, 'we': 3153, 'manhattan': 3154, 'tall': 3155, 'legal': 3156, 'felix': 3157, 'fund': 3158, 'harm': 3159, 'unpleas': 3160, 'holi': 3161, 'jealou': 3162, 'ocean': 3163, 'dracula': 3164, 'preciou': 3165, 'overdon': 3166, 'tank': 3167, 'mock': 3168, 'bless': 3169, 'forbidden': 3170, 'childish': 3171, 'thread': 3172, 'scientif': 3173, 'explicit': 3174, 'reviv': 3175, 'digniti': 3176, 'ami': 3177, 'nod': 3178, 'giallo': 3179, 'broad': 3180, 'awaken': 3181, 'nerv': 3182, 'elderli': 3183, 'pirat': 3184, 'repeatedli': 3185, 'unwatch': 3186, 'eve': 3187, 'yesterday': 3188, 'margaret': 3189, 'torment': 3190, 'mel': 3191, 'thick': 3192, 'awe': 3193, 'fever': 3194, 'verhoeven': 3195, '2004': 3196, '99': 3197, 'griffith': 3198, 'launch': 3199, 'ah': 3200, 'bin': 3201, 'stiller': 3202, 'publish': 3203, 'acclaim': 3204, 'timothi': 3205, 'ambit': 3206, 'roman': 3207, 'custom': 3208, 'lean': 3209, 'kay': 3210, 'eas': 3211, 'politician': 3212, 'automat': 3213, 'rivet': 3214, 'royal': 3215, 'uniform': 3216, 'romero': 3217, 'absenc': 3218, 'foul': 3219, 'darker': 3220, 'termin': 3221, 'bathroom': 3222, 'sunshin': 3223, 'antic': 3224, 'stinker': 3225, 'warren': 3226, 'pulp': 3227, 'phrase': 3228, 'wallac': 3229, 'transport': 3230, 'crook': 3231, 'tomato': 3232, 'homicid': 3233, 'gabriel': 3234, 'pierc': 3235, 'purpl': 3236, 'rambo': 3237, 'awak': 3238, 'pray': 3239, 'viciou': 3240, 'revolutionari': 3241, 'saint': 3242, '2003': 3243, 'hollow': 3244, 'prom': 3245, 'ought': 3246, 'album': 3247, 'sixti': 3248, 'juvenil': 3249, 'donna': 3250, 'contrari': 3251, 'li': 3252, 'marin': 3253, 'brazil': 3254, 'q': 3255, 'choreographi': 3256, 'kenneth': 3257, 'coloni': 3258, 'horrid': 3259, 'evolv': 3260, 'karen': 3261, 'packag': 3262, 'eyr': 3263, 'defi': 3264, 'boast': 3265, 'twelv': 3266, 'stole': 3267, 'option': 3268, 'mummi': 3269, 'candid': 3270, 'blade': 3271, 'nerd': 3272, 'dose': 3273, 'conserv': 3274, 'ramon': 3275, 'overr': 3276, 'kapoor': 3277, 'ireland': 3278, 'beatti': 3279, 'mildr': 3280, 'protest': 3281, 'detract': 3282, 'collabor': 3283, 'flame': 3284, 'trio': 3285, 'natali': 3286, 'astonish': 3287, 'confirm': 3288, 'altman': 3289, 'kirk': 3290, 'funer': 3291, 'global': 3292, 'jazz': 3293, 'fulci': 3294, 'bottl': 3295, 'bull': 3296, 'nicholson': 3297, 'shade': 3298, 'delici': 3299, 'mystic': 3300, 'tommi': 3301, 'whip': 3302, 'audio': 3303, 'blake': 3304, 'leap': 3305, 'yellow': 3306, 'racial': 3307, 'spit': 3308, 'destini': 3309, 'enterpris': 3310, 'vivid': 3311, 'reunit': 3312, 'threw': 3313, 'merci': 3314, 'bedroom': 3315, 'pseudo': 3316, 'visibl': 3317, 'adolesc': 3318, 'swedish': 3319, 'enchant': 3320, 'meaningless': 3321, 'inherit': 3322, 'staff': 3323, 'harder': 3324, 'popcorn': 3325, 'altogeth': 3326, 'neo': 3327, 'fonda': 3328, 'todd': 3329, 'roommat': 3330, 'voight': 3331, 'ruthless': 3332, 'befriend': 3333, 'fanat': 3334, 'reserv': 3335, 'decor': 3336, 'edi': 3337, 'atlanti': 3338, 'wire': 3339, 'respond': 3340, 'lawrenc': 3341, 'leonard': 3342, 'tip': 3343, 'exhibit': 3344, 'crocodil': 3345, 'bust': 3346, 'lemmon': 3347, 'uneven': 3348, 'kennedi': 3349, 'await': 3350, 'madonna': 3351, 'synopsi': 3352, 'moodi': 3353, 'jew': 3354, 'suspici': 3355, 'garner': 3356, 'dimens': 3357, 'audit': 3358, 'clumsi': 3359, 'abysm': 3360, 'voyag': 3361, 'rural': 3362, 'bradi': 3363, '2007': 3364, 'carl': 3365, 'clint': 3366, 'unsettl': 3367, 'bargain': 3368, 'ventur': 3369, 'bold': 3370, 'incident': 3371, 'holli': 3372, 'palma': 3373, 'centr': 3374, 'chao': 3375, 'trail': 3376, 'lit': 3377, 'troop': 3378, 'echo': 3379, '2nd': 3380, 'poetic': 3381, 'daddi': 3382, 'imperson': 3383, 'nearbi': 3384, 'immigr': 3385, 'cuba': 3386, 'acknowledg': 3387, 'wealth': 3388, 'mall': 3389, 'hart': 3390, 'ant': 3391, 'humili': 3392, 'tiger': 3393, 'neglect': 3394, 'cd': 3395, 'characterist': 3396, 'cari': 3397, 'elimin': 3398, 'versu': 3399, 'timon': 3400, 'paus': 3401, 'repuls': 3402, 'collaps': 3403, 'mistaken': 3404, 'pun': 3405, 'domest': 3406, 'celluloid': 3407, 'marshal': 3408, 'mickey': 3409, 'jeffrey': 3410, 'infect': 3411, 'solo': 3412, 'saga': 3413, 'prejudic': 3414, 'homer': 3415, 'gear': 3416, 'equip': 3417, 'pant': 3418, 'chest': 3419, 'coffe': 3420, 'inan': 3421, 'sore': 3422, 'assembl': 3423, 'coat': 3424, 'hbo': 3425, 'ginger': 3426, 'apolog': 3427, 'tribe': 3428, 'interrupt': 3429, 'harvey': 3430, 'milk': 3431, 'olivi': 3432, 'undoubtedli': 3433, 'promin': 3434, 'inappropri': 3435, 'cake': 3436, '1996': 3437, 'leon': 3438, 'trace': 3439, 'florida': 3440, 'vulgar': 3441, 'solut': 3442, 'aveng': 3443, 'consum': 3444, 'primari': 3445, 'pen': 3446, 'humbl': 3447, 'colleagu': 3448, 'colonel': 3449, 'airplan': 3450, 'maggi': 3451, 'instant': 3452, 'embrac': 3453, 'retain': 3454, 'devast': 3455, 'brooklyn': 3456, 'jenni': 3457, 'institut': 3458, 'pot': 3459, 'furthermor': 3460, 'exot': 3461, 'highest': 3462, 'polanski': 3463, 'gender': 3464, 'strain': 3465, 'outer': 3466, 'poke': 3467, 'dutch': 3468, 'descend': 3469, 'smaller': 3470, '1999': 3471, 'ya': 3472, 'bowl': 3473, '3rd': 3474, 'seduct': 3475, 'principl': 3476, 'dian': 3477, 'cope': 3478, 'disabl': 3479, 'rick': 3480, 'sale': 3481, 'illog': 3482, 'wive': 3483, 'linda': 3484, 'godzilla': 3485, 'rabbit': 3486, 'beneath': 3487, 'vast': 3488, 'mixtur': 3489, 'cue': 3490, 'devoid': 3491, 'primarili': 3492, 'gloriou': 3493, 'dud': 3494, 'hal': 3495, 'scope': 3496, 'lol': 3497, 'glamor': 3498, 'bubbl': 3499, 'dive': 3500, 'predecessor': 3501, 'inferior': 3502, 'yard': 3503, 'gundam': 3504, 'secondli': 3505, 'blatant': 3506, 'simplist': 3507, 'disjoint': 3508, 'z': 3509, 'shirley': 3510, 'streep': 3511, 'alfr': 3512, 'alert': 3513, 'et': 3514, 'casual': 3515, 'talki': 3516, 'breed': 3517, 'invas': 3518, 'april': 3519, 'arab': 3520, 'senseless': 3521, 'pearl': 3522, 'myer': 3523, 'countrysid': 3524, 'aggress': 3525, 'museum': 3526, 'hideou': 3527, 'trademark': 3528, 'shelf': 3529, 'domino': 3530, 'grinch': 3531, 'garbo': 3532, 'disgrac': 3533, 'unhappi': 3534, 'vanish': 3535, 'rendit': 3536, 'sh': 3537, 'acid': 3538, 'mail': 3539, 'experiment': 3540, 'robberi': 3541, 'oz': 3542, 'slide': 3543, 'khan': 3544, 'hopeless': 3545, 'uwe': 3546, 'stir': 3547, 'robinson': 3548, 'illeg': 3549, 'hardcor': 3550, 'boom': 3551, 'mayor': 3552, 'stack': 3553, 'applaud': 3554, 'stellar': 3555, 'obtain': 3556, 'loyal': 3557, 'defens': 3558, 'maci': 3559, 'incomprehens': 3560, 'dismiss': 3561, 'topless': 3562, 'soccer': 3563, 'tempt': 3564, 'rifl': 3565, 'dicken': 3566, 'span': 3567, 'wont': 3568, 'psychic': 3569, 'blew': 3570, 'grandfath': 3571, 'fri': 3572, 'declin': 3573, 'berlin': 3574, 'emphasi': 3575, 'diana': 3576, 'scroog': 3577, 'recruit': 3578, 'counter': 3579, 'craze': 3580, 'amanda': 3581, 'spider': 3582, 'hartley': 3583, 'tenant': 3584, 'porno': 3585, 'sympath': 3586, 'faster': 3587, 'wet': 3588, 'sibl': 3589, 'resurrect': 3590, 'parad': 3591, 'goer': 3592, 'woo': 3593, 'ration': 3594, 'revolt': 3595, 'bitch': 3596, 'shaw': 3597, 'intim': 3598, 'shed': 3599, 'justin': 3600, 'trashi': 3601, 'riot': 3602, 'niro': 3603, 'ethnic': 3604, 'lumet': 3605, 'patriot': 3606, 'unreal': 3607, 'honesti': 3608, 'wheel': 3609, 'ensur': 3610, 'nephew': 3611, 'hopper': 3612, 'feminist': 3613, 'weakest': 3614, 'hesit': 3615, 'region': 3616, 'andr': 3617, 'ballet': 3618, 'wendi': 3619, 'jonathan': 3620, 'enlighten': 3621, 'farmer': 3622, 'commend': 3623, 'immort': 3624, 'partial': 3625, 'choru': 3626, 'slick': 3627, 'gap': 3628, 'eager': 3629, 'biographi': 3630, 'rider': 3631, 'dealer': 3632, 'steam': 3633, 'lena': 3634, '00': 3635, 'mario': 3636, 'worm': 3637, 'composit': 3638, 'psychopath': 3639, 'properti': 3640, 'confin': 3641, 'snap': 3642, 'hung': 3643, 'morri': 3644, 'skull': 3645, 'prequel': 3646, 'similarli': 3647, 'nostalg': 3648, 'franco': 3649, 'repress': 3650, 'safeti': 3651, 'owen': 3652, 'kingdom': 3653, 'vice': 3654, 'sappi': 3655, 'leo': 3656, 'mutant': 3657, 'victori': 3658, 'charlott': 3659, 'blunt': 3660, 'util': 3661, 'wore': 3662, 'sandra': 3663, 'macarthur': 3664, 'compass': 3665, '1972': 3666, 'recycl': 3667, 'bumbl': 3668, 'drain': 3669, 'snl': 3670, 'acquir': 3671, 'repli': 3672, 'deed': 3673, 'whoopi': 3674, 'strand': 3675, 'cg': 3676, 'despair': 3677, 'rope': 3678, 'drum': 3679, 'montana': 3680, 'nervou': 3681, 'bonu': 3682, 'rambl': 3683, 'compens': 3684, 'exit': 3685, 'kyle': 3686, 'bow': 3687, 'rocki': 3688, 'latin': 3689, 'emperor': 3690, 'bergman': 3691, 'hyde': 3692, 'dust': 3693, 'heartbreak': 3694, 'speci': 3695, 'farrel': 3696, 'valuabl': 3697, 'del': 3698, 'pattern': 3699, 'thru': 3700, 'campbel': 3701, 'tail': 3702, 'tad': 3703, 'miseri': 3704, 'dalton': 3705, 'pour': 3706, '35': 3707, 'downhil': 3708, 'wacki': 3709, 'percept': 3710, 'rotten': 3711, 'gimmick': 3712, 'martian': 3713, 'romp': 3714, 'oppress': 3715, 'gal': 3716, 'bleed': 3717, 'tonight': 3718, 'olli': 3719, 'mistress': 3720, 'orson': 3721, 'radic': 3722, 'carradin': 3723, 'roth': 3724, 'airport': 3725, 'contempl': 3726, 'rapist': 3727, 'chess': 3728, 'da': 3729, 'slug': 3730, 'dazzl': 3731, 'belt': 3732, 'shelley': 3733, 'banal': 3734, 'preach': 3735, 'tackl': 3736, 'heal': 3737, 'unpredict': 3738, 'melodi': 3739, 'tooth': 3740, 'mislead': 3741, 'stilt': 3742, 'taught': 3743, 'slash': 3744, 'programm': 3745, 'arguabl': 3746, 'champion': 3747, '1983': 3748, 'arc': 3749, 'attorney': 3750, 'pervers': 3751, 'edgar': 3752, 'pursuit': 3753, 'paltrow': 3754, 'pervert': 3755, 'chicken': 3756, 'franki': 3757, 'uplift': 3758, 'raymond': 3759, 'duval': 3760, 'poem': 3761, 'sensat': 3762, 'virginia': 3763, 'vocal': 3764, 'cleverli': 3765, 'mesmer': 3766, 'maid': 3767, 'conneri': 3768, 'plight': 3769, 'marti': 3770, 'tiresom': 3771, 'employe': 3772, 'vengeanc': 3773, 'closest': 3774, 'gambl': 3775, 'bela': 3776, 'dixon': 3777, 'rubi': 3778, 'orang': 3779, 'graham': 3780, 'passeng': 3781, '1968': 3782, 'swallow': 3783, 'tube': 3784, 'inject': 3785, 'suffic': 3786, 'monologu': 3787, 'gerard': 3788, 'outing': 3789, 'bay': 3790, 'secretli': 3791, 'mute': 3792, 'paranoia': 3793, 'extens': 3794, 'crystal': 3795, 'profan': 3796, 'abraham': 3797, 'numb': 3798, 'yawn': 3799, 'calm': 3800, 'climact': 3801, 'habit': 3802, 'iran': 3803, 'sirk': 3804, 'clone': 3805, 'quarter': 3806, 'engross': 3807, 'convincingli': 3808, 'lundgren': 3809, 'scottish': 3810, 'whine': 3811, 'giggl': 3812, 'amitabh': 3813, 'volum': 3814, 'pokemon': 3815, 'junior': 3816, 'bend': 3817, 'grotesqu': 3818, 'meander': 3819, 'ethan': 3820, 'abort': 3821, 'backward': 3822, 'expand': 3823, 'poetri': 3824, 'fed': 3825, 'chicago': 3826, 'linger': 3827, 'septemb': 3828, 'im': 3829, 'plod': 3830, 'nichola': 3831, 'taxi': 3832, 'frankenstein': 3833, 'earl': 3834, 'profess': 3835, 'underst': 3836, 'richardson': 3837, 'lowest': 3838, 'surpass': 3839, 'trend': 3840, 'dispos': 3841, 'austen': 3842, 'franci': 3843, 'spock': 3844, 'compliment': 3845, 'rant': 3846, 'eugen': 3847, 'mundan': 3848, 'cannon': 3849, 'literatur': 3850, 'household': 3851, 'der': 3852, 'spoke': 3853, 'instrument': 3854, 'muddl': 3855, 'simplic': 3856, 'waitress': 3857, 'econom': 3858, 'dysfunct': 3859, 'catchi': 3860, 'rubber': 3861, 'myth': 3862, 'descent': 3863, 'hum': 3864, 'sue': 3865, 'lure': 3866, 'stallon': 3867, 'greedi': 3868, 'nostalgia': 3869, 'tourist': 3870, 'mankind': 3871, 'omen': 3872, 'stale': 3873, 'firstli': 3874, 'coast': 3875, 'occupi': 3876, 'irrelev': 3877, 'duck': 3878, 'june': 3879, 'louis': 3880, 'deaf': 3881, 'recognit': 3882, 'recognis': 3883, 'eaten': 3884, 'crucial': 3885, 'lang': 3886, 'damon': 3887, 'hello': 3888, 'phoni': 3889, 'bacal': 3890, 'flee': 3891, 'alongsid': 3892, 'cent': 3893, 'furi': 3894, 'carel': 3895, 'molli': 3896, 'mortal': 3897, 'dement': 3898, 'randi': 3899, 'sissi': 3900, 'equival': 3901, 'dictat': 3902, 'phantom': 3903, 'insur': 3904, 'map': 3905, 'damm': 3906, 'bump': 3907, 'labor': 3908, 'bike': 3909, 'drake': 3910, 'reign': 3911, 'lengthi': 3912, 'twilight': 3913, 'rooney': 3914, 'daisi': 3915, 'blackmail': 3916, '1973': 3917, 'rude': 3918, 'heel': 3919, 'dreari': 3920, 'newli': 3921, 'onlin': 3922, 'likewis': 3923, 'buffalo': 3924, 'loyalti': 3925, 'wisdom': 3926, 'ashley': 3927, 'freez': 3928, 'cyborg': 3929, 'distinguish': 3930, 'grayson': 3931, 'antwon': 3932, 'biko': 3933, 'barrymor': 3934, 'proce': 3935, 'approv': 3936, 'incorpor': 3937, 'inher': 3938, 'tunnel': 3939, 'emphas': 3940, 'butler': 3941, 'baddi': 3942, 'interior': 3943, 'ridden': 3944, 'nineti': 3945, 'exposur': 3946, 'pink': 3947, 'prey': 3948, 'startl': 3949, 'keith': 3950, 'provoc': 3951, 'vein': 3952, 'attribut': 3953, 'basketbal': 3954, 'boxer': 3955, 'chronicl': 3956, 'unorigin': 3957, 'sailor': 3958, 'analysi': 3959, 'worn': 3960, 'er': 3961, 'predat': 3962, 'stalker': 3963, 'mighti': 3964, 'underli': 3965, 'bunni': 3966, 'walsh': 3967, 'belushi': 3968, 'elm': 3969, 'meg': 3970, 'millionair': 3971, 'julian': 3972, 'hypnot': 3973, 'robbin': 3974, 'degrad': 3975, 'meyer': 3976, 'substitut': 3977, 'indiffer': 3978, 'undeni': 3979, 'unrel': 3980, 'condemn': 3981, 'simmon': 3982, 'improvis': 3983, 'barrel': 3984, 'othello': 3985, 'nicol': 3986, 'mormon': 3987, 'fleet': 3988, 'drift': 3989, 'carla': 3990, 'warmth': 3991, 'agenda': 3992, 'watson': 3993, 'nyc': 3994, 'mtv': 3995, 'alarm': 3996, 'lampoon': 3997, 'dolph': 3998, 'enthusiasm': 3999, 'novak': 4000, 'exquisit': 4001, 'greed': 4002, 'errol': 4003, 'disord': 4004, 'firm': 4005, 'edgi': 4006, 'alison': 4007, 'hay': 4008, 'vital': 4009, 'priceless': 4010, 'roof': 4011, 'palac': 4012, 'rukh': 4013, '3d': 4014, 'shove': 4015, 'marion': 4016, 'unawar': 4017, 'reid': 4018, 'preserv': 4019, 'glanc': 4020, 'distort': 4021, 'valentin': 4022, 'coup': 4023, 'iraq': 4024, 'unleash': 4025, 'championship': 4026, 'campaign': 4027, 'gestur': 4028, 'beatl': 4029, 'simultan': 4030, 'session': 4031, 'eastern': 4032, 'ponder': 4033, 'randomli': 4034, 'minimum': 4035, '13th': 4036, 'drip': 4037, 'petti': 4038, 'testament': 4039, '1933': 4040, 'what': 4041, 'showdown': 4042, 'orlean': 4043, 'peril': 4044, 'spain': 4045, 'nun': 4046, 'pamela': 4047, 'angela': 4048, 'crown': 4049, 'thompson': 4050, 'sergeant': 4051, 'peck': 4052, 'profit': 4053, 'israel': 4054, 'zizek': 4055, 'cassidi': 4056, 'quinn': 4057, 'crawl': 4058, 'realm': 4059, 'restrain': 4060, 'cream': 4061, 'represent': 4062, 'climat': 4063, 'gentleman': 4064, 'buster': 4065, 'miyazaki': 4066, 'calib': 4067, 'stake': 4068, 'reson': 4069, 'unimagin': 4070, 'han': 4071, '1984': 4072, 'contradict': 4073, 'empathi': 4074, 'cooki': 4075, 'wig': 4076, 'valley': 4077, 'mon': 4078, 'din': 4079, 'bro': 4080, 'perpetu': 4081, 'shootout': 4082, 'rout': 4083, 'travesti': 4084, 'jan': 4085, 'exposit': 4086, 'kurosawa': 4087, 'brenda': 4088, 'stroke': 4089, 'regist': 4090, 'scotland': 4091, 'fido': 4092, 'sabrina': 4093, 'crow': 4094, 'geek': 4095, 'stargat': 4096, 'unsatisfi': 4097, 'meryl': 4098, 'abomin': 4099, 'ross': 4100, 'spacey': 4101, 'compromis': 4102, 'perceiv': 4103, 'pretens': 4104, 'demis': 4105, '1997': 4106, 'crawford': 4107, 'shoddi': 4108, 'soderbergh': 4109, 'absent': 4110, 'fuller': 4111, 'tacki': 4112, 'warrant': 4113, 'greg': 4114, 'wax': 4115, 'derang': 4116, 'traumat': 4117, 'passabl': 4118, 'businessman': 4119, 'censor': 4120, 'femm': 4121, 'baldwin': 4122, 'shaki': 4123, 'sammi': 4124, 'monoton': 4125, 'mclaglen': 4126, '1987': 4127, 'unseen': 4128, 'ustinov': 4129, 'cloud': 4130, 'delic': 4131, 'pole': 4132, 'dana': 4133, 'distress': 4134, 'painter': 4135, 'darren': 4136, 'josh': 4137, 'sucker': 4138, 'wholli': 4139, 'primit': 4140, 'uncov': 4141, 'anchor': 4142, 'correctli': 4143, 'clash': 4144, 'polici': 4145, 'expedit': 4146, 'deceas': 4147, 'exclus': 4148, 'kumar': 4149, 'click': 4150, 'valid': 4151, 'unravel': 4152, 'jewel': 4153, 'austin': 4154, 'sid': 4155, 'reluct': 4156, 'accuraci': 4157, 'verbal': 4158, '1993': 4159, 'nathan': 4160, 'seal': 4161, 'deniro': 4162, 'judgment': 4163, 'fog': 4164, 'antonioni': 4165, 'tarantino': 4166, 'fenc': 4167, 'norm': 4168, 'furiou': 4169, 'tech': 4170, 'dee': 4171, 'nicola': 4172, 'temper': 4173, 'enforc': 4174, '1971': 4175, 'patienc': 4176, 'wretch': 4177, 'roller': 4178, 'joel': 4179, 'fabric': 4180, 'fart': 4181, 'seldom': 4182, 'dreck': 4183, 'pocket': 4184, 'sunni': 4185, 'trait': 4186, 'clerk': 4187, 'bake': 4188, 'debt': 4189, '3000': 4190, '1995': 4191, 'darn': 4192, 'malon': 4193, 'vanc': 4194, 'fought': 4195, 'slam': 4196, 'sustain': 4197, 'shanghai': 4198, 'crippl': 4199, 'conduct': 4200, 'alec': 4201, 'wang': 4202, 'sand': 4203, 'tax': 4204, 'sheet': 4205, 'ritual': 4206, 'mode': 4207, 'murray': 4208, 'hallucin': 4209, 'behold': 4210, 'logan': 4211, 'unfair': 4212, '2008': 4213, 'stark': 4214, 'guitar': 4215, 'canyon': 4216, 'runner': 4217, 'preposter': 4218, 'grief': 4219, 'sweep': 4220, 'soup': 4221, 'shell': 4222, 'fundament': 4223, 'phil': 4224, 'pete': 4225, 'conscious': 4226, 'penni': 4227, 'outlin': 4228, 'rita': 4229, 'tactic': 4230, 'despis': 4231, 'helpless': 4232, 'scriptwrit': 4233, 'legaci': 4234, 'divid': 4235, 'schedul': 4236, 'critiqu': 4237, 'squad': 4238, 'robber': 4239, 'technicolor': 4240, 'bias': 4241, 'bridget': 4242, 'stuart': 4243, 'exhaust': 4244, 'isabel': 4245, 'clau': 4246, 'preston': 4247, 'rehash': 4248, 'propos': 4249, 'jodi': 4250, 'sugar': 4251, 'agenc': 4252, 'boyl': 4253, 'restrict': 4254, 'passag': 4255, 'newman': 4256, 'downey': 4257, 'connor': 4258, 'alley': 4259, 'kansa': 4260, 'flair': 4261, 'consciou': 4262, 'delv': 4263, 'culmin': 4264, 'palanc': 4265, 'bloom': 4266, 'sniper': 4267, 'alicia': 4268, 'implic': 4269, 'vomit': 4270, 'inabl': 4271, 'gregori': 4272, 'russia': 4273, 'invad': 4274, 'unexpectedli': 4275, 'jacket': 4276, 'marc': 4277, 'drove': 4278, 'lacklust': 4279, 'rear': 4280, 'liberti': 4281, 'sentinel': 4282, 'cigarett': 4283, 'wrench': 4284, 'ladder': 4285, 'lush': 4286, 'rod': 4287, 'tendenc': 4288, 'bacon': 4289, 'behaviour': 4290, 'arrow': 4291, 'tripe': 4292, 'vet': 4293, 'aesthet': 4294, 'cap': 4295, 'foxx': 4296, '22': 4297, 'awhil': 4298, 'improb': 4299, 'rampag': 4300, 'pale': 4301, 'chainsaw': 4302, 'horn': 4303, 'mccoy': 4304, 'karl': 4305, '1936': 4306, 'feat': 4307, 'sharon': 4308, 'kolchak': 4309, 'delet': 4310, 'rehears': 4311, 'asylum': 4312, 'yeti': 4313, 'financ': 4314, 'weav': 4315, 'coaster': 4316, 'spice': 4317, 'hungri': 4318, '1920': 4319, 'stream': 4320, 'underneath': 4321, 'conscienc': 4322, 'visitor': 4323, 'lurk': 4324, 'hackney': 4325, '1978': 4326, 'tasteless': 4327, 'sung': 4328, 'thunderbird': 4329, 'hulk': 4330, 'rhythm': 4331, 'wildli': 4332, '1988': 4333, '19th': 4334, 'newcom': 4335, 'tomorrow': 4336, 'scoop': 4337, 'aristocrat': 4338, 'amazon': 4339, 'prank': 4340, 'el': 4341, 'shortcom': 4342, 'loneli': 4343, 'paradis': 4344, 'suffici': 4345, 'paramount': 4346, 'minu': 4347, 'rumor': 4348, 'suspicion': 4349, 'globe': 4350, 'filler': 4351, 'basing': 4352, 'fright': 4353, 'elit': 4354, 'wagner': 4355, 'straightforward': 4356, 'couch': 4357, 'immers': 4358, 'bread': 4359, 'atroc': 4360, 'recogniz': 4361, 'choppi': 4362, 'abrupt': 4363, 'smell': 4364, 'heist': 4365, 'worship': 4366, 'dirt': 4367, 'quietli': 4368, 'minist': 4369, 'brit': 4370, 'posey': 4371, 'inmat': 4372, 'paxton': 4373, 'literari': 4374, '75': 4375, 'chamberlain': 4376, 'grudg': 4377, 'cancer': 4378, 'wwe': 4379, 'ingeni': 4380, 'lectur': 4381, 'teas': 4382, 'hopkin': 4383, 'leigh': 4384, 'impos': 4385, 'en': 4386, '1939': 4387, 'counterpart': 4388, 'rub': 4389, 'secondari': 4390, '1989': 4391, 'ram': 4392, 'springer': 4393, 'naughti': 4394, 'entranc': 4395, 'beverli': 4396, 'standout': 4397, 'curli': 4398, 'penn': 4399, 'tierney': 4400, 'iv': 4401, 'chavez': 4402, 'skeptic': 4403, 'watcher': 4404, 'enthral': 4405, 'ratso': 4406, 'morbid': 4407, 'convert': 4408, 'ace': 4409, 'cattl': 4410, 'yearn': 4411, 'esther': 4412, 'missil': 4413, 'sublim': 4414, 'moreov': 4415, 'duel': 4416, 'transcend': 4417, 'clan': 4418, 'heartfelt': 4419, 'variat': 4420, 'sassi': 4421, 'nemesi': 4422, 'quaid': 4423, 'net': 4424, 'laurenc': 4425, 'injuri': 4426, 'policeman': 4427, 'geni': 4428, 'entitl': 4429, 'lindsay': 4430, 'bernard': 4431, 'misguid': 4432, '1986': 4433, 'nolan': 4434, 'attenborough': 4435, 'moder': 4436, 'graini': 4437, 'diari': 4438, 'brood': 4439, 'cruelti': 4440, 'steadi': 4441, 'enabl': 4442, 'hk': 4443, 'youngest': 4444, '1979': 4445, 'vader': 4446, 'dont': 4447, 'uncut': 4448, 'out': 4449, 'setup': 4450, 'rosemari': 4451, 'mytholog': 4452, 'tyler': 4453, 'characteris': 4454, 'grin': 4455, 'bean': 4456, 'bye': 4457, 'puppi': 4458, 'kidman': 4459, 'unexplain': 4460, 'buzz': 4461, 'spiral': 4462, 'artsi': 4463, 'egg': 4464, 'hopelessli': 4465, 'poe': 4466, 'carlito': 4467, 'obstacl': 4468, 'kitti': 4469, 'reliabl': 4470, 'facil': 4471, 'clueless': 4472, 'bounc': 4473, 'martha': 4474, 'effici': 4475, 'heap': 4476, 'athlet': 4477, 'underworld': 4478, 'oblig': 4479, 'spontan': 4480, 'christin': 4481, 'acquaint': 4482, 'kline': 4483, 'sweat': 4484, 'hammi': 4485, 'bewar': 4486, 'despic': 4487, 'baffl': 4488, 'gillian': 4489, 'preming': 4490, '1969': 4491, 'narrow': 4492, 'exterior': 4493, 'decept': 4494, 'weather': 4495, 'patricia': 4496, 'niec': 4497, 'fuel': 4498, 'gina': 4499, 'disastr': 4500, 'hain': 4501, 'bronson': 4502, 'brendan': 4503, 'dilemma': 4504, 'astound': 4505, 'injur': 4506, '73': 4507, 'enlist': 4508, 'uh': 4509, 'taboo': 4510, 'goof': 4511, 'suprem': 4512, 'insipid': 4513, 'biker': 4514, 'sooner': 4515, 'preachi': 4516, 'candl': 4517, 'housewif': 4518, '19': 4519, 'tick': 4520, 'scar': 4521, 'circu': 4522, 'loi': 4523, 'trigger': 4524, 'fontain': 4525, 'viewpoint': 4526, 'loath': 4527, 'dandi': 4528, 'analyz': 4529, 'outlaw': 4530, 'hepburn': 4531, 'mayhem': 4532, 'angst': 4533, 'headach': 4534, 'shatter': 4535, 'lester': 4536, 'sleepwalk': 4537, 'rome': 4538, 'virtu': 4539, 'renaiss': 4540, 'mermaid': 4541, 'harmless': 4542, 'intric': 4543, 'surgeri': 4544, 'claustrophob': 4545, 'steer': 4546, 'fluff': 4547, 'spade': 4548, 'phenomenon': 4549, 'hokey': 4550, 'gere': 4551, 'ebert': 4552, 'camcord': 4553, 'salt': 4554, 'dismal': 4555, 'macho': 4556, 'filth': 4557, 'amor': 4558, 'stimul': 4559, 'redund': 4560, 'contempt': 4561, 'immatur': 4562, 'cassavet': 4563, 'hostag': 4564, 'stair': 4565, 'slimi': 4566, 'sox': 4567, 'idol': 4568, 'scorses': 4569, 'corbett': 4570, 'ariel': 4571, 'glorifi': 4572, 'dish': 4573, 'tripl': 4574, 'bent': 4575, 'foolish': 4576, 'hooker': 4577, 'oldest': 4578, 'overlong': 4579, 'whore': 4580, 'zoom': 4581, 'boston': 4582, 'guin': 4583, 'mutual': 4584, 'mount': 4585, 'trivia': 4586, 'down': 4587, 'muscl': 4588, 'schlock': 4589, 'flirt': 4590, 'assert': 4591, '1976': 4592, 'spinal': 4593, 'joker': 4594, 'rhyme': 4595, '1981': 4596, 'conquer': 4597, 'obligatori': 4598, 'faint': 4599, 'strongest': 4600, 'perman': 4601, 'gasp': 4602, 'keen': 4603, 'beard': 4604, 'zane': 4605, 'cush': 4606, 'shield': 4607, 'alvin': 4608, 'flashi': 4609, 'margin': 4610, 'nolt': 4611, 'frantic': 4612, 'fascist': 4613, 'flag': 4614, 'widescreen': 4615, 'remad': 4616, 'dwarf': 4617, 'transplant': 4618, 'harold': 4619, 'radiat': 4620, 'cohen': 4621, 'astronaut': 4622, 'preced': 4623, 'proport': 4624, 'antagonist': 4625, 'shred': 4626, 'spree': 4627, 'cow': 4628, 'naschi': 4629, 'gabl': 4630, 'messi': 4631, 'corman': 4632, 'resum': 4633, 'barn': 4634, 'claud': 4635, '28': 4636, 'bachelor': 4637, 'neurot': 4638, 'instruct': 4639, '95': 4640, 'fishburn': 4641, 'wield': 4642, 'info': 4643, 'brush': 4644, 'persuad': 4645, 'archiv': 4646, 'interestingli': 4647, 'aborigin': 4648, 'boob': 4649, 'off': 4650, 'triangl': 4651, 'raj': 4652, 'hara': 4653, 'carey': 4654, 'repris': 4655, 'vaniti': 4656, 'bitten': 4657, 'deer': 4658, 'www': 4659, 'scandal': 4660, 'ritchi': 4661, 'divin': 4662, 'danish': 4663, 'mobil': 4664, 'departur': 4665, '1945': 4666, 'flock': 4667, 'someday': 4668, 'discern': 4669, 'sensual': 4670, 'strive': 4671, 'inflict': 4672, 'mol': 4673, 'dim': 4674, 'senior': 4675, 'submit': 4676, 'dame': 4677, 'clad': 4678, 'hilar': 4679, 'bate': 4680, 'ish': 4681, 'miracul': 4682, 'banter': 4683, 'cycl': 4684, 'biblic': 4685, 'jade': 4686, 'hug': 4687, 'rot': 4688, 'colin': 4689, 'dylan': 4690, 'hapless': 4691, 'pixar': 4692, 'frontier': 4693, 'earnest': 4694, 'neill': 4695, 'cher': 4696, 'loretta': 4697, 'pickford': 4698, 'axe': 4699, 'pacif': 4700, 'proclaim': 4701, 'prophet': 4702, 'kathryn': 4703, 'anton': 4704, 'fragil': 4705, 'recit': 4706, 'timberlak': 4707, 'undermin': 4708, 'harrison': 4709, 'carlo': 4710, 'europa': 4711, 'parson': 4712, 'luka': 4713, 'heartwarm': 4714, 'cliffhang': 4715, 'traffic': 4716, 'artwork': 4717, 'vibrant': 4718, 'mobster': 4719, 'cb': 4720, 'helm': 4721, 'casino': 4722, 'wendigo': 4723, 'melissa': 4724, 'foil': 4725, 'razor': 4726, 'northern': 4727, 'articl': 4728, 'vanessa': 4729, 'nope': 4730, 'winchest': 4731, 'orphan': 4732, 'feast': 4733, 'antholog': 4734, 'trier': 4735, 'misfortun': 4736, 'token': 4737, 'http': 4738, 'mason': 4739, 'akin': 4740, 'seedi': 4741, 'pc': 4742, 'static': 4743, 'wardrob': 4744, 'marlon': 4745, 'cerebr': 4746, 'toronto': 4747, 'estrang': 4748, 'choke': 4749, 'lucil': 4750, 'blatantli': 4751, 'milo': 4752, 'shepherd': 4753, 'sicken': 4754, 'vile': 4755, 'aris': 4756, 'illus': 4757, 'breakfast': 4758, 'venom': 4759, 'jordan': 4760, 'jo': 4761, 'redneck': 4762, 'electron': 4763, 'rooki': 4764, 'eli': 4765, 'legitim': 4766, 'lui': 4767, 'flavor': 4768, 'bondag': 4769, 'isra': 4770, 'uma': 4771, 'holocaust': 4772, 'bikini': 4773, 'alexandr': 4774, 'mathieu': 4775, 'comprehend': 4776, 'styliz': 4777, 'linear': 4778, 'glare': 4779, 'disregard': 4780, 'huston': 4781, 'howl': 4782, 'peer': 4783, 'shorter': 4784, 'wrestler': 4785, 'audrey': 4786, 'tack': 4787, 'ideolog': 4788, 'smack': 4789, 'frog': 4790, 'fifth': 4791, 'deem': 4792, 'abund': 4793, 'leather': 4794, 'dudley': 4795, 'magician': 4796, 'oppon': 4797, 'clinic': 4798, 'cartoonish': 4799, 'turd': 4800, 'feminin': 4801, 'ceremoni': 4802, 'nightclub': 4803, 'charlton': 4804, 'gunga': 4805, 'swept': 4806, 'affleck': 4807, 'retriev': 4808, 'gilbert': 4809, 'boyer': 4810, 'highway': 4811, 'outdat': 4812, 'knightley': 4813, 'psych': 4814, 'monument': 4815, 'corn': 4816, 'lavish': 4817, 'chip': 4818, 'potter': 4819, 'phenomen': 4820, 'lighter': 4821, 'greet': 4822, 'newer': 4823, 'breakdown': 4824, 'energet': 4825, 'btw': 4826, 'goldsworthi': 4827, 'spawn': 4828, 'uniformli': 4829, 'plate': 4830, 'toe': 4831, 'conrad': 4832, 'cuban': 4833, 'mitch': 4834, 'compris': 4835, 'moe': 4836, 'client': 4837, 'collector': 4838, 'sleaz': 4839, '1991': 4840, 'whack': 4841, '1994': 4842, 'lifeless': 4843, 'evolut': 4844, 'cemeteri': 4845, 'spine': 4846, 'summar': 4847, 'snatch': 4848, 'boo': 4849, '4th': 4850, 'durat': 4851, 'einstein': 4852, 'senat': 4853, 'salman': 4854, 'deliver': 4855, 'tara': 4856, 'bastard': 4857, 'braveheart': 4858, 'bogu': 4859, 'jare': 4860, 'healthi': 4861, 'signal': 4862, 'inaccuraci': 4863, 'pronounc': 4864, '1974': 4865, 'gilliam': 4866, 'spectacl': 4867, 'creek': 4868, 'bulk': 4869, 'nina': 4870, 'constitut': 4871, 'belli': 4872, 'fluid': 4873, '1977': 4874, 'ie': 4875, 'undead': 4876, 'sorrow': 4877, 'bori': 4878, 'alleg': 4879, 'cecil': 4880, 'armstrong': 4881, 'eleven': 4882, 'outright': 4883, 'neatli': 4884, 'capot': 4885, 'lex': 4886, 'jam': 4887, 'wtf': 4888, 'undertak': 4889, 'trauma': 4890, 'judd': 4891, 'jedi': 4892, 'ol': 4893, 'firmli': 4894, 'replay': 4895, 'appl': 4896, 'jule': 4897, 'historian': 4898, 'clara': 4899, 'occup': 4900, 'mcqueen': 4901, 'evelyn': 4902, 'kent': 4903, 'embark': 4904, 'randolph': 4905, 'liu': 4906, 'kazan': 4907, 'luxuri': 4908, 'inaccur': 4909, 'unsuspect': 4910, 'mum': 4911, 'conan': 4912, 'abound': 4913, 'forgiven': 4914, 'vain': 4915, 'subtli': 4916, 'sacrif': 4917, 'palm': 4918, 'goldblum': 4919, 'genet': 4920, 'cape': 4921, 'congratul': 4922, 'antonio': 4923, 'decapit': 4924, 'poker': 4925, 'unattract': 4926, 'truman': 4927, 'pioneer': 4928, 'spray': 4929, 'roar': 4930, 'miami': 4931, 'lauren': 4932, 'fruit': 4933, 'porter': 4934, 'blur': 4935, 'galaxi': 4936, 'id': 4937, 'comprehens': 4938, '1985': 4939, 'sidewalk': 4940, 'meal': 4941, 'carmen': 4942, 'basket': 4943, 'pepper': 4944, 'lanc': 4945, 'propheci': 4946, 'miniseri': 4947, 'curtain': 4948, 'bsg': 4949, 'groan': 4950, 'paula': 4951, 'inclus': 4952, 'tokyo': 4953, 'relentless': 4954, 'knee': 4955, 'bait': 4956, 'comb': 4957, 'vignett': 4958, 'kiddi': 4959, 'rosario': 4960, 'ash': 4961, 'walt': 4962, 'aussi': 4963, 'bach': 4964, 'frontal': 4965, 'asset': 4966, 'optimist': 4967, 'hackman': 4968, 'bravo': 4969, 'masterson': 4970, 'rapidli': 4971, 'dubiou': 4972, 'assort': 4973, 'ghetto': 4974, 'weaker': 4975, '21st': 4976, 'spill': 4977, 'jill': 4978, 'verg': 4979, 'reincarn': 4980, 'growth': 4981, 'scarfac': 4982, 'epitom': 4983, 'incorrect': 4984, 'substanti': 4985, 'weari': 4986, 'playboy': 4987, 'detach': 4988, 'modest': 4989, 'victorian': 4990, 'drone': 4991, 'motorcycl': 4992, 'sophi': 4993, 'monti': 4994, 'orchestr': 4995, 'profil': 4996, 'evan': 4997, 'vastli': 4998, 'sparkl': 4999}\n"
     ]
    }
   ],
   "source": [
    "print(word_dict)"
   ]
  },
  {
   "cell_type": "markdown",
   "metadata": {},
   "source": [
    "### Save `word_dict`\n",
    "\n",
    "Later on when we construct an endpoint which processes a submitted review we will need to make use of the `word_dict` which we have created. As such, we will save it to a file now for future use."
   ]
  },
  {
   "cell_type": "code",
   "execution_count": 73,
   "metadata": {},
   "outputs": [],
   "source": [
    "data_dir = '../data/pytorch' # The folder we will use for storing data\n",
    "if not os.path.exists(data_dir): # Make sure that the folder exists\n",
    "    os.makedirs(data_dir)"
   ]
  },
  {
   "cell_type": "code",
   "execution_count": 74,
   "metadata": {},
   "outputs": [],
   "source": [
    "with open(os.path.join(data_dir, 'word_dict.pkl'), \"wb\") as f:\n",
    "    pickle.dump(word_dict, f)"
   ]
  },
  {
   "cell_type": "markdown",
   "metadata": {},
   "source": [
    "### Transform the reviews\n",
    "\n",
    "Now that we have our word dictionary which allows us to transform the words appearing in the reviews into integers, it is time to make use of it and convert our reviews to their integer sequence representation, making sure to pad or truncate to a fixed length, which in our case is `500`."
   ]
  },
  {
   "cell_type": "code",
   "execution_count": 75,
   "metadata": {},
   "outputs": [],
   "source": [
    "def convert_and_pad(word_dict, sentence, pad=500):\n",
    "    NOWORD = 0 # We will use 0 to represent the 'no word' category\n",
    "    INFREQ = 1 # and we use 1 to represent the infrequent words, i.e., words not appearing in word_dict\n",
    "    \n",
    "    working_sentence = [NOWORD] * pad\n",
    "    \n",
    "    for word_index, word in enumerate(sentence[:pad]):\n",
    "        if word in word_dict:\n",
    "            working_sentence[word_index] = word_dict[word]\n",
    "        else:\n",
    "            working_sentence[word_index] = INFREQ\n",
    "            \n",
    "    return working_sentence, min(len(sentence), pad)\n",
    "\n",
    "def convert_and_pad_data(word_dict, data, pad=500):\n",
    "    result = []\n",
    "    lengths = []\n",
    "    \n",
    "    for sentence in data:\n",
    "        converted, leng = convert_and_pad(word_dict, sentence, pad)\n",
    "        result.append(converted)\n",
    "        lengths.append(leng)\n",
    "        \n",
    "    return np.array(result), np.array(lengths)"
   ]
  },
  {
   "cell_type": "code",
   "execution_count": 76,
   "metadata": {},
   "outputs": [],
   "source": [
    "train_X, train_X_len = convert_and_pad_data(word_dict, train_X)\n",
    "test_X, test_X_len = convert_and_pad_data(word_dict, test_X)"
   ]
  },
  {
   "cell_type": "markdown",
   "metadata": {},
   "source": [
    "As a quick check to make sure that things are working as intended, check to see what one of the reviews in the training set looks like after having been processeed. Does this look reasonable? What is the length of a review in the training set?"
   ]
  },
  {
   "cell_type": "code",
   "execution_count": 77,
   "metadata": {},
   "outputs": [
    {
     "name": "stdout",
     "output_type": "stream",
     "text": [
      "[ 249    3 4964    1    1 1557 1851  951  362 3638 1832 4964  313  191\n",
      "  891   60  985  164 2481    3 4584 2924   42  177    9  177  544  137\n",
      "   18   62 2051  513  973   14   74  687   62    1    1    1    1 1096\n",
      "  319    1  148 3464   62 4472   68 3845    4   79  303 4861  196  351\n",
      "    1   56  350 4861  351   48 1677 3464  108   40   15   22  516    1\n",
      "  152  719    0    0    0    0    0    0    0    0    0    0    0    0\n",
      "    0    0    0    0    0    0    0    0    0    0    0    0    0    0\n",
      "    0    0    0    0    0    0    0    0    0    0    0    0    0    0\n",
      "    0    0    0    0    0    0    0    0    0    0    0    0    0    0\n",
      "    0    0    0    0    0    0    0    0    0    0    0    0    0    0\n",
      "    0    0    0    0    0    0    0    0    0    0    0    0    0    0\n",
      "    0    0    0    0    0    0    0    0    0    0    0    0    0    0\n",
      "    0    0    0    0    0    0    0    0    0    0    0    0    0    0\n",
      "    0    0    0    0    0    0    0    0    0    0    0    0    0    0\n",
      "    0    0    0    0    0    0    0    0    0    0    0    0    0    0\n",
      "    0    0    0    0    0    0    0    0    0    0    0    0    0    0\n",
      "    0    0    0    0    0    0    0    0    0    0    0    0    0    0\n",
      "    0    0    0    0    0    0    0    0    0    0    0    0    0    0\n",
      "    0    0    0    0    0    0    0    0    0    0    0    0    0    0\n",
      "    0    0    0    0    0    0    0    0    0    0    0    0    0    0\n",
      "    0    0    0    0    0    0    0    0    0    0    0    0    0    0\n",
      "    0    0    0    0    0    0    0    0    0    0    0    0    0    0\n",
      "    0    0    0    0    0    0    0    0    0    0    0    0    0    0\n",
      "    0    0    0    0    0    0    0    0    0    0    0    0    0    0\n",
      "    0    0    0    0    0    0    0    0    0    0    0    0    0    0\n",
      "    0    0    0    0    0    0    0    0    0    0    0    0    0    0\n",
      "    0    0    0    0    0    0    0    0    0    0    0    0    0    0\n",
      "    0    0    0    0    0    0    0    0    0    0    0    0    0    0\n",
      "    0    0    0    0    0    0    0    0    0    0    0    0    0    0\n",
      "    0    0    0    0    0    0    0    0    0    0    0    0    0    0\n",
      "    0    0    0    0    0    0    0    0    0    0    0    0    0    0\n",
      "    0    0    0    0    0    0    0    0    0    0    0    0    0    0\n",
      "    0    0    0    0    0    0    0    0    0    0    0    0    0    0\n",
      "    0    0    0    0    0    0    0    0    0    0    0    0    0    0\n",
      "    0    0    0    0    0    0    0    0    0    0    0    0    0    0\n",
      "    0    0    0    0    0    0    0    0    0    0]\n",
      "Length of the review 500\n"
     ]
    }
   ],
   "source": [
    "# Use this cell to examine one of the processed reviews to make sure everything is working as intended.\n",
    "print(train_X[1])\n",
    "print('Length of the review', len(train_X[10]))"
   ]
  },
  {
   "cell_type": "markdown",
   "metadata": {},
   "source": [
    "**Question:** In the cells above we use the `preprocess_data` and `convert_and_pad_data` methods to process both the training and testing set. Why or why not might this be a problem?"
   ]
  },
  {
   "cell_type": "markdown",
   "metadata": {},
   "source": [
    "**Answer:** It can be a problem as we are building a word ictionary based only on the 5000 frequently appearing words in the training set, which can fail on test data that may have diffrent frequently appearing words. However, if we applied preprocessing only on train set and not on test set, that may cause data discrepancy. Therefore, applying preprocessing on both train and test sets can reduce this discrepancy and it will be easier for the model to predict. "
   ]
  },
  {
   "cell_type": "markdown",
   "metadata": {},
   "source": [
    "## Step 3: Upload the data to S3\n",
    "\n",
    "As in the XGBoost notebook, we will need to upload the training dataset to S3 in order for our training code to access it. For now we will save it locally and we will upload to S3 later on.\n",
    "\n",
    "### Save the processed training dataset locally\n",
    "\n",
    "It is important to note the format of the data that we are saving as we will need to know it when we write the training code. In our case, each row of the dataset has the form `label`, `length`, `review[500]` where `review[500]` is a sequence of `500` integers representing the words in the review."
   ]
  },
  {
   "cell_type": "code",
   "execution_count": 78,
   "metadata": {},
   "outputs": [],
   "source": [
    "import pandas as pd\n",
    "    \n",
    "pd.concat([pd.DataFrame(train_y), pd.DataFrame(train_X_len), pd.DataFrame(train_X)], axis=1) \\\n",
    "        .to_csv(os.path.join(data_dir, 'train.csv'), header=False, index=False)"
   ]
  },
  {
   "cell_type": "markdown",
   "metadata": {},
   "source": [
    "### Uploading the training data\n",
    "\n",
    "\n",
    "Next, we need to upload the training data to the SageMaker default S3 bucket so that we can provide access to it while training our model."
   ]
  },
  {
   "cell_type": "code",
   "execution_count": 79,
   "metadata": {},
   "outputs": [],
   "source": [
    "import sagemaker\n",
    "\n",
    "sagemaker_session = sagemaker.Session()\n",
    "\n",
    "bucket = sagemaker_session.default_bucket()\n",
    "prefix = 'sagemaker/sentiment_rnn'\n",
    "\n",
    "role = sagemaker.get_execution_role()"
   ]
  },
  {
   "cell_type": "code",
   "execution_count": 80,
   "metadata": {},
   "outputs": [],
   "source": [
    "input_data = sagemaker_session.upload_data(path=data_dir, bucket=bucket, key_prefix=prefix)"
   ]
  },
  {
   "cell_type": "markdown",
   "metadata": {},
   "source": [
    "**NOTE:** The cell above uploads the entire contents of our data directory. This includes the `word_dict.pkl` file. This is fortunate as we will need this later on when we create an endpoint that accepts an arbitrary review. For now, we will just take note of the fact that it resides in the data directory (and so also in the S3 training bucket) and that we will need to make sure it gets saved in the model directory."
   ]
  },
  {
   "cell_type": "markdown",
   "metadata": {},
   "source": [
    "## Step 4: Build and Train the PyTorch Model\n",
    "\n",
    "In the XGBoost notebook we discussed what a model is in the SageMaker framework. In particular, a model comprises three objects\n",
    "\n",
    " - Model Artifacts,\n",
    " - Training Code, and\n",
    " - Inference Code,\n",
    " \n",
    "each of which interact with one another. In the XGBoost example we used training and inference code that was provided by Amazon. Here we will still be using containers provided by Amazon with the added benefit of being able to include our own custom code.\n",
    "\n",
    "We will start by implementing our own neural network in PyTorch along with a training script. For the purposes of this project we have provided the necessary model object in the `model.py` file, inside of the `train` folder. You can see the provided implementation by running the cell below."
   ]
  },
  {
   "cell_type": "code",
   "execution_count": 81,
   "metadata": {},
   "outputs": [
    {
     "name": "stdout",
     "output_type": "stream",
     "text": [
      "\u001b[34mimport\u001b[39;49;00m \u001b[04m\u001b[36mtorch\u001b[39;49;00m\u001b[04m\u001b[36m.\u001b[39;49;00m\u001b[04m\u001b[36mnn\u001b[39;49;00m \u001b[34mas\u001b[39;49;00m \u001b[04m\u001b[36mnn\u001b[39;49;00m\r\n",
      "\r\n",
      "\u001b[34mclass\u001b[39;49;00m \u001b[04m\u001b[32mLSTMClassifier\u001b[39;49;00m(nn.Module):\r\n",
      "    \u001b[33m\"\"\"\u001b[39;49;00m\r\n",
      "\u001b[33m    This is the simple RNN model we will be using to perform Sentiment Analysis.\u001b[39;49;00m\r\n",
      "\u001b[33m    \"\"\"\u001b[39;49;00m\r\n",
      "\r\n",
      "    \u001b[34mdef\u001b[39;49;00m \u001b[32m__init__\u001b[39;49;00m(\u001b[36mself\u001b[39;49;00m, embedding_dim, hidden_dim, vocab_size):\r\n",
      "        \u001b[33m\"\"\"\u001b[39;49;00m\r\n",
      "\u001b[33m        Initialize the model by settingg up the various layers.\u001b[39;49;00m\r\n",
      "\u001b[33m        \"\"\"\u001b[39;49;00m\r\n",
      "        \u001b[36msuper\u001b[39;49;00m(LSTMClassifier, \u001b[36mself\u001b[39;49;00m).\u001b[32m__init__\u001b[39;49;00m()\r\n",
      "\r\n",
      "        \u001b[36mself\u001b[39;49;00m.embedding = nn.Embedding(vocab_size, embedding_dim, padding_idx=\u001b[34m0\u001b[39;49;00m)\r\n",
      "        \u001b[36mself\u001b[39;49;00m.lstm = nn.LSTM(embedding_dim, hidden_dim)\r\n",
      "        \u001b[36mself\u001b[39;49;00m.dense = nn.Linear(in_features=hidden_dim, out_features=\u001b[34m1\u001b[39;49;00m)\r\n",
      "        \u001b[36mself\u001b[39;49;00m.sig = nn.Sigmoid()\r\n",
      "        \r\n",
      "        \u001b[36mself\u001b[39;49;00m.word_dict = \u001b[34mNone\u001b[39;49;00m\r\n",
      "\r\n",
      "    \u001b[34mdef\u001b[39;49;00m \u001b[32mforward\u001b[39;49;00m(\u001b[36mself\u001b[39;49;00m, x):\r\n",
      "        \u001b[33m\"\"\"\u001b[39;49;00m\r\n",
      "\u001b[33m        Perform a forward pass of our model on some input.\u001b[39;49;00m\r\n",
      "\u001b[33m        \"\"\"\u001b[39;49;00m\r\n",
      "        x = x.t()\r\n",
      "        lengths = x[\u001b[34m0\u001b[39;49;00m,:]\r\n",
      "        reviews = x[\u001b[34m1\u001b[39;49;00m:,:]\r\n",
      "        embeds = \u001b[36mself\u001b[39;49;00m.embedding(reviews)\r\n",
      "        lstm_out, _ = \u001b[36mself\u001b[39;49;00m.lstm(embeds)\r\n",
      "        out = \u001b[36mself\u001b[39;49;00m.dense(lstm_out)\r\n",
      "        out = out[lengths - \u001b[34m1\u001b[39;49;00m, \u001b[36mrange\u001b[39;49;00m(\u001b[36mlen\u001b[39;49;00m(lengths))]\r\n",
      "        \u001b[34mreturn\u001b[39;49;00m \u001b[36mself\u001b[39;49;00m.sig(out.squeeze())\r\n"
     ]
    }
   ],
   "source": [
    "!pygmentize train/model.py"
   ]
  },
  {
   "cell_type": "markdown",
   "metadata": {},
   "source": [
    "The important takeaway from the implementation provided is that there are three parameters that we may wish to tweak to improve the performance of our model. These are the embedding dimension, the hidden dimension and the size of the vocabulary. We will likely want to make these parameters configurable in the training script so that if we wish to modify them we do not need to modify the script itself. We will see how to do this later on. To start we will write some of the training code in the notebook so that we can more easily diagnose any issues that arise.\n",
    "\n",
    "First we will load a small portion of the training data set to use as a sample. It would be very time consuming to try and train the model completely in the notebook as we do not have access to a gpu and the compute instance that we are using is not particularly powerful. However, we can work on a small bit of the data to get a feel for how our training script is behaving."
   ]
  },
  {
   "cell_type": "code",
   "execution_count": 82,
   "metadata": {},
   "outputs": [],
   "source": [
    "import torch\n",
    "import torch.utils.data\n",
    "\n",
    "# Read in only the first 250 rows\n",
    "train_sample = pd.read_csv(os.path.join(data_dir, 'train.csv'), header=None, names=None, nrows=250)\n",
    "\n",
    "# Turn the input pandas dataframe into tensors\n",
    "train_sample_y = torch.from_numpy(train_sample[[0]].values).float().squeeze()\n",
    "train_sample_X = torch.from_numpy(train_sample.drop([0], axis=1).values).long()\n",
    "\n",
    "# Build the dataset\n",
    "train_sample_ds = torch.utils.data.TensorDataset(train_sample_X, train_sample_y)\n",
    "# Build the dataloader\n",
    "train_sample_dl = torch.utils.data.DataLoader(train_sample_ds, batch_size=50)"
   ]
  },
  {
   "cell_type": "markdown",
   "metadata": {},
   "source": [
    "### (TODO) Writing the training method\n",
    "\n",
    "Next we need to write the training code itself. This should be very similar to training methods that you have written before to train PyTorch models. We will leave any difficult aspects such as model saving / loading and parameter loading until a little later."
   ]
  },
  {
   "cell_type": "code",
   "execution_count": 84,
   "metadata": {},
   "outputs": [],
   "source": [
    "def train(model, train_loader, epochs, optimizer, loss_fn, device):\n",
    "    for epoch in range(1, epochs + 1):\n",
    "        model.train()\n",
    "        total_loss = 0\n",
    "        for batch in train_loader:         \n",
    "            batch_X, batch_y = batch\n",
    "            \n",
    "            batch_X = batch_X.to(device)\n",
    "            batch_y = batch_y.to(device)\n",
    "            \n",
    "            # TODO: Complete this train method to train the model provided.\n",
    "            optimizer.zero_grad()\n",
    "            \n",
    "            outputs = model.forward(batch_X)\n",
    "            loss = loss_fn(outputs, batch_y)\n",
    "            loss.backward()\n",
    "            optimizer.step()\n",
    "            \n",
    "            total_loss += loss.data.item()\n",
    "        print(\"Epoch: {}, BCELoss: {}\".format(epoch, total_loss / len(train_loader)))"
   ]
  },
  {
   "cell_type": "markdown",
   "metadata": {},
   "source": [
    "Supposing we have the training method above, we will test that it is working by writing a bit of code in the notebook that executes our training method on the small sample training set that we loaded earlier. The reason for doing this in the notebook is so that we have an opportunity to fix any errors that arise early when they are easier to diagnose."
   ]
  },
  {
   "cell_type": "code",
   "execution_count": 85,
   "metadata": {},
   "outputs": [
    {
     "name": "stdout",
     "output_type": "stream",
     "text": [
      "Epoch: 1, BCELoss: 0.6922626614570617\n",
      "Epoch: 2, BCELoss: 0.6839131355285645\n",
      "Epoch: 3, BCELoss: 0.6767428755760193\n",
      "Epoch: 4, BCELoss: 0.668661892414093\n",
      "Epoch: 5, BCELoss: 0.6586556434631348\n",
      "Epoch: 6, BCELoss: 0.645317792892456\n",
      "Epoch: 7, BCELoss: 0.6264415264129639\n",
      "Epoch: 8, BCELoss: 0.5991180658340454\n",
      "Epoch: 9, BCELoss: 0.5592070102691651\n",
      "Epoch: 10, BCELoss: 0.5082111120223999\n"
     ]
    }
   ],
   "source": [
    "import torch.optim as optim\n",
    "from train.model import LSTMClassifier\n",
    "\n",
    "device = torch.device(\"cuda\" if torch.cuda.is_available() else \"cpu\")\n",
    "model = LSTMClassifier(32, 100, 5000).to(device)\n",
    "optimizer = optim.Adam(model.parameters())\n",
    "loss_fn = torch.nn.BCELoss()\n",
    "\n",
    "train(model, train_sample_dl, 10, optimizer, loss_fn, device)"
   ]
  },
  {
   "cell_type": "markdown",
   "metadata": {},
   "source": [
    "In order to construct a PyTorch model using SageMaker we must provide SageMaker with a training script. We may optionally include a directory which will be copied to the container and from which our training code will be run. When the training container is executed it will check the uploaded directory (if there is one) for a `requirements.txt` file and install any required Python libraries, after which the training script will be run."
   ]
  },
  {
   "cell_type": "markdown",
   "metadata": {},
   "source": [
    "### (TODO) Training the model\n",
    "\n",
    "When a PyTorch model is constructed in SageMaker, an entry point must be specified. This is the Python file which will be executed when the model is trained. Inside of the `train` directory is a file called `train.py` which has been provided and which contains most of the necessary code to train our model. The only thing that is missing is the implementation of the `train()` method which you wrote earlier in this notebook.\n",
    "\n",
    "**TODO**: Copy the `train()` method written above and paste it into the `train/train.py` file where required.\n",
    "\n",
    "The way that SageMaker passes hyperparameters to the training script is by way of arguments. These arguments can then be parsed and used in the training script. To see how this is done take a look at the provided `train/train.py` file."
   ]
  },
  {
   "cell_type": "code",
   "execution_count": 86,
   "metadata": {},
   "outputs": [],
   "source": [
    "from sagemaker.pytorch import PyTorch\n",
    "\n",
    "estimator = PyTorch(entry_point=\"train.py\",\n",
    "                    source_dir=\"train\",\n",
    "                    role=role,\n",
    "                    framework_version='0.4.0',\n",
    "                    train_instance_count=1,\n",
    "                    train_instance_type='ml.m4.xlarge',\n",
    "                    hyperparameters={\n",
    "                        'epochs': 10,\n",
    "                        'hidden_dim': 200,\n",
    "                    })"
   ]
  },
  {
   "cell_type": "code",
   "execution_count": 87,
   "metadata": {},
   "outputs": [
    {
     "name": "stderr",
     "output_type": "stream",
     "text": [
      "'create_image_uri' will be deprecated in favor of 'ImageURIProvider' class in SageMaker Python SDK v2.\n",
      "'s3_input' class will be renamed to 'TrainingInput' in SageMaker Python SDK v2.\n",
      "'create_image_uri' will be deprecated in favor of 'ImageURIProvider' class in SageMaker Python SDK v2.\n"
     ]
    },
    {
     "name": "stdout",
     "output_type": "stream",
     "text": [
      "2020-10-16 20:55:24 Starting - Starting the training job...\n",
      "2020-10-16 20:55:26 Starting - Launching requested ML instances...\n",
      "2020-10-16 20:56:23 Starting - Preparing the instances for training......\n",
      "2020-10-16 20:57:24 Downloading - Downloading input data...\n",
      "2020-10-16 20:57:38 Training - Downloading the training image.\u001b[34mbash: cannot set terminal process group (-1): Inappropriate ioctl for device\u001b[0m\n",
      "\u001b[34mbash: no job control in this shell\u001b[0m\n",
      "\u001b[34m2020-10-16 20:57:58,181 sagemaker-containers INFO     Imported framework sagemaker_pytorch_container.training\u001b[0m\n",
      "\u001b[34m2020-10-16 20:57:58,183 sagemaker-containers INFO     No GPUs detected (normal if no gpus installed)\u001b[0m\n",
      "\u001b[34m2020-10-16 20:57:58,196 sagemaker_pytorch_container.training INFO     Block until all host DNS lookups succeed.\u001b[0m\n",
      "\u001b[34m2020-10-16 20:58:01,256 sagemaker_pytorch_container.training INFO     Invoking user training script.\u001b[0m\n",
      "\u001b[34m2020-10-16 20:58:01,689 sagemaker-containers INFO     Module train does not provide a setup.py. \u001b[0m\n",
      "\u001b[34mGenerating setup.py\u001b[0m\n",
      "\u001b[34m2020-10-16 20:58:01,690 sagemaker-containers INFO     Generating setup.cfg\u001b[0m\n",
      "\u001b[34m2020-10-16 20:58:01,690 sagemaker-containers INFO     Generating MANIFEST.in\u001b[0m\n",
      "\u001b[34m2020-10-16 20:58:01,690 sagemaker-containers INFO     Installing module with the following command:\u001b[0m\n",
      "\u001b[34m/usr/bin/python -m pip install -U . -r requirements.txt\u001b[0m\n",
      "\u001b[34mProcessing /opt/ml/code\u001b[0m\n",
      "\u001b[34mCollecting pandas (from -r requirements.txt (line 1))\n",
      "  Downloading https://files.pythonhosted.org/packages/74/24/0cdbf8907e1e3bc5a8da03345c23cbed7044330bb8f73bb12e711a640a00/pandas-0.24.2-cp35-cp35m-manylinux1_x86_64.whl (10.0MB)\u001b[0m\n",
      "\u001b[34mCollecting numpy (from -r requirements.txt (line 2))\u001b[0m\n",
      "\u001b[34m  Downloading https://files.pythonhosted.org/packages/b5/36/88723426b4ff576809fec7d73594fe17a35c27f8d01f93637637a29ae25b/numpy-1.18.5-cp35-cp35m-manylinux1_x86_64.whl (19.9MB)\u001b[0m\n",
      "\u001b[34mCollecting nltk (from -r requirements.txt (line 3))\n",
      "  Downloading https://files.pythonhosted.org/packages/92/75/ce35194d8e3022203cca0d2f896dbb88689f9b3fce8e9f9cff942913519d/nltk-3.5.zip (1.4MB)\u001b[0m\n",
      "\u001b[34mCollecting beautifulsoup4 (from -r requirements.txt (line 4))\n",
      "  Downloading https://files.pythonhosted.org/packages/d1/41/e6495bd7d3781cee623ce23ea6ac73282a373088fcd0ddc809a047b18eae/beautifulsoup4-4.9.3-py3-none-any.whl (115kB)\u001b[0m\n",
      "\u001b[34mCollecting html5lib (from -r requirements.txt (line 5))\n",
      "  Downloading https://files.pythonhosted.org/packages/6c/dd/a834df6482147d48e225a49515aabc28974ad5a4ca3215c18a882565b028/html5lib-1.1-py2.py3-none-any.whl (112kB)\u001b[0m\n",
      "\u001b[34mCollecting pytz>=2011k (from pandas->-r requirements.txt (line 1))\u001b[0m\n",
      "\u001b[34m  Downloading https://files.pythonhosted.org/packages/4f/a4/879454d49688e2fad93e59d7d4efda580b783c745fd2ec2a3adf87b0808d/pytz-2020.1-py2.py3-none-any.whl (510kB)\u001b[0m\n",
      "\u001b[34mRequirement already satisfied, skipping upgrade: python-dateutil>=2.5.0 in /usr/local/lib/python3.5/dist-packages (from pandas->-r requirements.txt (line 1)) (2.7.5)\u001b[0m\n",
      "\u001b[34mRequirement already satisfied, skipping upgrade: click in /usr/local/lib/python3.5/dist-packages (from nltk->-r requirements.txt (line 3)) (7.0)\u001b[0m\n",
      "\u001b[34mCollecting joblib (from nltk->-r requirements.txt (line 3))\n",
      "  Downloading https://files.pythonhosted.org/packages/28/5c/cf6a2b65a321c4a209efcdf64c2689efae2cb62661f8f6f4bb28547cf1bf/joblib-0.14.1-py2.py3-none-any.whl (294kB)\u001b[0m\n",
      "\u001b[34mCollecting regex (from nltk->-r requirements.txt (line 3))\n",
      "  Downloading https://files.pythonhosted.org/packages/c9/16/4ea16f4510afd7ce4b77d8ee7ca97717408b3cf99e0a4b3cdd0a47ef6466/regex-2020.10.15.tar.gz (690kB)\u001b[0m\n",
      "\u001b[34mCollecting tqdm (from nltk->-r requirements.txt (line 3))\n",
      "  Downloading https://files.pythonhosted.org/packages/bd/cf/f91813073e4135c1183cadf968256764a6fe4e35c351d596d527c0540461/tqdm-4.50.2-py2.py3-none-any.whl (70kB)\u001b[0m\n",
      "\u001b[34mCollecting soupsieve>1.2; python_version >= \"3.0\" (from beautifulsoup4->-r requirements.txt (line 4))\n",
      "  Downloading https://files.pythonhosted.org/packages/6f/8f/457f4a5390eeae1cc3aeab89deb7724c965be841ffca6cfca9197482e470/soupsieve-2.0.1-py3-none-any.whl\u001b[0m\n",
      "\u001b[34mCollecting webencodings (from html5lib->-r requirements.txt (line 5))\n",
      "  Downloading https://files.pythonhosted.org/packages/f4/24/2a3e3df732393fed8b3ebf2ec078f05546de641fe1b667ee316ec1dcf3b7/webencodings-0.5.1-py2.py3-none-any.whl\u001b[0m\n",
      "\u001b[34mRequirement already satisfied, skipping upgrade: six>=1.9 in /usr/local/lib/python3.5/dist-packages (from html5lib->-r requirements.txt (line 5)) (1.11.0)\u001b[0m\n",
      "\u001b[34mBuilding wheels for collected packages: nltk, train, regex\n",
      "  Running setup.py bdist_wheel for nltk: started\u001b[0m\n",
      "\u001b[34m  Running setup.py bdist_wheel for nltk: finished with status 'done'\n",
      "  Stored in directory: /root/.cache/pip/wheels/ae/8c/3f/b1fe0ba04555b08b57ab52ab7f86023639a526d8bc8d384306\n",
      "  Running setup.py bdist_wheel for train: started\n",
      "  Running setup.py bdist_wheel for train: finished with status 'done'\n",
      "  Stored in directory: /tmp/pip-ephem-wheel-cache-my0_jnh_/wheels/35/24/16/37574d11bf9bde50616c67372a334f94fa8356bc7164af8ca3\n",
      "  Running setup.py bdist_wheel for regex: started\u001b[0m\n",
      "\n",
      "2020-10-16 20:57:57 Training - Training image download completed. Training in progress.\u001b[34m  Running setup.py bdist_wheel for regex: finished with status 'done'\n",
      "  Stored in directory: /root/.cache/pip/wheels/b5/7a/87/3e4a49f4b7de683e6063a9e6b111056587e87a4e13b3a019a5\u001b[0m\n",
      "\u001b[34mSuccessfully built nltk train regex\u001b[0m\n",
      "\u001b[34mInstalling collected packages: numpy, pytz, pandas, joblib, regex, tqdm, nltk, soupsieve, beautifulsoup4, webencodings, html5lib, train\n",
      "  Found existing installation: numpy 1.15.4\n",
      "    Uninstalling numpy-1.15.4:\u001b[0m\n",
      "\u001b[34m      Successfully uninstalled numpy-1.15.4\u001b[0m\n",
      "\u001b[34mSuccessfully installed beautifulsoup4-4.9.3 html5lib-1.1 joblib-0.14.1 nltk-3.5 numpy-1.18.5 pandas-0.24.2 pytz-2020.1 regex-2020.10.15 soupsieve-2.0.1 tqdm-4.50.2 train-1.0.0 webencodings-0.5.1\u001b[0m\n",
      "\u001b[34mYou are using pip version 18.1, however version 20.2.3 is available.\u001b[0m\n",
      "\u001b[34mYou should consider upgrading via the 'pip install --upgrade pip' command.\u001b[0m\n",
      "\u001b[34m2020-10-16 20:58:25,001 sagemaker-containers INFO     No GPUs detected (normal if no gpus installed)\u001b[0m\n",
      "\u001b[34m2020-10-16 20:58:25,015 sagemaker-containers INFO     Invoking user script\n",
      "\u001b[0m\n",
      "\u001b[34mTraining Env:\n",
      "\u001b[0m\n",
      "\u001b[34m{\n",
      "    \"hosts\": [\n",
      "        \"algo-1\"\n",
      "    ],\n",
      "    \"resource_config\": {\n",
      "        \"hosts\": [\n",
      "            \"algo-1\"\n",
      "        ],\n",
      "        \"network_interface_name\": \"eth0\",\n",
      "        \"current_host\": \"algo-1\"\n",
      "    },\n",
      "    \"module_name\": \"train\",\n",
      "    \"module_dir\": \"s3://sagemaker-us-east-2-276685873644/sagemaker-pytorch-2020-10-16-20-55-24-025/source/sourcedir.tar.gz\",\n",
      "    \"current_host\": \"algo-1\",\n",
      "    \"output_dir\": \"/opt/ml/output\",\n",
      "    \"num_gpus\": 0,\n",
      "    \"framework_module\": \"sagemaker_pytorch_container.training:main\",\n",
      "    \"output_intermediate_dir\": \"/opt/ml/output/intermediate\",\n",
      "    \"hyperparameters\": {\n",
      "        \"hidden_dim\": 200,\n",
      "        \"epochs\": 10\n",
      "    },\n",
      "    \"user_entry_point\": \"train.py\",\n",
      "    \"network_interface_name\": \"eth0\",\n",
      "    \"additional_framework_parameters\": {},\n",
      "    \"model_dir\": \"/opt/ml/model\",\n",
      "    \"log_level\": 20,\n",
      "    \"input_dir\": \"/opt/ml/input\",\n",
      "    \"job_name\": \"sagemaker-pytorch-2020-10-16-20-55-24-025\",\n",
      "    \"num_cpus\": 4,\n",
      "    \"channel_input_dirs\": {\n",
      "        \"training\": \"/opt/ml/input/data/training\"\n",
      "    },\n",
      "    \"input_config_dir\": \"/opt/ml/input/config\",\n",
      "    \"input_data_config\": {\n",
      "        \"training\": {\n",
      "            \"S3DistributionType\": \"FullyReplicated\",\n",
      "            \"TrainingInputMode\": \"File\",\n",
      "            \"RecordWrapperType\": \"None\"\n",
      "        }\n",
      "    },\n",
      "    \"output_data_dir\": \"/opt/ml/output/data\"\u001b[0m\n",
      "\u001b[34m}\n",
      "\u001b[0m\n",
      "\u001b[34mEnvironment variables:\n",
      "\u001b[0m\n",
      "\u001b[34mSM_INPUT_CONFIG_DIR=/opt/ml/input/config\u001b[0m\n",
      "\u001b[34mSM_HPS={\"epochs\":10,\"hidden_dim\":200}\u001b[0m\n",
      "\u001b[34mSM_CURRENT_HOST=algo-1\u001b[0m\n",
      "\u001b[34mSM_USER_ENTRY_POINT=train.py\u001b[0m\n",
      "\u001b[34mSM_OUTPUT_INTERMEDIATE_DIR=/opt/ml/output/intermediate\u001b[0m\n",
      "\u001b[34mSM_NUM_GPUS=0\u001b[0m\n",
      "\u001b[34mSM_FRAMEWORK_MODULE=sagemaker_pytorch_container.training:main\u001b[0m\n",
      "\u001b[34mSM_USER_ARGS=[\"--epochs\",\"10\",\"--hidden_dim\",\"200\"]\u001b[0m\n",
      "\u001b[34mSM_INPUT_DATA_CONFIG={\"training\":{\"RecordWrapperType\":\"None\",\"S3DistributionType\":\"FullyReplicated\",\"TrainingInputMode\":\"File\"}}\u001b[0m\n",
      "\u001b[34mSM_MODULE_DIR=s3://sagemaker-us-east-2-276685873644/sagemaker-pytorch-2020-10-16-20-55-24-025/source/sourcedir.tar.gz\u001b[0m\n",
      "\u001b[34mSM_RESOURCE_CONFIG={\"current_host\":\"algo-1\",\"hosts\":[\"algo-1\"],\"network_interface_name\":\"eth0\"}\u001b[0m\n",
      "\u001b[34mSM_NUM_CPUS=4\u001b[0m\n",
      "\u001b[34mSM_MODEL_DIR=/opt/ml/model\u001b[0m\n",
      "\u001b[34mSM_HP_EPOCHS=10\u001b[0m\n",
      "\u001b[34mSM_CHANNEL_TRAINING=/opt/ml/input/data/training\u001b[0m\n",
      "\u001b[34mSM_INPUT_DIR=/opt/ml/input\u001b[0m\n",
      "\u001b[34mSM_NETWORK_INTERFACE_NAME=eth0\u001b[0m\n",
      "\u001b[34mSM_OUTPUT_DIR=/opt/ml/output\u001b[0m\n",
      "\u001b[34mSM_TRAINING_ENV={\"additional_framework_parameters\":{},\"channel_input_dirs\":{\"training\":\"/opt/ml/input/data/training\"},\"current_host\":\"algo-1\",\"framework_module\":\"sagemaker_pytorch_container.training:main\",\"hosts\":[\"algo-1\"],\"hyperparameters\":{\"epochs\":10,\"hidden_dim\":200},\"input_config_dir\":\"/opt/ml/input/config\",\"input_data_config\":{\"training\":{\"RecordWrapperType\":\"None\",\"S3DistributionType\":\"FullyReplicated\",\"TrainingInputMode\":\"File\"}},\"input_dir\":\"/opt/ml/input\",\"job_name\":\"sagemaker-pytorch-2020-10-16-20-55-24-025\",\"log_level\":20,\"model_dir\":\"/opt/ml/model\",\"module_dir\":\"s3://sagemaker-us-east-2-276685873644/sagemaker-pytorch-2020-10-16-20-55-24-025/source/sourcedir.tar.gz\",\"module_name\":\"train\",\"network_interface_name\":\"eth0\",\"num_cpus\":4,\"num_gpus\":0,\"output_data_dir\":\"/opt/ml/output/data\",\"output_dir\":\"/opt/ml/output\",\"output_intermediate_dir\":\"/opt/ml/output/intermediate\",\"resource_config\":{\"current_host\":\"algo-1\",\"hosts\":[\"algo-1\"],\"network_interface_name\":\"eth0\"},\"user_entry_point\":\"train.py\"}\u001b[0m\n",
      "\u001b[34mPYTHONPATH=/usr/local/bin:/usr/lib/python35.zip:/usr/lib/python3.5:/usr/lib/python3.5/plat-x86_64-linux-gnu:/usr/lib/python3.5/lib-dynload:/usr/local/lib/python3.5/dist-packages:/usr/lib/python3/dist-packages\u001b[0m\n",
      "\u001b[34mSM_HOSTS=[\"algo-1\"]\u001b[0m\n",
      "\u001b[34mSM_CHANNELS=[\"training\"]\u001b[0m\n",
      "\u001b[34mSM_MODULE_NAME=train\u001b[0m\n",
      "\u001b[34mSM_OUTPUT_DATA_DIR=/opt/ml/output/data\u001b[0m\n",
      "\u001b[34mSM_HP_HIDDEN_DIM=200\u001b[0m\n",
      "\u001b[34mSM_FRAMEWORK_PARAMS={}\u001b[0m\n",
      "\u001b[34mSM_LOG_LEVEL=20\n",
      "\u001b[0m\n",
      "\u001b[34mInvoking script with the following command:\n",
      "\u001b[0m\n",
      "\u001b[34m/usr/bin/python -m train --epochs 10 --hidden_dim 200\n",
      "\n",
      "\u001b[0m\n",
      "\u001b[34mUsing device cpu.\u001b[0m\n",
      "\u001b[34mGet train data loader.\u001b[0m\n",
      "\u001b[34mModel loaded with embedding_dim 32, hidden_dim 200, vocab_size 5000.\u001b[0m\n",
      "\u001b[34m2020-10-16 20:58:28,294 sagemaker-containers INFO     Reporting training SUCCESS\u001b[0m\n",
      "\n",
      "2020-10-16 20:58:40 Uploading - Uploading generated training model\n",
      "2020-10-16 20:58:40 Completed - Training job completed\n",
      "Training seconds: 76\n",
      "Billable seconds: 76\n"
     ]
    }
   ],
   "source": [
    "estimator.fit({'training': input_data})"
   ]
  },
  {
   "cell_type": "markdown",
   "metadata": {},
   "source": [
    "## Step 5: Testing the model\n",
    "\n",
    "As mentioned at the top of this notebook, we will be testing this model by first deploying it and then sending the testing data to the deployed endpoint. We will do this so that we can make sure that the deployed model is working correctly.\n",
    "\n",
    "## Step 6: Deploy the model for testing\n",
    "\n",
    "Now that we have trained our model, we would like to test it to see how it performs. Currently our model takes input of the form `review_length, review[500]` where `review[500]` is a sequence of `500` integers which describe the words present in the review, encoded using `word_dict`. Fortunately for us, SageMaker provides built-in inference code for models with simple inputs such as this.\n",
    "\n",
    "There is one thing that we need to provide, however, and that is a function which loads the saved model. This function must be called `model_fn()` and takes as its only parameter a path to the directory where the model artifacts are stored. This function must also be present in the python file which we specified as the entry point. In our case the model loading function has been provided and so no changes need to be made.\n",
    "\n",
    "**NOTE**: When the built-in inference code is run it must import the `model_fn()` method from the `train.py` file. This is why the training code is wrapped in a main guard ( ie, `if __name__ == '__main__':` )\n",
    "\n",
    "Since we don't need to change anything in the code that was uploaded during training, we can simply deploy the current model as-is.\n",
    "\n",
    "**NOTE:** When deploying a model you are asking SageMaker to launch an compute instance that will wait for data to be sent to it. As a result, this compute instance will continue to run until *you* shut it down. This is important to know since the cost of a deployed endpoint depends on how long it has been running for.\n",
    "\n",
    "In other words **If you are no longer using a deployed endpoint, shut it down!**\n",
    "\n",
    "**TODO:** Deploy the trained model."
   ]
  },
  {
   "cell_type": "code",
   "execution_count": 30,
   "metadata": {},
   "outputs": [
    {
     "name": "stdout",
     "output_type": "stream",
     "text": [
      "Requirement already up-to-date: pip in /home/ec2-user/anaconda3/envs/pytorch_p36/lib/python3.6/site-packages (20.2.3)\n",
      "Note: you may need to restart the kernel to use updated packages.\n"
     ]
    }
   ],
   "source": [
    "pip install --upgrade pip"
   ]
  },
  {
   "cell_type": "code",
   "execution_count": 89,
   "metadata": {},
   "outputs": [
    {
     "name": "stderr",
     "output_type": "stream",
     "text": [
      "Parameter image will be renamed to image_uri in SageMaker Python SDK v2.\n",
      "'create_image_uri' will be deprecated in favor of 'ImageURIProvider' class in SageMaker Python SDK v2.\n"
     ]
    },
    {
     "name": "stdout",
     "output_type": "stream",
     "text": [
      "-----------------!"
     ]
    }
   ],
   "source": [
    "# TODO: Deploy the trained model\n",
    "predictor=estimator.deploy(initial_instance_count=1, instance_type='ml.m4.xlarge')"
   ]
  },
  {
   "cell_type": "markdown",
   "metadata": {},
   "source": [
    "## Step 7 - Use the model for testing\n",
    "\n",
    "Once deployed, we can read in the test data and send it off to our deployed model to get some results. Once we collect all of the results we can determine how accurate our model is."
   ]
  },
  {
   "cell_type": "code",
   "execution_count": 90,
   "metadata": {},
   "outputs": [],
   "source": [
    "test_X = pd.concat([pd.DataFrame(test_X_len), pd.DataFrame(test_X)], axis=1)"
   ]
  },
  {
   "cell_type": "code",
   "execution_count": 91,
   "metadata": {},
   "outputs": [],
   "source": [
    "# We split the data into chunks and send each chunk seperately, accumulating the results.\n",
    "\n",
    "def predict(data, rows=512):\n",
    "    split_array = np.array_split(data, int(data.shape[0] / float(rows) + 1))\n",
    "    predictions = np.array([])\n",
    "    for array in split_array:\n",
    "        predictions = np.append(predictions, predictor.predict(array))\n",
    "    \n",
    "    return predictions"
   ]
  },
  {
   "cell_type": "code",
   "execution_count": 92,
   "metadata": {},
   "outputs": [],
   "source": [
    "predictions = predict(test_X.values)\n",
    "predictions = [round(num) for num in predictions]"
   ]
  },
  {
   "cell_type": "code",
   "execution_count": 93,
   "metadata": {},
   "outputs": [
    {
     "data": {
      "text/plain": [
       "0.50916"
      ]
     },
     "execution_count": 93,
     "metadata": {},
     "output_type": "execute_result"
    }
   ],
   "source": [
    "from sklearn.metrics import accuracy_score\n",
    "accuracy_score(test_y, predictions)"
   ]
  },
  {
   "cell_type": "markdown",
   "metadata": {},
   "source": [
    "**Question:** How does this model compare to the XGBoost model you created earlier? Why might these two models perform differently on this dataset? Which do *you* think is better for sentiment analysis?"
   ]
  },
  {
   "cell_type": "markdown",
   "metadata": {},
   "source": [
    "**Answer:**"
   ]
  },
  {
   "cell_type": "markdown",
   "metadata": {},
   "source": [
    "### (TODO) More testing\n",
    "\n",
    "We now have a trained model which has been deployed and which we can send processed reviews to and which returns the predicted sentiment. However, ultimately we would like to be able to send our model an unprocessed review. That is, we would like to send the review itself as a string. For example, suppose we wish to send the following review to our model."
   ]
  },
  {
   "cell_type": "code",
   "execution_count": 36,
   "metadata": {},
   "outputs": [],
   "source": [
    "test_review = 'The simplest pleasures in life are the best, and this film is one of them. Combining a rather basic storyline of love and adventure this movie transcends the usual weekend fair with wit and unmitigated charm.'"
   ]
  },
  {
   "cell_type": "markdown",
   "metadata": {},
   "source": [
    "The question we now need to answer is, how do we send this review to our model?\n",
    "\n",
    "Recall in the first section of this notebook we did a bunch of data processing to the IMDb dataset. In particular, we did two specific things to the provided reviews.\n",
    " - Removed any html tags and stemmed the input\n",
    " - Encoded the review as a sequence of integers using `word_dict`\n",
    " \n",
    "In order process the review we will need to repeat these two steps.\n",
    "\n",
    "**TODO**: Using the `review_to_words` and `convert_and_pad` methods from section one, convert `test_review` into a numpy array `test_data` suitable to send to our model. Remember that our model expects input of the form `review_length, review[500]`."
   ]
  },
  {
   "cell_type": "code",
   "execution_count": 37,
   "metadata": {},
   "outputs": [],
   "source": [
    "# TODO: Convert test_review into a form usable by the model and save the results in test_data\n",
    "test_data = None"
   ]
  },
  {
   "cell_type": "markdown",
   "metadata": {},
   "source": [
    "Now that we have processed the review, we can send the resulting array to our model to predict the sentiment of the review."
   ]
  },
  {
   "cell_type": "code",
   "execution_count": 38,
   "metadata": {},
   "outputs": [
    {
     "ename": "ModelError",
     "evalue": "An error occurred (ModelError) when calling the InvokeEndpoint operation: Received server error (500) from model with message \"<!DOCTYPE HTML PUBLIC \"-//W3C//DTD HTML 3.2 Final//EN\">\n<title>500 Internal Server Error</title>\n<h1>Internal Server Error</h1>\n<p>The server encountered an internal error and was unable to complete your request.  Either the server is overloaded or there is an error in the application.</p>\n\". See https://us-east-2.console.aws.amazon.com/cloudwatch/home?region=us-east-2#logEventViewer:group=/aws/sagemaker/Endpoints/sagemaker-pytorch-2020-10-16-18-38-08-498 in account 276685873644 for more information.",
     "output_type": "error",
     "traceback": [
      "\u001b[0;31m---------------------------------------------------------------------------\u001b[0m",
      "\u001b[0;31mModelError\u001b[0m                                Traceback (most recent call last)",
      "\u001b[0;32m<ipython-input-38-61ff0951d88d>\u001b[0m in \u001b[0;36m<module>\u001b[0;34m\u001b[0m\n\u001b[0;32m----> 1\u001b[0;31m \u001b[0mpredictor\u001b[0m\u001b[0;34m.\u001b[0m\u001b[0mpredict\u001b[0m\u001b[0;34m(\u001b[0m\u001b[0mtest_data\u001b[0m\u001b[0;34m)\u001b[0m\u001b[0;34m\u001b[0m\u001b[0;34m\u001b[0m\u001b[0m\n\u001b[0m",
      "\u001b[0;32m~/anaconda3/envs/pytorch_p36/lib/python3.6/site-packages/sagemaker/predictor.py\u001b[0m in \u001b[0;36mpredict\u001b[0;34m(self, data, initial_args, target_model, target_variant)\u001b[0m\n\u001b[1;32m    111\u001b[0m \u001b[0;34m\u001b[0m\u001b[0m\n\u001b[1;32m    112\u001b[0m         \u001b[0mrequest_args\u001b[0m \u001b[0;34m=\u001b[0m \u001b[0mself\u001b[0m\u001b[0;34m.\u001b[0m\u001b[0m_create_request_args\u001b[0m\u001b[0;34m(\u001b[0m\u001b[0mdata\u001b[0m\u001b[0;34m,\u001b[0m \u001b[0minitial_args\u001b[0m\u001b[0;34m,\u001b[0m \u001b[0mtarget_model\u001b[0m\u001b[0;34m,\u001b[0m \u001b[0mtarget_variant\u001b[0m\u001b[0;34m)\u001b[0m\u001b[0;34m\u001b[0m\u001b[0;34m\u001b[0m\u001b[0m\n\u001b[0;32m--> 113\u001b[0;31m         \u001b[0mresponse\u001b[0m \u001b[0;34m=\u001b[0m \u001b[0mself\u001b[0m\u001b[0;34m.\u001b[0m\u001b[0msagemaker_session\u001b[0m\u001b[0;34m.\u001b[0m\u001b[0msagemaker_runtime_client\u001b[0m\u001b[0;34m.\u001b[0m\u001b[0minvoke_endpoint\u001b[0m\u001b[0;34m(\u001b[0m\u001b[0;34m**\u001b[0m\u001b[0mrequest_args\u001b[0m\u001b[0;34m)\u001b[0m\u001b[0;34m\u001b[0m\u001b[0;34m\u001b[0m\u001b[0m\n\u001b[0m\u001b[1;32m    114\u001b[0m         \u001b[0;32mreturn\u001b[0m \u001b[0mself\u001b[0m\u001b[0;34m.\u001b[0m\u001b[0m_handle_response\u001b[0m\u001b[0;34m(\u001b[0m\u001b[0mresponse\u001b[0m\u001b[0;34m)\u001b[0m\u001b[0;34m\u001b[0m\u001b[0;34m\u001b[0m\u001b[0m\n\u001b[1;32m    115\u001b[0m \u001b[0;34m\u001b[0m\u001b[0m\n",
      "\u001b[0;32m~/anaconda3/envs/pytorch_p36/lib/python3.6/site-packages/botocore/client.py\u001b[0m in \u001b[0;36m_api_call\u001b[0;34m(self, *args, **kwargs)\u001b[0m\n\u001b[1;32m    335\u001b[0m                     \"%s() only accepts keyword arguments.\" % py_operation_name)\n\u001b[1;32m    336\u001b[0m             \u001b[0;31m# The \"self\" in this scope is referring to the BaseClient.\u001b[0m\u001b[0;34m\u001b[0m\u001b[0;34m\u001b[0m\u001b[0;34m\u001b[0m\u001b[0m\n\u001b[0;32m--> 337\u001b[0;31m             \u001b[0;32mreturn\u001b[0m \u001b[0mself\u001b[0m\u001b[0;34m.\u001b[0m\u001b[0m_make_api_call\u001b[0m\u001b[0;34m(\u001b[0m\u001b[0moperation_name\u001b[0m\u001b[0;34m,\u001b[0m \u001b[0mkwargs\u001b[0m\u001b[0;34m)\u001b[0m\u001b[0;34m\u001b[0m\u001b[0;34m\u001b[0m\u001b[0m\n\u001b[0m\u001b[1;32m    338\u001b[0m \u001b[0;34m\u001b[0m\u001b[0m\n\u001b[1;32m    339\u001b[0m         \u001b[0m_api_call\u001b[0m\u001b[0;34m.\u001b[0m\u001b[0m__name__\u001b[0m \u001b[0;34m=\u001b[0m \u001b[0mstr\u001b[0m\u001b[0;34m(\u001b[0m\u001b[0mpy_operation_name\u001b[0m\u001b[0;34m)\u001b[0m\u001b[0;34m\u001b[0m\u001b[0;34m\u001b[0m\u001b[0m\n",
      "\u001b[0;32m~/anaconda3/envs/pytorch_p36/lib/python3.6/site-packages/botocore/client.py\u001b[0m in \u001b[0;36m_make_api_call\u001b[0;34m(self, operation_name, api_params)\u001b[0m\n\u001b[1;32m    654\u001b[0m             \u001b[0merror_code\u001b[0m \u001b[0;34m=\u001b[0m \u001b[0mparsed_response\u001b[0m\u001b[0;34m.\u001b[0m\u001b[0mget\u001b[0m\u001b[0;34m(\u001b[0m\u001b[0;34m\"Error\"\u001b[0m\u001b[0;34m,\u001b[0m \u001b[0;34m{\u001b[0m\u001b[0;34m}\u001b[0m\u001b[0;34m)\u001b[0m\u001b[0;34m.\u001b[0m\u001b[0mget\u001b[0m\u001b[0;34m(\u001b[0m\u001b[0;34m\"Code\"\u001b[0m\u001b[0;34m)\u001b[0m\u001b[0;34m\u001b[0m\u001b[0;34m\u001b[0m\u001b[0m\n\u001b[1;32m    655\u001b[0m             \u001b[0merror_class\u001b[0m \u001b[0;34m=\u001b[0m \u001b[0mself\u001b[0m\u001b[0;34m.\u001b[0m\u001b[0mexceptions\u001b[0m\u001b[0;34m.\u001b[0m\u001b[0mfrom_code\u001b[0m\u001b[0;34m(\u001b[0m\u001b[0merror_code\u001b[0m\u001b[0;34m)\u001b[0m\u001b[0;34m\u001b[0m\u001b[0;34m\u001b[0m\u001b[0m\n\u001b[0;32m--> 656\u001b[0;31m             \u001b[0;32mraise\u001b[0m \u001b[0merror_class\u001b[0m\u001b[0;34m(\u001b[0m\u001b[0mparsed_response\u001b[0m\u001b[0;34m,\u001b[0m \u001b[0moperation_name\u001b[0m\u001b[0;34m)\u001b[0m\u001b[0;34m\u001b[0m\u001b[0;34m\u001b[0m\u001b[0m\n\u001b[0m\u001b[1;32m    657\u001b[0m         \u001b[0;32melse\u001b[0m\u001b[0;34m:\u001b[0m\u001b[0;34m\u001b[0m\u001b[0;34m\u001b[0m\u001b[0m\n\u001b[1;32m    658\u001b[0m             \u001b[0;32mreturn\u001b[0m \u001b[0mparsed_response\u001b[0m\u001b[0;34m\u001b[0m\u001b[0;34m\u001b[0m\u001b[0m\n",
      "\u001b[0;31mModelError\u001b[0m: An error occurred (ModelError) when calling the InvokeEndpoint operation: Received server error (500) from model with message \"<!DOCTYPE HTML PUBLIC \"-//W3C//DTD HTML 3.2 Final//EN\">\n<title>500 Internal Server Error</title>\n<h1>Internal Server Error</h1>\n<p>The server encountered an internal error and was unable to complete your request.  Either the server is overloaded or there is an error in the application.</p>\n\". See https://us-east-2.console.aws.amazon.com/cloudwatch/home?region=us-east-2#logEventViewer:group=/aws/sagemaker/Endpoints/sagemaker-pytorch-2020-10-16-18-38-08-498 in account 276685873644 for more information."
     ]
    }
   ],
   "source": [
    "predictor.predict(test_data)"
   ]
  },
  {
   "cell_type": "markdown",
   "metadata": {},
   "source": [
    "Since the return value of our model is close to `1`, we can be certain that the review we submitted is positive."
   ]
  },
  {
   "cell_type": "markdown",
   "metadata": {},
   "source": [
    "### Delete the endpoint\n",
    "\n",
    "Of course, just like in the XGBoost notebook, once we've deployed an endpoint it continues to run until we tell it to shut down. Since we are done using our endpoint for now, we can delete it."
   ]
  },
  {
   "cell_type": "code",
   "execution_count": null,
   "metadata": {},
   "outputs": [],
   "source": [
    "estimator.delete_endpoint()"
   ]
  },
  {
   "cell_type": "markdown",
   "metadata": {},
   "source": [
    "## Step 6 (again) - Deploy the model for the web app\n",
    "\n",
    "Now that we know that our model is working, it's time to create some custom inference code so that we can send the model a review which has not been processed and have it determine the sentiment of the review.\n",
    "\n",
    "As we saw above, by default the estimator which we created, when deployed, will use the entry script and directory which we provided when creating the model. However, since we now wish to accept a string as input and our model expects a processed review, we need to write some custom inference code.\n",
    "\n",
    "We will store the code that we write in the `serve` directory. Provided in this directory is the `model.py` file that we used to construct our model, a `utils.py` file which contains the `review_to_words` and `convert_and_pad` pre-processing functions which we used during the initial data processing, and `predict.py`, the file which will contain our custom inference code. Note also that `requirements.txt` is present which will tell SageMaker what Python libraries are required by our custom inference code.\n",
    "\n",
    "When deploying a PyTorch model in SageMaker, you are expected to provide four functions which the SageMaker inference container will use.\n",
    " - `model_fn`: This function is the same function that we used in the training script and it tells SageMaker how to load our model.\n",
    " - `input_fn`: This function receives the raw serialized input that has been sent to the model's endpoint and its job is to de-serialize and make the input available for the inference code.\n",
    " - `output_fn`: This function takes the output of the inference code and its job is to serialize this output and return it to the caller of the model's endpoint.\n",
    " - `predict_fn`: The heart of the inference script, this is where the actual prediction is done and is the function which you will need to complete.\n",
    "\n",
    "For the simple website that we are constructing during this project, the `input_fn` and `output_fn` methods are relatively straightforward. We only require being able to accept a string as input and we expect to return a single value as output. You might imagine though that in a more complex application the input or output may be image data or some other binary data which would require some effort to serialize.\n",
    "\n",
    "### (TODO) Writing inference code\n",
    "\n",
    "Before writing our custom inference code, we will begin by taking a look at the code which has been provided."
   ]
  },
  {
   "cell_type": "code",
   "execution_count": null,
   "metadata": {},
   "outputs": [],
   "source": [
    "!pygmentize serve/predict.py"
   ]
  },
  {
   "cell_type": "markdown",
   "metadata": {},
   "source": [
    "As mentioned earlier, the `model_fn` method is the same as the one provided in the training code and the `input_fn` and `output_fn` methods are very simple and your task will be to complete the `predict_fn` method. Make sure that you save the completed file as `predict.py` in the `serve` directory.\n",
    "\n",
    "**TODO**: Complete the `predict_fn()` method in the `serve/predict.py` file."
   ]
  },
  {
   "cell_type": "markdown",
   "metadata": {},
   "source": [
    "### Deploying the model\n",
    "\n",
    "Now that the custom inference code has been written, we will create and deploy our model. To begin with, we need to construct a new PyTorchModel object which points to the model artifacts created during training and also points to the inference code that we wish to use. Then we can call the deploy method to launch the deployment container.\n",
    "\n",
    "**NOTE**: The default behaviour for a deployed PyTorch model is to assume that any input passed to the predictor is a `numpy` array. In our case we want to send a string so we need to construct a simple wrapper around the `RealTimePredictor` class to accomodate simple strings. In a more complicated situation you may want to provide a serialization object, for example if you wanted to sent image data."
   ]
  },
  {
   "cell_type": "code",
   "execution_count": null,
   "metadata": {},
   "outputs": [],
   "source": [
    "from sagemaker.predictor import RealTimePredictor\n",
    "from sagemaker.pytorch import PyTorchModel\n",
    "\n",
    "class StringPredictor(RealTimePredictor):\n",
    "    def __init__(self, endpoint_name, sagemaker_session):\n",
    "        super(StringPredictor, self).__init__(endpoint_name, sagemaker_session, content_type='text/plain')\n",
    "\n",
    "model = PyTorchModel(model_data=estimator.model_data,\n",
    "                     role = role,\n",
    "                     framework_version='0.4.0',\n",
    "                     entry_point='predict.py',\n",
    "                     source_dir='serve',\n",
    "                     predictor_cls=StringPredictor)\n",
    "predictor = model.deploy(initial_instance_count=1, instance_type='ml.m4.xlarge')"
   ]
  },
  {
   "cell_type": "markdown",
   "metadata": {},
   "source": [
    "### Testing the model\n",
    "\n",
    "Now that we have deployed our model with the custom inference code, we should test to see if everything is working. Here we test our model by loading the first `250` positive and negative reviews and send them to the endpoint, then collect the results. The reason for only sending some of the data is that the amount of time it takes for our model to process the input and then perform inference is quite long and so testing the entire data set would be prohibitive."
   ]
  },
  {
   "cell_type": "code",
   "execution_count": null,
   "metadata": {},
   "outputs": [],
   "source": [
    "import glob\n",
    "\n",
    "def test_reviews(data_dir='../data/aclImdb', stop=250):\n",
    "    \n",
    "    results = []\n",
    "    ground = []\n",
    "    \n",
    "    # We make sure to test both positive and negative reviews    \n",
    "    for sentiment in ['pos', 'neg']:\n",
    "        \n",
    "        path = os.path.join(data_dir, 'test', sentiment, '*.txt')\n",
    "        files = glob.glob(path)\n",
    "        \n",
    "        files_read = 0\n",
    "        \n",
    "        print('Starting ', sentiment, ' files')\n",
    "        \n",
    "        # Iterate through the files and send them to the predictor\n",
    "        for f in files:\n",
    "            with open(f) as review:\n",
    "                # First, we store the ground truth (was the review positive or negative)\n",
    "                if sentiment == 'pos':\n",
    "                    ground.append(1)\n",
    "                else:\n",
    "                    ground.append(0)\n",
    "                # Read in the review and convert to 'utf-8' for transmission via HTTP\n",
    "                review_input = review.read().encode('utf-8')\n",
    "                # Send the review to the predictor and store the results\n",
    "                results.append(int(predictor.predict(review_input)))\n",
    "                \n",
    "            # Sending reviews to our endpoint one at a time takes a while so we\n",
    "            # only send a small number of reviews\n",
    "            files_read += 1\n",
    "            if files_read == stop:\n",
    "                break\n",
    "            \n",
    "    return ground, results"
   ]
  },
  {
   "cell_type": "code",
   "execution_count": null,
   "metadata": {},
   "outputs": [],
   "source": [
    "ground, results = test_reviews()"
   ]
  },
  {
   "cell_type": "code",
   "execution_count": null,
   "metadata": {},
   "outputs": [],
   "source": [
    "from sklearn.metrics import accuracy_score\n",
    "accuracy_score(ground, results)"
   ]
  },
  {
   "cell_type": "markdown",
   "metadata": {},
   "source": [
    "As an additional test, we can try sending the `test_review` that we looked at earlier."
   ]
  },
  {
   "cell_type": "code",
   "execution_count": null,
   "metadata": {},
   "outputs": [],
   "source": [
    "predictor.predict(test_review)"
   ]
  },
  {
   "cell_type": "markdown",
   "metadata": {},
   "source": [
    "Now that we know our endpoint is working as expected, we can set up the web page that will interact with it. If you don't have time to finish the project now, make sure to skip down to the end of this notebook and shut down your endpoint. You can deploy it again when you come back."
   ]
  },
  {
   "cell_type": "markdown",
   "metadata": {},
   "source": [
    "## Step 7 (again): Use the model for the web app\n",
    "\n",
    "> **TODO:** This entire section and the next contain tasks for you to complete, mostly using the AWS console.\n",
    "\n",
    "So far we have been accessing our model endpoint by constructing a predictor object which uses the endpoint and then just using the predictor object to perform inference. What if we wanted to create a web app which accessed our model? The way things are set up currently makes that not possible since in order to access a SageMaker endpoint the app would first have to authenticate with AWS using an IAM role which included access to SageMaker endpoints. However, there is an easier way! We just need to use some additional AWS services.\n",
    "\n",
    "<img src=\"Web App Diagram.svg\">\n",
    "\n",
    "The diagram above gives an overview of how the various services will work together. On the far right is the model which we trained above and which is deployed using SageMaker. On the far left is our web app that collects a user's movie review, sends it off and expects a positive or negative sentiment in return.\n",
    "\n",
    "In the middle is where some of the magic happens. We will construct a Lambda function, which you can think of as a straightforward Python function that can be executed whenever a specified event occurs. We will give this function permission to send and recieve data from a SageMaker endpoint.\n",
    "\n",
    "Lastly, the method we will use to execute the Lambda function is a new endpoint that we will create using API Gateway. This endpoint will be a url that listens for data to be sent to it. Once it gets some data it will pass that data on to the Lambda function and then return whatever the Lambda function returns. Essentially it will act as an interface that lets our web app communicate with the Lambda function.\n",
    "\n",
    "### Setting up a Lambda function\n",
    "\n",
    "The first thing we are going to do is set up a Lambda function. This Lambda function will be executed whenever our public API has data sent to it. When it is executed it will receive the data, perform any sort of processing that is required, send the data (the review) to the SageMaker endpoint we've created and then return the result.\n",
    "\n",
    "#### Part A: Create an IAM Role for the Lambda function\n",
    "\n",
    "Since we want the Lambda function to call a SageMaker endpoint, we need to make sure that it has permission to do so. To do this, we will construct a role that we can later give the Lambda function.\n",
    "\n",
    "Using the AWS Console, navigate to the **IAM** page and click on **Roles**. Then, click on **Create role**. Make sure that the **AWS service** is the type of trusted entity selected and choose **Lambda** as the service that will use this role, then click **Next: Permissions**.\n",
    "\n",
    "In the search box type `sagemaker` and select the check box next to the **AmazonSageMakerFullAccess** policy. Then, click on **Next: Review**.\n",
    "\n",
    "Lastly, give this role a name. Make sure you use a name that you will remember later on, for example `LambdaSageMakerRole`. Then, click on **Create role**.\n",
    "\n",
    "#### Part B: Create a Lambda function\n",
    "\n",
    "Now it is time to actually create the Lambda function.\n",
    "\n",
    "Using the AWS Console, navigate to the AWS Lambda page and click on **Create a function**. When you get to the next page, make sure that **Author from scratch** is selected. Now, name your Lambda function, using a name that you will remember later on, for example `sentiment_analysis_func`. Make sure that the **Python 3.6** runtime is selected and then choose the role that you created in the previous part. Then, click on **Create Function**.\n",
    "\n",
    "On the next page you will see some information about the Lambda function you've just created. If you scroll down you should see an editor in which you can write the code that will be executed when your Lambda function is triggered. In our example, we will use the code below. \n",
    "\n",
    "```python\n",
    "# We need to use the low-level library to interact with SageMaker since the SageMaker API\n",
    "# is not available natively through Lambda.\n",
    "import boto3\n",
    "\n",
    "def lambda_handler(event, context):\n",
    "\n",
    "    # The SageMaker runtime is what allows us to invoke the endpoint that we've created.\n",
    "    runtime = boto3.Session().client('sagemaker-runtime')\n",
    "\n",
    "    # Now we use the SageMaker runtime to invoke our endpoint, sending the review we were given\n",
    "    response = runtime.invoke_endpoint(EndpointName = '**ENDPOINT NAME HERE**',    # The name of the endpoint we created\n",
    "                                       ContentType = 'text/plain',                 # The data format that is expected\n",
    "                                       Body = event['body'])                       # The actual review\n",
    "\n",
    "    # The response is an HTTP response whose body contains the result of our inference\n",
    "    result = response['Body'].read().decode('utf-8')\n",
    "\n",
    "    return {\n",
    "        'statusCode' : 200,\n",
    "        'headers' : { 'Content-Type' : 'text/plain', 'Access-Control-Allow-Origin' : '*' },\n",
    "        'body' : result\n",
    "    }\n",
    "```\n",
    "\n",
    "Once you have copy and pasted the code above into the Lambda code editor, replace the `**ENDPOINT NAME HERE**` portion with the name of the endpoint that we deployed earlier. You can determine the name of the endpoint using the code cell below."
   ]
  },
  {
   "cell_type": "code",
   "execution_count": null,
   "metadata": {},
   "outputs": [],
   "source": [
    "predictor.endpoint"
   ]
  },
  {
   "cell_type": "markdown",
   "metadata": {},
   "source": [
    "Once you have added the endpoint name to the Lambda function, click on **Save**. Your Lambda function is now up and running. Next we need to create a way for our web app to execute the Lambda function.\n",
    "\n",
    "### Setting up API Gateway\n",
    "\n",
    "Now that our Lambda function is set up, it is time to create a new API using API Gateway that will trigger the Lambda function we have just created.\n",
    "\n",
    "Using AWS Console, navigate to **Amazon API Gateway** and then click on **Get started**.\n",
    "\n",
    "On the next page, make sure that **New API** is selected and give the new api a name, for example, `sentiment_analysis_api`. Then, click on **Create API**.\n",
    "\n",
    "Now we have created an API, however it doesn't currently do anything. What we want it to do is to trigger the Lambda function that we created earlier.\n",
    "\n",
    "Select the **Actions** dropdown menu and click **Create Method**. A new blank method will be created, select its dropdown menu and select **POST**, then click on the check mark beside it.\n",
    "\n",
    "For the integration point, make sure that **Lambda Function** is selected and click on the **Use Lambda Proxy integration**. This option makes sure that the data that is sent to the API is then sent directly to the Lambda function with no processing. It also means that the return value must be a proper response object as it will also not be processed by API Gateway.\n",
    "\n",
    "Type the name of the Lambda function you created earlier into the **Lambda Function** text entry box and then click on **Save**. Click on **OK** in the pop-up box that then appears, giving permission to API Gateway to invoke the Lambda function you created.\n",
    "\n",
    "The last step in creating the API Gateway is to select the **Actions** dropdown and click on **Deploy API**. You will need to create a new Deployment stage and name it anything you like, for example `prod`.\n",
    "\n",
    "You have now successfully set up a public API to access your SageMaker model. Make sure to copy or write down the URL provided to invoke your newly created public API as this will be needed in the next step. This URL can be found at the top of the page, highlighted in blue next to the text **Invoke URL**."
   ]
  },
  {
   "cell_type": "markdown",
   "metadata": {},
   "source": [
    "## Step 4: Deploying our web app\n",
    "\n",
    "Now that we have a publicly available API, we can start using it in a web app. For our purposes, we have provided a simple static html file which can make use of the public api you created earlier.\n",
    "\n",
    "In the `website` folder there should be a file called `index.html`. Download the file to your computer and open that file up in a text editor of your choice. There should be a line which contains **\\*\\*REPLACE WITH PUBLIC API URL\\*\\***. Replace this string with the url that you wrote down in the last step and then save the file.\n",
    "\n",
    "Now, if you open `index.html` on your local computer, your browser will behave as a local web server and you can use the provided site to interact with your SageMaker model.\n",
    "\n",
    "If you'd like to go further, you can host this html file anywhere you'd like, for example using github or hosting a static site on Amazon's S3. Once you have done this you can share the link with anyone you'd like and have them play with it too!\n",
    "\n",
    "> **Important Note** In order for the web app to communicate with the SageMaker endpoint, the endpoint has to actually be deployed and running. This means that you are paying for it. Make sure that the endpoint is running when you want to use the web app but that you shut it down when you don't need it, otherwise you will end up with a surprisingly large AWS bill.\n",
    "\n",
    "**TODO:** Make sure that you include the edited `index.html` file in your project submission."
   ]
  },
  {
   "cell_type": "markdown",
   "metadata": {},
   "source": [
    "Now that your web app is working, trying playing around with it and see how well it works.\n",
    "\n",
    "**Question**: Give an example of a review that you entered into your web app. What was the predicted sentiment of your example review?"
   ]
  },
  {
   "cell_type": "markdown",
   "metadata": {},
   "source": [
    "**Answer:**"
   ]
  },
  {
   "cell_type": "markdown",
   "metadata": {},
   "source": [
    "### Delete the endpoint\n",
    "\n",
    "Remember to always shut down your endpoint if you are no longer using it. You are charged for the length of time that the endpoint is running so if you forget and leave it on you could end up with an unexpectedly large bill."
   ]
  },
  {
   "cell_type": "code",
   "execution_count": null,
   "metadata": {},
   "outputs": [],
   "source": [
    "predictor.delete_endpoint()"
   ]
  },
  {
   "cell_type": "code",
   "execution_count": null,
   "metadata": {},
   "outputs": [],
   "source": []
  }
 ],
 "metadata": {
  "kernelspec": {
   "display_name": "conda_pytorch_p36",
   "language": "python",
   "name": "conda_pytorch_p36"
  },
  "language_info": {
   "codemirror_mode": {
    "name": "ipython",
    "version": 3
   },
   "file_extension": ".py",
   "mimetype": "text/x-python",
   "name": "python",
   "nbconvert_exporter": "python",
   "pygments_lexer": "ipython3",
   "version": "3.6.10"
  }
 },
 "nbformat": 4,
 "nbformat_minor": 2
}
